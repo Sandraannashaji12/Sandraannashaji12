{
 "cells": [
  {
   "cell_type": "markdown",
   "metadata": {
    "id": "evZfDQHL0NED"
   },
   "source": [
    "#Loksabha Election 2019 Data Analysis in India\n"
   ]
  },
  {
   "cell_type": "markdown",
   "metadata": {
    "id": "mnlynkfi0iCS"
   },
   "source": [
    "#Importing the Libraries:"
   ]
  },
  {
   "cell_type": "code",
   "execution_count": 1,
   "metadata": {
    "id": "-YGJQqfoCpo_"
   },
   "outputs": [],
   "source": [
    "import numpy as np\n",
    "import pandas as pd\n",
    "import matplotlib.pyplot as plt\n",
    "import seaborn as sns\n"
   ]
  },
  {
   "cell_type": "markdown",
   "metadata": {
    "id": "WxXuNunY1QRb"
   },
   "source": [
    "#Loading the Files"
   ]
  },
  {
   "cell_type": "code",
   "execution_count": 2,
   "metadata": {
    "id": "qgd4750ADX12"
   },
   "outputs": [],
   "source": [
    "import io\n",
    "df2 = pd.read_csv('29State_Election.csv')"
   ]
  },
  {
   "cell_type": "markdown",
   "metadata": {
    "id": "vD6qaCfo1XHB"
   },
   "source": [
    "#Displaying the Data"
   ]
  },
  {
   "cell_type": "code",
   "execution_count": 3,
   "metadata": {
    "colab": {
     "base_uri": "https://localhost:8080/",
     "height": 415
    },
    "id": "Y_7Wn5y8DybO",
    "outputId": "c04ce6f2-0d11-4e8d-aa73-f2ecc78026e0"
   },
   "outputs": [
    {
     "data": {
      "text/html": [
       "<div>\n",
       "<style scoped>\n",
       "    .dataframe tbody tr th:only-of-type {\n",
       "        vertical-align: middle;\n",
       "    }\n",
       "\n",
       "    .dataframe tbody tr th {\n",
       "        vertical-align: top;\n",
       "    }\n",
       "\n",
       "    .dataframe thead th {\n",
       "        text-align: right;\n",
       "    }\n",
       "</style>\n",
       "<table border=\"1\" class=\"dataframe\">\n",
       "  <thead>\n",
       "    <tr style=\"text-align: right;\">\n",
       "      <th></th>\n",
       "      <th>Sl No:</th>\n",
       "      <th>STATE</th>\n",
       "      <th>CONSTITUENCY</th>\n",
       "      <th>NAME</th>\n",
       "      <th>WINNER</th>\n",
       "      <th>PARTY</th>\n",
       "      <th>SYMBOL</th>\n",
       "      <th>GENDER</th>\n",
       "      <th>CRIMINAL\\nCASES</th>\n",
       "      <th>AGE</th>\n",
       "      <th>...</th>\n",
       "      <th>EDUCATION</th>\n",
       "      <th>GRADUATE</th>\n",
       "      <th>ASSETS</th>\n",
       "      <th>LIABILITIES</th>\n",
       "      <th>GENERAL\\nVOTES</th>\n",
       "      <th>POSTAL\\nVOTES</th>\n",
       "      <th>TOTAL\\nVOTES</th>\n",
       "      <th>OVER TOTAL ELECTORS \\nIN CONSTITUENCY</th>\n",
       "      <th>OVER TOTAL VOTES POLLED \\nIN CONSTITUENCY</th>\n",
       "      <th>TOTAL ELECTORS</th>\n",
       "    </tr>\n",
       "  </thead>\n",
       "  <tbody>\n",
       "    <tr>\n",
       "      <th>0</th>\n",
       "      <td>1</td>\n",
       "      <td>Telangana</td>\n",
       "      <td>ADILABAD</td>\n",
       "      <td>SOYAM BAPU RAO</td>\n",
       "      <td>1</td>\n",
       "      <td>BJP</td>\n",
       "      <td>Lotus</td>\n",
       "      <td>MALE</td>\n",
       "      <td>52</td>\n",
       "      <td>52.0</td>\n",
       "      <td>...</td>\n",
       "      <td>12th Pass</td>\n",
       "      <td>0.0</td>\n",
       "      <td>Rs 30,99,414\\n ~ 30 Lacs+</td>\n",
       "      <td>Rs 2,31,450\\n ~ 2 Lacs+</td>\n",
       "      <td>376892</td>\n",
       "      <td>482</td>\n",
       "      <td>377374</td>\n",
       "      <td>25.330684</td>\n",
       "      <td>35.468248</td>\n",
       "      <td>1489790</td>\n",
       "    </tr>\n",
       "    <tr>\n",
       "      <th>1</th>\n",
       "      <td>2</td>\n",
       "      <td>Telangana</td>\n",
       "      <td>ADILABAD</td>\n",
       "      <td>Godam Nagesh</td>\n",
       "      <td>0</td>\n",
       "      <td>TRS</td>\n",
       "      <td>Car</td>\n",
       "      <td>MALE</td>\n",
       "      <td>0</td>\n",
       "      <td>54.0</td>\n",
       "      <td>...</td>\n",
       "      <td>Post Graduate</td>\n",
       "      <td>1.0</td>\n",
       "      <td>Rs 1,84,77,888\\n ~ 1 Crore+</td>\n",
       "      <td>Rs 8,47,000\\n ~ 8 Lacs+</td>\n",
       "      <td>318665</td>\n",
       "      <td>149</td>\n",
       "      <td>318814</td>\n",
       "      <td>21.399929</td>\n",
       "      <td>29.964370</td>\n",
       "      <td>1489790</td>\n",
       "    </tr>\n",
       "    <tr>\n",
       "      <th>2</th>\n",
       "      <td>3</td>\n",
       "      <td>Telangana</td>\n",
       "      <td>ADILABAD</td>\n",
       "      <td>RATHOD RAMESH</td>\n",
       "      <td>0</td>\n",
       "      <td>INC</td>\n",
       "      <td>Hand</td>\n",
       "      <td>MALE</td>\n",
       "      <td>3</td>\n",
       "      <td>52.0</td>\n",
       "      <td>...</td>\n",
       "      <td>12th Pass</td>\n",
       "      <td>0.0</td>\n",
       "      <td>Rs 3,64,91,000\\n ~ 3 Crore+</td>\n",
       "      <td>Rs 1,53,00,000\\n ~ 1 Crore+</td>\n",
       "      <td>314057</td>\n",
       "      <td>181</td>\n",
       "      <td>314238</td>\n",
       "      <td>21.092771</td>\n",
       "      <td>29.534285</td>\n",
       "      <td>1489790</td>\n",
       "    </tr>\n",
       "    <tr>\n",
       "      <th>3</th>\n",
       "      <td>4</td>\n",
       "      <td>Telangana</td>\n",
       "      <td>ADILABAD</td>\n",
       "      <td>NOTA</td>\n",
       "      <td>0</td>\n",
       "      <td>NOTA</td>\n",
       "      <td>NaN</td>\n",
       "      <td>NaN</td>\n",
       "      <td>NaN</td>\n",
       "      <td>NaN</td>\n",
       "      <td>...</td>\n",
       "      <td>NaN</td>\n",
       "      <td>NaN</td>\n",
       "      <td>NaN</td>\n",
       "      <td>NaN</td>\n",
       "      <td>13030</td>\n",
       "      <td>6</td>\n",
       "      <td>13036</td>\n",
       "      <td>0.875023</td>\n",
       "      <td>1.225214</td>\n",
       "      <td>1489790</td>\n",
       "    </tr>\n",
       "    <tr>\n",
       "      <th>4</th>\n",
       "      <td>5</td>\n",
       "      <td>Uttar Pradesh</td>\n",
       "      <td>AGRA</td>\n",
       "      <td>Satyapal Singh Baghel</td>\n",
       "      <td>1</td>\n",
       "      <td>BJP</td>\n",
       "      <td>Lotus</td>\n",
       "      <td>MALE</td>\n",
       "      <td>5</td>\n",
       "      <td>58.0</td>\n",
       "      <td>...</td>\n",
       "      <td>Doctorate</td>\n",
       "      <td>1.0</td>\n",
       "      <td>Rs 7,42,74,036\\n ~ 7 Crore+</td>\n",
       "      <td>Rs 86,06,522\\n ~ 86 Lacs+</td>\n",
       "      <td>644459</td>\n",
       "      <td>2416</td>\n",
       "      <td>646875</td>\n",
       "      <td>33.383823</td>\n",
       "      <td>56.464615</td>\n",
       "      <td>1937690</td>\n",
       "    </tr>\n",
       "  </tbody>\n",
       "</table>\n",
       "<p>5 rows × 21 columns</p>\n",
       "</div>"
      ],
      "text/plain": [
       "   Sl No:          STATE CONSTITUENCY                   NAME  WINNER PARTY  \\\n",
       "0       1      Telangana     ADILABAD         SOYAM BAPU RAO       1   BJP   \n",
       "1       2      Telangana     ADILABAD           Godam Nagesh       0   TRS   \n",
       "2       3      Telangana     ADILABAD          RATHOD RAMESH       0   INC   \n",
       "3       4      Telangana     ADILABAD                   NOTA       0  NOTA   \n",
       "4       5  Uttar Pradesh         AGRA  Satyapal Singh Baghel       1   BJP   \n",
       "\n",
       "  SYMBOL GENDER CRIMINAL\\nCASES   AGE  ...      EDUCATION GRADUATE  \\\n",
       "0  Lotus   MALE              52  52.0  ...      12th Pass      0.0   \n",
       "1    Car   MALE               0  54.0  ...  Post Graduate      1.0   \n",
       "2   Hand   MALE               3  52.0  ...      12th Pass      0.0   \n",
       "3    NaN    NaN             NaN   NaN  ...            NaN      NaN   \n",
       "4  Lotus   MALE               5  58.0  ...      Doctorate      1.0   \n",
       "\n",
       "                        ASSETS                  LIABILITIES GENERAL\\nVOTES  \\\n",
       "0    Rs 30,99,414\\n ~ 30 Lacs+      Rs 2,31,450\\n ~ 2 Lacs+         376892   \n",
       "1  Rs 1,84,77,888\\n ~ 1 Crore+      Rs 8,47,000\\n ~ 8 Lacs+         318665   \n",
       "2  Rs 3,64,91,000\\n ~ 3 Crore+  Rs 1,53,00,000\\n ~ 1 Crore+         314057   \n",
       "3                          NaN                          NaN          13030   \n",
       "4  Rs 7,42,74,036\\n ~ 7 Crore+    Rs 86,06,522\\n ~ 86 Lacs+         644459   \n",
       "\n",
       "   POSTAL\\nVOTES  TOTAL\\nVOTES  OVER TOTAL ELECTORS \\nIN CONSTITUENCY  \\\n",
       "0            482        377374                              25.330684   \n",
       "1            149        318814                              21.399929   \n",
       "2            181        314238                              21.092771   \n",
       "3              6         13036                               0.875023   \n",
       "4           2416        646875                              33.383823   \n",
       "\n",
       "   OVER TOTAL VOTES POLLED \\nIN CONSTITUENCY  TOTAL ELECTORS  \n",
       "0                                  35.468248         1489790  \n",
       "1                                  29.964370         1489790  \n",
       "2                                  29.534285         1489790  \n",
       "3                                   1.225214         1489790  \n",
       "4                                  56.464615         1937690  \n",
       "\n",
       "[5 rows x 21 columns]"
      ]
     },
     "execution_count": 3,
     "metadata": {},
     "output_type": "execute_result"
    }
   ],
   "source": [
    "df2.head()"
   ]
  },
  {
   "cell_type": "code",
   "execution_count": 4,
   "metadata": {
    "id": "UxGsYfpsvLy8"
   },
   "outputs": [],
   "source": [
    "df2.rename(columns={'CRIMINAL\\nCASES': 'criminal'}, inplace=True)"
   ]
  },
  {
   "cell_type": "markdown",
   "metadata": {
    "id": "IYtGIN261eep"
   },
   "source": [
    "#Shape of the Dataset"
   ]
  },
  {
   "cell_type": "code",
   "execution_count": 5,
   "metadata": {
    "colab": {
     "base_uri": "https://localhost:8080/"
    },
    "id": "sK13mHX3D7Kw",
    "outputId": "c2dbad20-74d8-4c5c-d4fb-a8ab4d38a762"
   },
   "outputs": [
    {
     "data": {
      "text/plain": [
       "(2263, 21)"
      ]
     },
     "execution_count": 5,
     "metadata": {},
     "output_type": "execute_result"
    }
   ],
   "source": [
    "df2.shape"
   ]
  },
  {
   "cell_type": "markdown",
   "metadata": {
    "id": "hGzpniPp1njk"
   },
   "source": [
    "#Information about all the collumns in the Dataset"
   ]
  },
  {
   "cell_type": "code",
   "execution_count": 6,
   "metadata": {
    "colab": {
     "base_uri": "https://localhost:8080/"
    },
    "id": "iDMjQbs5EAJ1",
    "outputId": "0166934c-6d70-4a5b-9cbc-f793fa338371"
   },
   "outputs": [
    {
     "name": "stdout",
     "output_type": "stream",
     "text": [
      "<class 'pandas.core.frame.DataFrame'>\n",
      "RangeIndex: 2263 entries, 0 to 2262\n",
      "Data columns (total 21 columns):\n",
      " #   Column                                    Non-Null Count  Dtype  \n",
      "---  ------                                    --------------  -----  \n",
      " 0   Sl No:                                    2263 non-null   int64  \n",
      " 1   STATE                                     2263 non-null   object \n",
      " 2   CONSTITUENCY                              2263 non-null   object \n",
      " 3   NAME                                      2263 non-null   object \n",
      " 4   WINNER                                    2263 non-null   int64  \n",
      " 5   PARTY                                     2263 non-null   object \n",
      " 6   SYMBOL                                    2018 non-null   object \n",
      " 7   GENDER                                    2018 non-null   object \n",
      " 8   criminal                                  2018 non-null   object \n",
      " 9   AGE                                       2018 non-null   float64\n",
      " 10  CATEGORY                                  2018 non-null   object \n",
      " 11  EDUCATION                                 2018 non-null   object \n",
      " 12  GRADUATE                                  2021 non-null   float64\n",
      " 13  ASSETS                                    2018 non-null   object \n",
      " 14  LIABILITIES                               2018 non-null   object \n",
      " 15  GENERAL\n",
      "VOTES                             2263 non-null   int64  \n",
      " 16  POSTAL\n",
      "VOTES                              2263 non-null   int64  \n",
      " 17  TOTAL\n",
      "VOTES                               2263 non-null   int64  \n",
      " 18  OVER TOTAL ELECTORS \n",
      "IN CONSTITUENCY      2263 non-null   float64\n",
      " 19  OVER TOTAL VOTES POLLED \n",
      "IN CONSTITUENCY  2263 non-null   float64\n",
      " 20  TOTAL ELECTORS                            2263 non-null   int64  \n",
      "dtypes: float64(4), int64(6), object(11)\n",
      "memory usage: 371.4+ KB\n"
     ]
    }
   ],
   "source": [
    "df2.info()"
   ]
  },
  {
   "cell_type": "markdown",
   "metadata": {
    "id": "dTa_iUnW12Xp"
   },
   "source": [
    "#Description of Dataset"
   ]
  },
  {
   "cell_type": "code",
   "execution_count": 7,
   "metadata": {
    "colab": {
     "base_uri": "https://localhost:8080/",
     "height": 316
    },
    "id": "09paYLnjEq5R",
    "outputId": "2aff24ff-bec7-4333-9f7f-2d12be71f13b"
   },
   "outputs": [
    {
     "data": {
      "text/html": [
       "<div>\n",
       "<style scoped>\n",
       "    .dataframe tbody tr th:only-of-type {\n",
       "        vertical-align: middle;\n",
       "    }\n",
       "\n",
       "    .dataframe tbody tr th {\n",
       "        vertical-align: top;\n",
       "    }\n",
       "\n",
       "    .dataframe thead th {\n",
       "        text-align: right;\n",
       "    }\n",
       "</style>\n",
       "<table border=\"1\" class=\"dataframe\">\n",
       "  <thead>\n",
       "    <tr style=\"text-align: right;\">\n",
       "      <th></th>\n",
       "      <th>Sl No:</th>\n",
       "      <th>WINNER</th>\n",
       "      <th>AGE</th>\n",
       "      <th>GRADUATE</th>\n",
       "      <th>GENERAL\\nVOTES</th>\n",
       "      <th>POSTAL\\nVOTES</th>\n",
       "      <th>TOTAL\\nVOTES</th>\n",
       "      <th>OVER TOTAL ELECTORS \\nIN CONSTITUENCY</th>\n",
       "      <th>OVER TOTAL VOTES POLLED \\nIN CONSTITUENCY</th>\n",
       "      <th>TOTAL ELECTORS</th>\n",
       "    </tr>\n",
       "  </thead>\n",
       "  <tbody>\n",
       "    <tr>\n",
       "      <th>count</th>\n",
       "      <td>2263.000000</td>\n",
       "      <td>2263.000000</td>\n",
       "      <td>2018.000000</td>\n",
       "      <td>2021.000000</td>\n",
       "      <td>2.263000e+03</td>\n",
       "      <td>2263.000000</td>\n",
       "      <td>2.263000e+03</td>\n",
       "      <td>2263.000000</td>\n",
       "      <td>2263.000000</td>\n",
       "      <td>2.263000e+03</td>\n",
       "    </tr>\n",
       "    <tr>\n",
       "      <th>mean</th>\n",
       "      <td>1132.000000</td>\n",
       "      <td>0.238179</td>\n",
       "      <td>52.273538</td>\n",
       "      <td>0.666007</td>\n",
       "      <td>2.615991e+05</td>\n",
       "      <td>990.710561</td>\n",
       "      <td>2.625898e+05</td>\n",
       "      <td>15.811412</td>\n",
       "      <td>23.190525</td>\n",
       "      <td>1.658016e+06</td>\n",
       "    </tr>\n",
       "    <tr>\n",
       "      <th>std</th>\n",
       "      <td>653.416151</td>\n",
       "      <td>0.426064</td>\n",
       "      <td>11.869373</td>\n",
       "      <td>0.471754</td>\n",
       "      <td>2.549906e+05</td>\n",
       "      <td>1602.839174</td>\n",
       "      <td>2.559822e+05</td>\n",
       "      <td>14.962861</td>\n",
       "      <td>21.564758</td>\n",
       "      <td>3.145187e+05</td>\n",
       "    </tr>\n",
       "    <tr>\n",
       "      <th>min</th>\n",
       "      <td>1.000000</td>\n",
       "      <td>0.000000</td>\n",
       "      <td>25.000000</td>\n",
       "      <td>0.000000</td>\n",
       "      <td>1.339000e+03</td>\n",
       "      <td>0.000000</td>\n",
       "      <td>1.342000e+03</td>\n",
       "      <td>0.097941</td>\n",
       "      <td>1.000039</td>\n",
       "      <td>5.518900e+04</td>\n",
       "    </tr>\n",
       "    <tr>\n",
       "      <th>25%</th>\n",
       "      <td>566.500000</td>\n",
       "      <td>0.000000</td>\n",
       "      <td>43.250000</td>\n",
       "      <td>0.000000</td>\n",
       "      <td>2.103450e+04</td>\n",
       "      <td>57.000000</td>\n",
       "      <td>2.116250e+04</td>\n",
       "      <td>1.296518</td>\n",
       "      <td>1.899502</td>\n",
       "      <td>1.530014e+06</td>\n",
       "    </tr>\n",
       "    <tr>\n",
       "      <th>50%</th>\n",
       "      <td>1132.000000</td>\n",
       "      <td>0.000000</td>\n",
       "      <td>52.000000</td>\n",
       "      <td>1.000000</td>\n",
       "      <td>1.539340e+05</td>\n",
       "      <td>316.000000</td>\n",
       "      <td>1.544890e+05</td>\n",
       "      <td>10.510553</td>\n",
       "      <td>16.221721</td>\n",
       "      <td>1.679030e+06</td>\n",
       "    </tr>\n",
       "    <tr>\n",
       "      <th>75%</th>\n",
       "      <td>1697.500000</td>\n",
       "      <td>0.000000</td>\n",
       "      <td>61.000000</td>\n",
       "      <td>1.000000</td>\n",
       "      <td>4.858040e+05</td>\n",
       "      <td>1385.000000</td>\n",
       "      <td>4.872315e+05</td>\n",
       "      <td>29.468185</td>\n",
       "      <td>42.590233</td>\n",
       "      <td>1.816857e+06</td>\n",
       "    </tr>\n",
       "    <tr>\n",
       "      <th>max</th>\n",
       "      <td>2263.000000</td>\n",
       "      <td>1.000000</td>\n",
       "      <td>86.000000</td>\n",
       "      <td>1.000000</td>\n",
       "      <td>1.066824e+06</td>\n",
       "      <td>19367.000000</td>\n",
       "      <td>1.068569e+06</td>\n",
       "      <td>51.951012</td>\n",
       "      <td>74.411856</td>\n",
       "      <td>3.150313e+06</td>\n",
       "    </tr>\n",
       "  </tbody>\n",
       "</table>\n",
       "</div>"
      ],
      "text/plain": [
       "            Sl No:       WINNER          AGE     GRADUATE  GENERAL\\nVOTES  \\\n",
       "count  2263.000000  2263.000000  2018.000000  2021.000000    2.263000e+03   \n",
       "mean   1132.000000     0.238179    52.273538     0.666007    2.615991e+05   \n",
       "std     653.416151     0.426064    11.869373     0.471754    2.549906e+05   \n",
       "min       1.000000     0.000000    25.000000     0.000000    1.339000e+03   \n",
       "25%     566.500000     0.000000    43.250000     0.000000    2.103450e+04   \n",
       "50%    1132.000000     0.000000    52.000000     1.000000    1.539340e+05   \n",
       "75%    1697.500000     0.000000    61.000000     1.000000    4.858040e+05   \n",
       "max    2263.000000     1.000000    86.000000     1.000000    1.066824e+06   \n",
       "\n",
       "       POSTAL\\nVOTES  TOTAL\\nVOTES  OVER TOTAL ELECTORS \\nIN CONSTITUENCY  \\\n",
       "count    2263.000000  2.263000e+03                            2263.000000   \n",
       "mean      990.710561  2.625898e+05                              15.811412   \n",
       "std      1602.839174  2.559822e+05                              14.962861   \n",
       "min         0.000000  1.342000e+03                               0.097941   \n",
       "25%        57.000000  2.116250e+04                               1.296518   \n",
       "50%       316.000000  1.544890e+05                              10.510553   \n",
       "75%      1385.000000  4.872315e+05                              29.468185   \n",
       "max     19367.000000  1.068569e+06                              51.951012   \n",
       "\n",
       "       OVER TOTAL VOTES POLLED \\nIN CONSTITUENCY  TOTAL ELECTORS  \n",
       "count                                2263.000000    2.263000e+03  \n",
       "mean                                   23.190525    1.658016e+06  \n",
       "std                                    21.564758    3.145187e+05  \n",
       "min                                     1.000039    5.518900e+04  \n",
       "25%                                     1.899502    1.530014e+06  \n",
       "50%                                    16.221721    1.679030e+06  \n",
       "75%                                    42.590233    1.816857e+06  \n",
       "max                                    74.411856    3.150313e+06  "
      ]
     },
     "execution_count": 7,
     "metadata": {},
     "output_type": "execute_result"
    }
   ],
   "source": [
    "df2.describe()"
   ]
  },
  {
   "cell_type": "markdown",
   "metadata": {
    "id": "D1epwqKK1_Ju"
   },
   "source": [
    "#corelation between the Data"
   ]
  },
  {
   "cell_type": "code",
   "execution_count": 8,
   "metadata": {
    "colab": {
     "base_uri": "https://localhost:8080/",
     "height": 385
    },
    "id": "0FrqgIrHFitw",
    "outputId": "06b913aa-219f-411e-9a75-c99251e2d43b"
   },
   "outputs": [
    {
     "data": {
      "text/html": [
       "<div>\n",
       "<style scoped>\n",
       "    .dataframe tbody tr th:only-of-type {\n",
       "        vertical-align: middle;\n",
       "    }\n",
       "\n",
       "    .dataframe tbody tr th {\n",
       "        vertical-align: top;\n",
       "    }\n",
       "\n",
       "    .dataframe thead th {\n",
       "        text-align: right;\n",
       "    }\n",
       "</style>\n",
       "<table border=\"1\" class=\"dataframe\">\n",
       "  <thead>\n",
       "    <tr style=\"text-align: right;\">\n",
       "      <th></th>\n",
       "      <th>Sl No:</th>\n",
       "      <th>WINNER</th>\n",
       "      <th>AGE</th>\n",
       "      <th>GRADUATE</th>\n",
       "      <th>GENERAL\\nVOTES</th>\n",
       "      <th>POSTAL\\nVOTES</th>\n",
       "      <th>TOTAL\\nVOTES</th>\n",
       "      <th>OVER TOTAL ELECTORS \\nIN CONSTITUENCY</th>\n",
       "      <th>OVER TOTAL VOTES POLLED \\nIN CONSTITUENCY</th>\n",
       "      <th>TOTAL ELECTORS</th>\n",
       "    </tr>\n",
       "  </thead>\n",
       "  <tbody>\n",
       "    <tr>\n",
       "      <th>Sl No:</th>\n",
       "      <td>1.000000</td>\n",
       "      <td>-0.017233</td>\n",
       "      <td>-0.033744</td>\n",
       "      <td>-0.014350</td>\n",
       "      <td>-0.038443</td>\n",
       "      <td>-0.020124</td>\n",
       "      <td>-0.038420</td>\n",
       "      <td>-0.032139</td>\n",
       "      <td>-0.035476</td>\n",
       "      <td>0.012005</td>\n",
       "    </tr>\n",
       "    <tr>\n",
       "      <th>WINNER</th>\n",
       "      <td>-0.017233</td>\n",
       "      <td>1.000000</td>\n",
       "      <td>0.110294</td>\n",
       "      <td>0.068850</td>\n",
       "      <td>0.725678</td>\n",
       "      <td>0.520286</td>\n",
       "      <td>0.726125</td>\n",
       "      <td>0.738976</td>\n",
       "      <td>0.757303</td>\n",
       "      <td>0.038107</td>\n",
       "    </tr>\n",
       "    <tr>\n",
       "      <th>AGE</th>\n",
       "      <td>-0.033744</td>\n",
       "      <td>0.110294</td>\n",
       "      <td>1.000000</td>\n",
       "      <td>0.066617</td>\n",
       "      <td>0.208567</td>\n",
       "      <td>0.129360</td>\n",
       "      <td>0.208600</td>\n",
       "      <td>0.207304</td>\n",
       "      <td>0.223700</td>\n",
       "      <td>0.021083</td>\n",
       "    </tr>\n",
       "    <tr>\n",
       "      <th>GRADUATE</th>\n",
       "      <td>-0.014350</td>\n",
       "      <td>0.068850</td>\n",
       "      <td>0.066617</td>\n",
       "      <td>1.000000</td>\n",
       "      <td>0.132050</td>\n",
       "      <td>0.068139</td>\n",
       "      <td>0.131981</td>\n",
       "      <td>0.143112</td>\n",
       "      <td>0.135133</td>\n",
       "      <td>-0.010262</td>\n",
       "    </tr>\n",
       "    <tr>\n",
       "      <th>GENERAL\\nVOTES</th>\n",
       "      <td>-0.038443</td>\n",
       "      <td>0.725678</td>\n",
       "      <td>0.208567</td>\n",
       "      <td>0.132050</td>\n",
       "      <td>1.000000</td>\n",
       "      <td>0.616742</td>\n",
       "      <td>0.999988</td>\n",
       "      <td>0.962219</td>\n",
       "      <td>0.962905</td>\n",
       "      <td>0.211092</td>\n",
       "    </tr>\n",
       "    <tr>\n",
       "      <th>POSTAL\\nVOTES</th>\n",
       "      <td>-0.020124</td>\n",
       "      <td>0.520286</td>\n",
       "      <td>0.129360</td>\n",
       "      <td>0.068139</td>\n",
       "      <td>0.616742</td>\n",
       "      <td>1.000000</td>\n",
       "      <td>0.620614</td>\n",
       "      <td>0.630882</td>\n",
       "      <td>0.634896</td>\n",
       "      <td>0.038453</td>\n",
       "    </tr>\n",
       "    <tr>\n",
       "      <th>TOTAL\\nVOTES</th>\n",
       "      <td>-0.038420</td>\n",
       "      <td>0.726125</td>\n",
       "      <td>0.208600</td>\n",
       "      <td>0.131981</td>\n",
       "      <td>0.999988</td>\n",
       "      <td>0.620614</td>\n",
       "      <td>1.000000</td>\n",
       "      <td>0.962441</td>\n",
       "      <td>0.963150</td>\n",
       "      <td>0.210515</td>\n",
       "    </tr>\n",
       "    <tr>\n",
       "      <th>OVER TOTAL ELECTORS \\nIN CONSTITUENCY</th>\n",
       "      <td>-0.032139</td>\n",
       "      <td>0.738976</td>\n",
       "      <td>0.207304</td>\n",
       "      <td>0.143112</td>\n",
       "      <td>0.962219</td>\n",
       "      <td>0.630882</td>\n",
       "      <td>0.962441</td>\n",
       "      <td>1.000000</td>\n",
       "      <td>0.977416</td>\n",
       "      <td>0.009227</td>\n",
       "    </tr>\n",
       "    <tr>\n",
       "      <th>OVER TOTAL VOTES POLLED \\nIN CONSTITUENCY</th>\n",
       "      <td>-0.035476</td>\n",
       "      <td>0.757303</td>\n",
       "      <td>0.223700</td>\n",
       "      <td>0.135133</td>\n",
       "      <td>0.962905</td>\n",
       "      <td>0.634896</td>\n",
       "      <td>0.963150</td>\n",
       "      <td>0.977416</td>\n",
       "      <td>1.000000</td>\n",
       "      <td>0.072228</td>\n",
       "    </tr>\n",
       "    <tr>\n",
       "      <th>TOTAL ELECTORS</th>\n",
       "      <td>0.012005</td>\n",
       "      <td>0.038107</td>\n",
       "      <td>0.021083</td>\n",
       "      <td>-0.010262</td>\n",
       "      <td>0.211092</td>\n",
       "      <td>0.038453</td>\n",
       "      <td>0.210515</td>\n",
       "      <td>0.009227</td>\n",
       "      <td>0.072228</td>\n",
       "      <td>1.000000</td>\n",
       "    </tr>\n",
       "  </tbody>\n",
       "</table>\n",
       "</div>"
      ],
      "text/plain": [
       "                                             Sl No:    WINNER       AGE  \\\n",
       "Sl No:                                     1.000000 -0.017233 -0.033744   \n",
       "WINNER                                    -0.017233  1.000000  0.110294   \n",
       "AGE                                       -0.033744  0.110294  1.000000   \n",
       "GRADUATE                                  -0.014350  0.068850  0.066617   \n",
       "GENERAL\\nVOTES                            -0.038443  0.725678  0.208567   \n",
       "POSTAL\\nVOTES                             -0.020124  0.520286  0.129360   \n",
       "TOTAL\\nVOTES                              -0.038420  0.726125  0.208600   \n",
       "OVER TOTAL ELECTORS \\nIN CONSTITUENCY     -0.032139  0.738976  0.207304   \n",
       "OVER TOTAL VOTES POLLED \\nIN CONSTITUENCY -0.035476  0.757303  0.223700   \n",
       "TOTAL ELECTORS                             0.012005  0.038107  0.021083   \n",
       "\n",
       "                                           GRADUATE  GENERAL\\nVOTES  \\\n",
       "Sl No:                                    -0.014350       -0.038443   \n",
       "WINNER                                     0.068850        0.725678   \n",
       "AGE                                        0.066617        0.208567   \n",
       "GRADUATE                                   1.000000        0.132050   \n",
       "GENERAL\\nVOTES                             0.132050        1.000000   \n",
       "POSTAL\\nVOTES                              0.068139        0.616742   \n",
       "TOTAL\\nVOTES                               0.131981        0.999988   \n",
       "OVER TOTAL ELECTORS \\nIN CONSTITUENCY      0.143112        0.962219   \n",
       "OVER TOTAL VOTES POLLED \\nIN CONSTITUENCY  0.135133        0.962905   \n",
       "TOTAL ELECTORS                            -0.010262        0.211092   \n",
       "\n",
       "                                           POSTAL\\nVOTES  TOTAL\\nVOTES  \\\n",
       "Sl No:                                         -0.020124     -0.038420   \n",
       "WINNER                                          0.520286      0.726125   \n",
       "AGE                                             0.129360      0.208600   \n",
       "GRADUATE                                        0.068139      0.131981   \n",
       "GENERAL\\nVOTES                                  0.616742      0.999988   \n",
       "POSTAL\\nVOTES                                   1.000000      0.620614   \n",
       "TOTAL\\nVOTES                                    0.620614      1.000000   \n",
       "OVER TOTAL ELECTORS \\nIN CONSTITUENCY           0.630882      0.962441   \n",
       "OVER TOTAL VOTES POLLED \\nIN CONSTITUENCY       0.634896      0.963150   \n",
       "TOTAL ELECTORS                                  0.038453      0.210515   \n",
       "\n",
       "                                           OVER TOTAL ELECTORS \\nIN CONSTITUENCY  \\\n",
       "Sl No:                                                                 -0.032139   \n",
       "WINNER                                                                  0.738976   \n",
       "AGE                                                                     0.207304   \n",
       "GRADUATE                                                                0.143112   \n",
       "GENERAL\\nVOTES                                                          0.962219   \n",
       "POSTAL\\nVOTES                                                           0.630882   \n",
       "TOTAL\\nVOTES                                                            0.962441   \n",
       "OVER TOTAL ELECTORS \\nIN CONSTITUENCY                                   1.000000   \n",
       "OVER TOTAL VOTES POLLED \\nIN CONSTITUENCY                               0.977416   \n",
       "TOTAL ELECTORS                                                          0.009227   \n",
       "\n",
       "                                           OVER TOTAL VOTES POLLED \\nIN CONSTITUENCY  \\\n",
       "Sl No:                                                                     -0.035476   \n",
       "WINNER                                                                      0.757303   \n",
       "AGE                                                                         0.223700   \n",
       "GRADUATE                                                                    0.135133   \n",
       "GENERAL\\nVOTES                                                              0.962905   \n",
       "POSTAL\\nVOTES                                                               0.634896   \n",
       "TOTAL\\nVOTES                                                                0.963150   \n",
       "OVER TOTAL ELECTORS \\nIN CONSTITUENCY                                       0.977416   \n",
       "OVER TOTAL VOTES POLLED \\nIN CONSTITUENCY                                   1.000000   \n",
       "TOTAL ELECTORS                                                              0.072228   \n",
       "\n",
       "                                           TOTAL ELECTORS  \n",
       "Sl No:                                           0.012005  \n",
       "WINNER                                           0.038107  \n",
       "AGE                                              0.021083  \n",
       "GRADUATE                                        -0.010262  \n",
       "GENERAL\\nVOTES                                   0.211092  \n",
       "POSTAL\\nVOTES                                    0.038453  \n",
       "TOTAL\\nVOTES                                     0.210515  \n",
       "OVER TOTAL ELECTORS \\nIN CONSTITUENCY            0.009227  \n",
       "OVER TOTAL VOTES POLLED \\nIN CONSTITUENCY        0.072228  \n",
       "TOTAL ELECTORS                                   1.000000  "
      ]
     },
     "execution_count": 8,
     "metadata": {},
     "output_type": "execute_result"
    }
   ],
   "source": [
    "df2.corr()"
   ]
  },
  {
   "cell_type": "markdown",
   "metadata": {
    "id": "Ys90q_bq2RtP"
   },
   "source": [
    "#Checking the Null Value in the Dataset"
   ]
  },
  {
   "cell_type": "code",
   "execution_count": 9,
   "metadata": {
    "colab": {
     "base_uri": "https://localhost:8080/"
    },
    "id": "VoBz_vqEGDo3",
    "outputId": "e95becf4-7ef8-4b1b-bdd3-4dcb9b4a9a30"
   },
   "outputs": [
    {
     "data": {
      "text/plain": [
       "True"
      ]
     },
     "execution_count": 9,
     "metadata": {},
     "output_type": "execute_result"
    }
   ],
   "source": [
    "df2.isnull().values.any()\n"
   ]
  },
  {
   "cell_type": "markdown",
   "metadata": {
    "id": "eHBzd_fr2hD6"
   },
   "source": [
    "#Crime count\n",
    "\n",
    "Here we are counting the total crimes done by an MP in an individual states in India."
   ]
  },
  {
   "cell_type": "code",
   "execution_count": 10,
   "metadata": {
    "colab": {
     "base_uri": "https://localhost:8080/"
    },
    "id": "BME8nr50Jmvz",
    "outputId": "64045a5b-f873-4295-930e-22189007b714"
   },
   "outputs": [
    {
     "data": {
      "text/plain": [
       "0                1242\n",
       "1                 313\n",
       "2                 119\n",
       "3                 104\n",
       "4                  64\n",
       "5                  42\n",
       "6                  26\n",
       "Not Available      22\n",
       "7                  18\n",
       "8                  16\n",
       "10                 11\n",
       "9                  11\n",
       "11                  5\n",
       "12                  4\n",
       "14                  4\n",
       "13                  3\n",
       "15                  2\n",
       "240                 1\n",
       "16                  1\n",
       "42                  1\n",
       "18                  1\n",
       "22                  1\n",
       "24                  1\n",
       "28                  1\n",
       "31                  1\n",
       "41                  1\n",
       "40                  1\n",
       "204                 1\n",
       "52                  1\n",
       "Name: criminal, dtype: int64"
      ]
     },
     "execution_count": 10,
     "metadata": {},
     "output_type": "execute_result"
    }
   ],
   "source": [
    "df2['criminal'].value_counts()"
   ]
  },
  {
   "cell_type": "code",
   "execution_count": 11,
   "metadata": {
    "colab": {
     "base_uri": "https://localhost:8080/"
    },
    "id": "7VKpMtgGJo3f",
    "outputId": "943ef34d-eb8f-40a9-e4e6-7549f0b4079c"
   },
   "outputs": [
    {
     "data": {
      "text/plain": [
       "0       False\n",
       "1       False\n",
       "2       False\n",
       "3        True\n",
       "4       False\n",
       "        ...  \n",
       "2258    False\n",
       "2259    False\n",
       "2260    False\n",
       "2261    False\n",
       "2262     True\n",
       "Name: criminal, Length: 2263, dtype: bool"
      ]
     },
     "execution_count": 11,
     "metadata": {},
     "output_type": "execute_result"
    }
   ],
   "source": [
    "df2['criminal'] = df2['criminal'].replace(['Not Available'],'0')\n",
    "df2['criminal'] = pd.to_numeric(df2['criminal'] , errors='coerce')\n",
    "df2['criminal'].value_counts()\n",
    "df2['criminal'].isna()"
   ]
  },
  {
   "cell_type": "markdown",
   "metadata": {
    "id": "3omeERR043mF"
   },
   "source": [
    "#Here we are removing the null values from the collumn criminal in the dataset."
   ]
  },
  {
   "cell_type": "code",
   "execution_count": 12,
   "metadata": {
    "colab": {
     "base_uri": "https://localhost:8080/"
    },
    "id": "xgceVsFSZJe1",
    "outputId": "98a9465b-9874-4fa8-c7bb-657607623782"
   },
   "outputs": [
    {
     "data": {
      "text/plain": [
       "245"
      ]
     },
     "execution_count": 12,
     "metadata": {},
     "output_type": "execute_result"
    }
   ],
   "source": [
    "df2['criminal'].isnull().sum().sum()"
   ]
  },
  {
   "cell_type": "markdown",
   "metadata": {
    "id": "e3aGUV3x5MuN"
   },
   "source": [
    "#Here we are displaying the data again."
   ]
  },
  {
   "cell_type": "code",
   "execution_count": 13,
   "metadata": {
    "colab": {
     "base_uri": "https://localhost:8080/",
     "height": 415
    },
    "id": "oQERFjDFWDMQ",
    "outputId": "363e95ff-f00c-4d8c-9292-0b6e0ccd4366"
   },
   "outputs": [
    {
     "data": {
      "text/html": [
       "<div>\n",
       "<style scoped>\n",
       "    .dataframe tbody tr th:only-of-type {\n",
       "        vertical-align: middle;\n",
       "    }\n",
       "\n",
       "    .dataframe tbody tr th {\n",
       "        vertical-align: top;\n",
       "    }\n",
       "\n",
       "    .dataframe thead th {\n",
       "        text-align: right;\n",
       "    }\n",
       "</style>\n",
       "<table border=\"1\" class=\"dataframe\">\n",
       "  <thead>\n",
       "    <tr style=\"text-align: right;\">\n",
       "      <th></th>\n",
       "      <th>Sl No:</th>\n",
       "      <th>STATE</th>\n",
       "      <th>CONSTITUENCY</th>\n",
       "      <th>NAME</th>\n",
       "      <th>WINNER</th>\n",
       "      <th>PARTY</th>\n",
       "      <th>SYMBOL</th>\n",
       "      <th>GENDER</th>\n",
       "      <th>criminal</th>\n",
       "      <th>AGE</th>\n",
       "      <th>...</th>\n",
       "      <th>EDUCATION</th>\n",
       "      <th>GRADUATE</th>\n",
       "      <th>ASSETS</th>\n",
       "      <th>LIABILITIES</th>\n",
       "      <th>GENERAL\\nVOTES</th>\n",
       "      <th>POSTAL\\nVOTES</th>\n",
       "      <th>TOTAL\\nVOTES</th>\n",
       "      <th>OVER TOTAL ELECTORS \\nIN CONSTITUENCY</th>\n",
       "      <th>OVER TOTAL VOTES POLLED \\nIN CONSTITUENCY</th>\n",
       "      <th>TOTAL ELECTORS</th>\n",
       "    </tr>\n",
       "  </thead>\n",
       "  <tbody>\n",
       "    <tr>\n",
       "      <th>0</th>\n",
       "      <td>1</td>\n",
       "      <td>Telangana</td>\n",
       "      <td>ADILABAD</td>\n",
       "      <td>SOYAM BAPU RAO</td>\n",
       "      <td>1</td>\n",
       "      <td>BJP</td>\n",
       "      <td>Lotus</td>\n",
       "      <td>MALE</td>\n",
       "      <td>52.0</td>\n",
       "      <td>52.0</td>\n",
       "      <td>...</td>\n",
       "      <td>12th Pass</td>\n",
       "      <td>0.0</td>\n",
       "      <td>Rs 30,99,414\\n ~ 30 Lacs+</td>\n",
       "      <td>Rs 2,31,450\\n ~ 2 Lacs+</td>\n",
       "      <td>376892</td>\n",
       "      <td>482</td>\n",
       "      <td>377374</td>\n",
       "      <td>25.330684</td>\n",
       "      <td>35.468248</td>\n",
       "      <td>1489790</td>\n",
       "    </tr>\n",
       "    <tr>\n",
       "      <th>1</th>\n",
       "      <td>2</td>\n",
       "      <td>Telangana</td>\n",
       "      <td>ADILABAD</td>\n",
       "      <td>Godam Nagesh</td>\n",
       "      <td>0</td>\n",
       "      <td>TRS</td>\n",
       "      <td>Car</td>\n",
       "      <td>MALE</td>\n",
       "      <td>0.0</td>\n",
       "      <td>54.0</td>\n",
       "      <td>...</td>\n",
       "      <td>Post Graduate</td>\n",
       "      <td>1.0</td>\n",
       "      <td>Rs 1,84,77,888\\n ~ 1 Crore+</td>\n",
       "      <td>Rs 8,47,000\\n ~ 8 Lacs+</td>\n",
       "      <td>318665</td>\n",
       "      <td>149</td>\n",
       "      <td>318814</td>\n",
       "      <td>21.399929</td>\n",
       "      <td>29.964370</td>\n",
       "      <td>1489790</td>\n",
       "    </tr>\n",
       "    <tr>\n",
       "      <th>2</th>\n",
       "      <td>3</td>\n",
       "      <td>Telangana</td>\n",
       "      <td>ADILABAD</td>\n",
       "      <td>RATHOD RAMESH</td>\n",
       "      <td>0</td>\n",
       "      <td>INC</td>\n",
       "      <td>Hand</td>\n",
       "      <td>MALE</td>\n",
       "      <td>3.0</td>\n",
       "      <td>52.0</td>\n",
       "      <td>...</td>\n",
       "      <td>12th Pass</td>\n",
       "      <td>0.0</td>\n",
       "      <td>Rs 3,64,91,000\\n ~ 3 Crore+</td>\n",
       "      <td>Rs 1,53,00,000\\n ~ 1 Crore+</td>\n",
       "      <td>314057</td>\n",
       "      <td>181</td>\n",
       "      <td>314238</td>\n",
       "      <td>21.092771</td>\n",
       "      <td>29.534285</td>\n",
       "      <td>1489790</td>\n",
       "    </tr>\n",
       "    <tr>\n",
       "      <th>3</th>\n",
       "      <td>4</td>\n",
       "      <td>Telangana</td>\n",
       "      <td>ADILABAD</td>\n",
       "      <td>NOTA</td>\n",
       "      <td>0</td>\n",
       "      <td>NOTA</td>\n",
       "      <td>NaN</td>\n",
       "      <td>NaN</td>\n",
       "      <td>NaN</td>\n",
       "      <td>NaN</td>\n",
       "      <td>...</td>\n",
       "      <td>NaN</td>\n",
       "      <td>NaN</td>\n",
       "      <td>NaN</td>\n",
       "      <td>NaN</td>\n",
       "      <td>13030</td>\n",
       "      <td>6</td>\n",
       "      <td>13036</td>\n",
       "      <td>0.875023</td>\n",
       "      <td>1.225214</td>\n",
       "      <td>1489790</td>\n",
       "    </tr>\n",
       "    <tr>\n",
       "      <th>4</th>\n",
       "      <td>5</td>\n",
       "      <td>Uttar Pradesh</td>\n",
       "      <td>AGRA</td>\n",
       "      <td>Satyapal Singh Baghel</td>\n",
       "      <td>1</td>\n",
       "      <td>BJP</td>\n",
       "      <td>Lotus</td>\n",
       "      <td>MALE</td>\n",
       "      <td>5.0</td>\n",
       "      <td>58.0</td>\n",
       "      <td>...</td>\n",
       "      <td>Doctorate</td>\n",
       "      <td>1.0</td>\n",
       "      <td>Rs 7,42,74,036\\n ~ 7 Crore+</td>\n",
       "      <td>Rs 86,06,522\\n ~ 86 Lacs+</td>\n",
       "      <td>644459</td>\n",
       "      <td>2416</td>\n",
       "      <td>646875</td>\n",
       "      <td>33.383823</td>\n",
       "      <td>56.464615</td>\n",
       "      <td>1937690</td>\n",
       "    </tr>\n",
       "  </tbody>\n",
       "</table>\n",
       "<p>5 rows × 21 columns</p>\n",
       "</div>"
      ],
      "text/plain": [
       "   Sl No:          STATE CONSTITUENCY                   NAME  WINNER PARTY  \\\n",
       "0       1      Telangana     ADILABAD         SOYAM BAPU RAO       1   BJP   \n",
       "1       2      Telangana     ADILABAD           Godam Nagesh       0   TRS   \n",
       "2       3      Telangana     ADILABAD          RATHOD RAMESH       0   INC   \n",
       "3       4      Telangana     ADILABAD                   NOTA       0  NOTA   \n",
       "4       5  Uttar Pradesh         AGRA  Satyapal Singh Baghel       1   BJP   \n",
       "\n",
       "  SYMBOL GENDER  criminal   AGE  ...      EDUCATION GRADUATE  \\\n",
       "0  Lotus   MALE      52.0  52.0  ...      12th Pass      0.0   \n",
       "1    Car   MALE       0.0  54.0  ...  Post Graduate      1.0   \n",
       "2   Hand   MALE       3.0  52.0  ...      12th Pass      0.0   \n",
       "3    NaN    NaN       NaN   NaN  ...            NaN      NaN   \n",
       "4  Lotus   MALE       5.0  58.0  ...      Doctorate      1.0   \n",
       "\n",
       "                        ASSETS                  LIABILITIES GENERAL\\nVOTES  \\\n",
       "0    Rs 30,99,414\\n ~ 30 Lacs+      Rs 2,31,450\\n ~ 2 Lacs+         376892   \n",
       "1  Rs 1,84,77,888\\n ~ 1 Crore+      Rs 8,47,000\\n ~ 8 Lacs+         318665   \n",
       "2  Rs 3,64,91,000\\n ~ 3 Crore+  Rs 1,53,00,000\\n ~ 1 Crore+         314057   \n",
       "3                          NaN                          NaN          13030   \n",
       "4  Rs 7,42,74,036\\n ~ 7 Crore+    Rs 86,06,522\\n ~ 86 Lacs+         644459   \n",
       "\n",
       "   POSTAL\\nVOTES  TOTAL\\nVOTES  OVER TOTAL ELECTORS \\nIN CONSTITUENCY  \\\n",
       "0            482        377374                              25.330684   \n",
       "1            149        318814                              21.399929   \n",
       "2            181        314238                              21.092771   \n",
       "3              6         13036                               0.875023   \n",
       "4           2416        646875                              33.383823   \n",
       "\n",
       "   OVER TOTAL VOTES POLLED \\nIN CONSTITUENCY  TOTAL ELECTORS  \n",
       "0                                  35.468248         1489790  \n",
       "1                                  29.964370         1489790  \n",
       "2                                  29.534285         1489790  \n",
       "3                                   1.225214         1489790  \n",
       "4                                  56.464615         1937690  \n",
       "\n",
       "[5 rows x 21 columns]"
      ]
     },
     "execution_count": 13,
     "metadata": {},
     "output_type": "execute_result"
    }
   ],
   "source": [
    "df2.head()"
   ]
  },
  {
   "cell_type": "markdown",
   "metadata": {
    "id": "ixGuZ7eC5Z4v"
   },
   "source": [
    "#Barplot of crime Count in different states\n",
    " Here we have created a barplot of crime count in different states in India.  "
   ]
  },
  {
   "cell_type": "code",
   "execution_count": 14,
   "metadata": {
    "colab": {
     "base_uri": "https://localhost:8080/",
     "height": 388
    },
    "id": "bpjLZwCkZ93f",
    "outputId": "dff1306e-3783-4cad-d786-9dfbdc7c01f8"
   },
   "outputs": [
    {
     "data": {
      "image/png": "[encoded data removed]",
      "text/plain": [
       "<Figure size 1296x432 with 1 Axes>"
      ]
     },
     "metadata": {
      "needs_background": "light"
     },
     "output_type": "display_data"
    }
   ],
   "source": [
    "#Using Seaborn's CountPlot with figure size 10 * 6\n",
    "plt.figure(figsize=(18,6))\n",
    "sns.countplot(x='criminal',data=df2);"
   ]
  },
  {
   "cell_type": "markdown",
   "metadata": {
    "id": "SH942N9L6Nab"
   },
   "source": [
    "From the description given below, we can see that the mean of the crime among contestants is 1.45 where as the minimum crime,25% and 50% contestants did not make any crime but sadly in 75 % of total candidates the crime rate became 1.0. More surprisingly the maximum crime conceived by a person is 240,that's huge."
   ]
  },
  {
   "cell_type": "code",
   "execution_count": 15,
   "metadata": {
    "colab": {
     "base_uri": "https://localhost:8080/"
    },
    "id": "OviCYvi_JpV6",
    "outputId": "3d491ee7-51e9-4af3-cf07-4c0a1bc6f27d"
   },
   "outputs": [
    {
     "data": {
      "text/plain": [
       "count    2018.000000\n",
       "mean        1.453915\n",
       "std         7.636973\n",
       "min         0.000000\n",
       "25%         0.000000\n",
       "50%         0.000000\n",
       "75%         1.000000\n",
       "max       240.000000\n",
       "Name: criminal, dtype: float64"
      ]
     },
     "execution_count": 15,
     "metadata": {},
     "output_type": "execute_result"
    }
   ],
   "source": [
    "df2['criminal'].describe()"
   ]
  },
  {
   "cell_type": "markdown",
   "metadata": {
    "id": "EKfDlyfL8gED"
   },
   "source": [
    "#Line Graph of State vs Criminal Case"
   ]
  },
  {
   "cell_type": "code",
   "execution_count": 16,
   "metadata": {
    "colab": {
     "base_uri": "https://localhost:8080/",
     "height": 439
    },
    "id": "o4MGUi0nROZJ",
    "outputId": "4c554d1e-c86c-4b27-9806-57782ce8b4f8"
   },
   "outputs": [
    {
     "data": {
      "image/png": "[encoded data removed]",
      "text/plain": [
       "<Figure size 1440x504 with 1 Axes>"
      ]
     },
     "metadata": {
      "needs_background": "light"
     },
     "output_type": "display_data"
    }
   ],
   "source": [
    "import matplotlib.pyplot as plt\n",
    "#fig = plt.figure(figsize =(100, 7))\n",
    "df2.plot(x=\"STATE\", y=[\"criminal\"],figsize =(20, 7), fontsize=10)\n",
    "plt.xlabel(\"States\")\n",
    "plt.ylabel(\"Criminal Case\")\n",
    "plt.title(\"Distribution of Crimanal Cases\")\n",
    "plt.show()"
   ]
  },
  {
   "cell_type": "markdown",
   "metadata": {
    "id": "gz5hFMjY8n4E"
   },
   "source": [
    "From the graph and the below description we can see that the maximum no of crime done by a single person is 240."
   ]
  },
  {
   "cell_type": "code",
   "execution_count": 17,
   "metadata": {
    "colab": {
     "base_uri": "https://localhost:8080/",
     "height": 187
    },
    "id": "Vmv_uSZzwQiK",
    "outputId": "a6faa13a-1cda-4978-8c9b-feaf67f55120"
   },
   "outputs": [
    {
     "data": {
      "text/html": [
       "<div>\n",
       "<style scoped>\n",
       "    .dataframe tbody tr th:only-of-type {\n",
       "        vertical-align: middle;\n",
       "    }\n",
       "\n",
       "    .dataframe tbody tr th {\n",
       "        vertical-align: top;\n",
       "    }\n",
       "\n",
       "    .dataframe thead th {\n",
       "        text-align: right;\n",
       "    }\n",
       "</style>\n",
       "<table border=\"1\" class=\"dataframe\">\n",
       "  <thead>\n",
       "    <tr style=\"text-align: right;\">\n",
       "      <th></th>\n",
       "      <th>Sl No:</th>\n",
       "      <th>STATE</th>\n",
       "      <th>CONSTITUENCY</th>\n",
       "      <th>NAME</th>\n",
       "      <th>WINNER</th>\n",
       "      <th>PARTY</th>\n",
       "      <th>SYMBOL</th>\n",
       "      <th>GENDER</th>\n",
       "      <th>criminal</th>\n",
       "      <th>AGE</th>\n",
       "      <th>...</th>\n",
       "      <th>EDUCATION</th>\n",
       "      <th>GRADUATE</th>\n",
       "      <th>ASSETS</th>\n",
       "      <th>LIABILITIES</th>\n",
       "      <th>GENERAL\\nVOTES</th>\n",
       "      <th>POSTAL\\nVOTES</th>\n",
       "      <th>TOTAL\\nVOTES</th>\n",
       "      <th>OVER TOTAL ELECTORS \\nIN CONSTITUENCY</th>\n",
       "      <th>OVER TOTAL VOTES POLLED \\nIN CONSTITUENCY</th>\n",
       "      <th>TOTAL ELECTORS</th>\n",
       "    </tr>\n",
       "  </thead>\n",
       "  <tbody>\n",
       "    <tr>\n",
       "      <th>1652</th>\n",
       "      <td>1653</td>\n",
       "      <td>Kerala</td>\n",
       "      <td>PATHANAMTHITTA</td>\n",
       "      <td>K SURENDRAN</td>\n",
       "      <td>0</td>\n",
       "      <td>BJP</td>\n",
       "      <td>Lotus</td>\n",
       "      <td>MALE</td>\n",
       "      <td>240.0</td>\n",
       "      <td>49.0</td>\n",
       "      <td>...</td>\n",
       "      <td>Graduate</td>\n",
       "      <td>1.0</td>\n",
       "      <td>Rs 40,44,300\\n ~ 40 Lacs+</td>\n",
       "      <td>Rs 13,08,799\\n ~ 13 Lacs+</td>\n",
       "      <td>295627</td>\n",
       "      <td>1769</td>\n",
       "      <td>297396</td>\n",
       "      <td>21.507715</td>\n",
       "      <td>28.947087</td>\n",
       "      <td>1382741</td>\n",
       "    </tr>\n",
       "  </tbody>\n",
       "</table>\n",
       "<p>1 rows × 21 columns</p>\n",
       "</div>"
      ],
      "text/plain": [
       "      Sl No:   STATE    CONSTITUENCY         NAME  WINNER PARTY SYMBOL GENDER  \\\n",
       "1652    1653  Kerala  PATHANAMTHITTA  K SURENDRAN       0   BJP  Lotus   MALE   \n",
       "\n",
       "      criminal   AGE  ... EDUCATION GRADUATE                     ASSETS  \\\n",
       "1652     240.0  49.0  ...  Graduate      1.0  Rs 40,44,300\\n ~ 40 Lacs+   \n",
       "\n",
       "                    LIABILITIES GENERAL\\nVOTES  POSTAL\\nVOTES  TOTAL\\nVOTES  \\\n",
       "1652  Rs 13,08,799\\n ~ 13 Lacs+         295627           1769        297396   \n",
       "\n",
       "      OVER TOTAL ELECTORS \\nIN CONSTITUENCY  \\\n",
       "1652                              21.507715   \n",
       "\n",
       "      OVER TOTAL VOTES POLLED \\nIN CONSTITUENCY  TOTAL ELECTORS  \n",
       "1652                                  28.947087         1382741  \n",
       "\n",
       "[1 rows x 21 columns]"
      ]
     },
     "execution_count": 17,
     "metadata": {},
     "output_type": "execute_result"
    }
   ],
   "source": [
    "df=df2[df2.criminal==240]\n",
    "df"
   ]
  },
  {
   "cell_type": "markdown",
   "metadata": {
    "id": "TL8m3ewr-wX8"
   },
   "source": [
    "#The Educational Qualification of the Candiates:\n",
    "\n",
    "We can see that the number of post graduate candidates in India is maximum(officially). So this is a positive site from the educatuional point of view."
   ]
  },
  {
   "cell_type": "code",
   "execution_count": 18,
   "metadata": {
    "colab": {
     "base_uri": "https://localhost:8080/"
    },
    "id": "deVcqwLCJqmv",
    "outputId": "2f9683cf-e3f0-4945-f5af-1d68e72bb223"
   },
   "outputs": [
    {
     "data": {
      "text/plain": [
       "Post Graduate            502\n",
       "Graduate                 441\n",
       "Graduate Professional    336\n",
       "12th Pass                256\n",
       "10th Pass                196\n",
       "8th Pass                  78\n",
       "Doctorate                 73\n",
       "Others                    50\n",
       "Literate                  30\n",
       "5th Pass                  28\n",
       "Not Available             22\n",
       "Illiterate                 5\n",
       "Post Graduate\\n            1\n",
       "Name: EDUCATION, dtype: int64"
      ]
     },
     "execution_count": 18,
     "metadata": {},
     "output_type": "execute_result"
    }
   ],
   "source": [
    "df2.EDUCATION.value_counts()\n"
   ]
  },
  {
   "cell_type": "code",
   "execution_count": 19,
   "metadata": {
    "colab": {
     "base_uri": "https://localhost:8080/"
    },
    "id": "7P6rHLjgJqsv",
    "outputId": "bce252bf-e268-425e-dd83-4548556cbed9"
   },
   "outputs": [
    {
     "data": {
      "text/plain": [
       "Post Graduate            503\n",
       "Graduate                 441\n",
       "Graduate Professional    336\n",
       "12th Pass                256\n",
       "10th Pass                196\n",
       "8th Pass                  78\n",
       "Illiterate                77\n",
       "Doctorate                 73\n",
       "Literate                  30\n",
       "5th Pass                  28\n",
       "Name: EDUCATION, dtype: int64"
      ]
     },
     "execution_count": 19,
     "metadata": {},
     "output_type": "execute_result"
    }
   ],
   "source": [
    "df2['EDUCATION'] = df2['EDUCATION'].replace(['Not Available','Others'],'Illiterate')\n",
    "df2['EDUCATION'] = df2['EDUCATION'].replace(['Post Graduate\\n'],'Post Graduate')\n",
    "#df2['criminal'] = pd.to_numeric(df2['criminal'] , errors='coerce')\n",
    "df2['EDUCATION'].value_counts()\n",
    "#df2['criminal'].isna()"
   ]
  },
  {
   "cell_type": "markdown",
   "metadata": {
    "id": "mKzSlQEjAkDV"
   },
   "source": [
    "#Educational Qualification Count Graph\n",
    "\n",
    "After analysing the graph, we can see that there is two collumn of class VIII pass and class V pass.But we belive the minimum qualification to be called as literate is X pass.So we convert all V pass and VIII cadidates as illiterate."
   ]
  },
  {
   "cell_type": "code",
   "execution_count": 20,
   "metadata": {
    "colab": {
     "base_uri": "https://localhost:8080/",
     "height": 372
    },
    "id": "yOipFurogw-K",
    "outputId": "5088ef5c-912f-4a9d-bc0f-e49c87e908dc"
   },
   "outputs": [
    {
     "data": {
      "image/png": "[encoded data removed]",
      "text/plain": [
       "<Figure size 1440x432 with 1 Axes>"
      ]
     },
     "metadata": {
      "needs_background": "light"
     },
     "output_type": "display_data"
    }
   ],
   "source": [
    "#Using Seaborn's CountPlot with figure size 10 * 6\n",
    "plt.figure(figsize=(20,6))\n",
    "sns.countplot(x='EDUCATION',data=df2);"
   ]
  },
  {
   "cell_type": "code",
   "execution_count": 21,
   "metadata": {
    "colab": {
     "base_uri": "https://localhost:8080/"
    },
    "id": "wvStrMY4gxIA",
    "outputId": "34c3a57b-e1ac-46ec-e964-cc1012717706"
   },
   "outputs": [
    {
     "data": {
      "text/plain": [
       "Post Graduate            503\n",
       "Graduate                 441\n",
       "Graduate Professional    336\n",
       "12th Pass                256\n",
       "10th Pass                196\n",
       "Illiterate               183\n",
       "Doctorate                 73\n",
       "Literate                  30\n",
       "Name: EDUCATION, dtype: int64"
      ]
     },
     "execution_count": 21,
     "metadata": {},
     "output_type": "execute_result"
    }
   ],
   "source": [
    "df2['EDUCATION'] = df2['EDUCATION'].replace(['5th Pass','8th Pass'],'Illiterate')\n",
    "df2['EDUCATION'].value_counts()"
   ]
  },
  {
   "cell_type": "code",
   "execution_count": 22,
   "metadata": {
    "colab": {
     "base_uri": "https://localhost:8080/",
     "height": 372
    },
    "id": "Yh2lkVLegxV1",
    "outputId": "fde25621-9973-4858-bd4c-1eb413e50436"
   },
   "outputs": [
    {
     "data": {
      "image/png": "[encoded data removed]",
      "text/plain": [
       "<Figure size 1440x432 with 1 Axes>"
      ]
     },
     "metadata": {
      "needs_background": "light"
     },
     "output_type": "display_data"
    }
   ],
   "source": [
    "#Using Seaborn's CountPlot with figure size 10 * 6\n",
    "plt.figure(figsize=(20,6))\n",
    "sns.countplot(x='EDUCATION',data=df2);\n"
   ]
  },
  {
   "cell_type": "code",
   "execution_count": 23,
   "metadata": {
    "colab": {
     "base_uri": "https://localhost:8080/",
     "height": 595
    },
    "id": "etcshn8Kgxjg",
    "outputId": "1e8b611b-b2ea-4bf0-d310-704f16f3b126"
   },
   "outputs": [
    {
     "data": {
      "image/png": "[encoded data removed]",
      "text/plain": [
       "<Figure size 1440x720 with 1 Axes>"
      ]
     },
     "metadata": {
      "needs_background": "light"
     },
     "output_type": "display_data"
    }
   ],
   "source": [
    "import matplotlib.pyplot as plt\n",
    "#fig = plt.figure(figsize =(100, 7))\n",
    "df2.plot(x=\"EDUCATION\", y=[\"criminal\"],figsize =(20, 10), fontsize=10)\n",
    "plt.xlabel(\"Education\")\n",
    "plt.ylabel(\"Criminal Growth\")\n",
    "plt.title(\"Distribution of Education Over States\")\n",
    "\n",
    "plt.show()"
   ]
  },
  {
   "cell_type": "markdown",
   "metadata": {
    "id": "WWRk3Vk-xNYy"
   },
   "source": [
    "#Education vs Criminal Barplot"
   ]
  },
  {
   "cell_type": "code",
   "execution_count": 24,
   "metadata": {
    "colab": {
     "base_uri": "https://localhost:8080/",
     "height": 376
    },
    "id": "-ZmzNECKomgc",
    "outputId": "f2fc1771-6fd9-4451-f106-9fef97fc8b7c"
   },
   "outputs": [
    {
     "data": {
      "image/png": "[encoded data removed]",
      "text/plain": [
       "<Figure size 1440x432 with 1 Axes>"
      ]
     },
     "metadata": {},
     "output_type": "display_data"
    }
   ],
   "source": [
    "import seaborn as sns\n",
    "sns.set_theme(style=\"whitegrid\")\n",
    "plt.figure(figsize=(20,6))\n",
    "ax = sns.barplot(x=\"EDUCATION\", y=\"criminal\", data=df2)\n"
   ]
  },
  {
   "cell_type": "markdown",
   "metadata": {
    "id": "L7CFROKpCWHy"
   },
   "source": [
    "We can analyze from the graph that Graduate and 12 th Pass criminal candidates are maximum. Specially we want to mention tha that a single graduate person has done 240 crimes."
   ]
  },
  {
   "cell_type": "code",
   "execution_count": 25,
   "metadata": {
    "colab": {
     "base_uri": "https://localhost:8080/"
    },
    "id": "8uFIzaLcwSkU",
    "outputId": "0b960ce8-06bf-4e1d-e660-765c8b81ab80"
   },
   "outputs": [
    {
     "name": "stdout",
     "output_type": "stream",
     "text": [
      "1760\n",
      "258\n"
     ]
    }
   ],
   "source": [
    "cn1= int (0)\n",
    "cn2= int (0)\n",
    "for i in df2['GENDER']:\n",
    "  if i=='MALE':\n",
    "    cn1+=1\n",
    "  elif i=='FEMALE':\n",
    "    cn2+=1\n",
    "print(cn1)\n",
    "print(cn2)"
   ]
  },
  {
   "cell_type": "markdown",
   "metadata": {
    "id": "ZAH00U0RE739"
   },
   "source": [
    "#pie chart of Male vs Female candidates\n",
    "\n",
    "From the pie chart we can see that the the number of male candidates is greater than the number of female candidates."
   ]
  },
  {
   "cell_type": "code",
   "execution_count": 26,
   "metadata": {
    "colab": {
     "base_uri": "https://localhost:8080/",
     "height": 248
    },
    "id": "DmKy_ZdWwTHb",
    "outputId": "ad751d15-e645-4396-d8f4-840d0a58264c"
   },
   "outputs": [
    {
     "data": {
      "image/png": "[encoded data removed]",
      "text/plain": [
       "<Figure size 432x288 with 1 Axes>"
      ]
     },
     "metadata": {},
     "output_type": "display_data"
    }
   ],
   "source": [
    "y = np.array([cn1,cn2])\n",
    "mylabels = [\"MALE\",\"FEMALE\"]\n",
    "plt.pie(y, labels = mylabels, startangle = 90)\n",
    "plt.show() "
   ]
  },
  {
   "cell_type": "markdown",
   "metadata": {
    "id": "1LqOj3ueFpc9"
   },
   "source": [
    "#State wise Candidates with Crime Cases\n",
    " The number of candidates with crime cases are maximum in Bihar,Kerala,Maharashtra,West Bengal,Uttar Pradesh states. \n"
   ]
  },
  {
   "cell_type": "code",
   "execution_count": 27,
   "metadata": {
    "colab": {
     "base_uri": "https://localhost:8080/",
     "height": 549
    },
    "id": "jHRVAu_cwTXF",
    "outputId": "744710ba-5282-4594-e7e3-6ac560e48021"
   },
   "outputs": [
    {
     "data": {
      "text/html": [
       "<div>\n",
       "<style scoped>\n",
       "    .dataframe tbody tr th:only-of-type {\n",
       "        vertical-align: middle;\n",
       "    }\n",
       "\n",
       "    .dataframe tbody tr th {\n",
       "        vertical-align: top;\n",
       "    }\n",
       "\n",
       "    .dataframe thead th {\n",
       "        text-align: right;\n",
       "    }\n",
       "</style>\n",
       "<table border=\"1\" class=\"dataframe\">\n",
       "  <thead>\n",
       "    <tr style=\"text-align: right;\">\n",
       "      <th></th>\n",
       "      <th>criminal</th>\n",
       "    </tr>\n",
       "    <tr>\n",
       "      <th>STATE</th>\n",
       "      <th></th>\n",
       "    </tr>\n",
       "  </thead>\n",
       "  <tbody>\n",
       "    <tr>\n",
       "      <th>Andhra Pradesh</th>\n",
       "      <td>81.0</td>\n",
       "    </tr>\n",
       "    <tr>\n",
       "      <th>Bihar</th>\n",
       "      <td>312.0</td>\n",
       "    </tr>\n",
       "    <tr>\n",
       "      <th>Gujarat</th>\n",
       "      <td>39.0</td>\n",
       "    </tr>\n",
       "    <tr>\n",
       "      <th>Jharkhand</th>\n",
       "      <td>67.0</td>\n",
       "    </tr>\n",
       "    <tr>\n",
       "      <th>Karnataka</th>\n",
       "      <td>44.0</td>\n",
       "    </tr>\n",
       "    <tr>\n",
       "      <th>Kerala</th>\n",
       "      <td>669.0</td>\n",
       "    </tr>\n",
       "    <tr>\n",
       "      <th>Madhya Pradesh</th>\n",
       "      <td>63.0</td>\n",
       "    </tr>\n",
       "    <tr>\n",
       "      <th>Maharashtra</th>\n",
       "      <td>302.0</td>\n",
       "    </tr>\n",
       "    <tr>\n",
       "      <th>Odisha</th>\n",
       "      <td>105.0</td>\n",
       "    </tr>\n",
       "    <tr>\n",
       "      <th>Punjab</th>\n",
       "      <td>28.0</td>\n",
       "    </tr>\n",
       "    <tr>\n",
       "      <th>Rajasthan</th>\n",
       "      <td>30.0</td>\n",
       "    </tr>\n",
       "    <tr>\n",
       "      <th>Tamil Nadu</th>\n",
       "      <td>161.0</td>\n",
       "    </tr>\n",
       "    <tr>\n",
       "      <th>Telangana</th>\n",
       "      <td>195.0</td>\n",
       "    </tr>\n",
       "    <tr>\n",
       "      <th>Uttar Pradesh</th>\n",
       "      <td>430.0</td>\n",
       "    </tr>\n",
       "    <tr>\n",
       "      <th>West Bengal</th>\n",
       "      <td>303.0</td>\n",
       "    </tr>\n",
       "  </tbody>\n",
       "</table>\n",
       "</div>"
      ],
      "text/plain": [
       "                criminal\n",
       "STATE                   \n",
       "Andhra Pradesh      81.0\n",
       "Bihar              312.0\n",
       "Gujarat             39.0\n",
       "Jharkhand           67.0\n",
       "Karnataka           44.0\n",
       "Kerala             669.0\n",
       "Madhya Pradesh      63.0\n",
       "Maharashtra        302.0\n",
       "Odisha             105.0\n",
       "Punjab              28.0\n",
       "Rajasthan           30.0\n",
       "Tamil Nadu         161.0\n",
       "Telangana          195.0\n",
       "Uttar Pradesh      430.0\n",
       "West Bengal        303.0"
      ]
     },
     "execution_count": 27,
     "metadata": {},
     "output_type": "execute_result"
    }
   ],
   "source": [
    "state_criminal = df2.groupby('STATE')[['criminal']].sum().sort_values(by=\n",
    "                        ['criminal']).tail(15).sort_values(by=['STATE'])\n",
    "\n",
    "state_criminal_winner = df2[df2['WINNER']>0].groupby('STATE')[['criminal']].sum().sort_values(by=\n",
    "                        ['criminal']).tail(15).sort_values(by=['STATE'])\n",
    "state_criminal"
   ]
  },
  {
   "cell_type": "code",
   "execution_count": 28,
   "metadata": {
    "colab": {
     "base_uri": "https://localhost:8080/",
     "height": 548
    },
    "id": "JCNmKetLwTez",
    "outputId": "2280b5c6-6c33-4458-bdab-834090ec7268"
   },
   "outputs": [
    {
     "data": {
      "image/png": "[encoded data removed]",
      "text/plain": [
       "<Figure size 1440x576 with 2 Axes>"
      ]
     },
     "metadata": {},
     "output_type": "display_data"
    }
   ],
   "source": [
    "# 2 Barplot Side by Side\n",
    "fig, axes = plt.subplots(1, 2, figsize=(20, 8))\n",
    "\n",
    "# Passing X axis and Y axis along with subplot position\n",
    "sns.barplot(x = state_criminal.index , y = state_criminal['criminal'] , ax=axes[0] , palette='YlOrBr');\n",
    "axes[0].tick_params(axis='x' , rotation=45); #changing the X axis poition to read more clearly\n",
    "axes[0].set_title('STATE WISE CRIMINAL CASE OF CONTESTANTS');\n",
    "\n",
    "#We can also change the color of the barplots by giving different palletes\n",
    "sns.barplot(x = state_criminal_winner.index , y = state_criminal_winner['criminal'] , ax=axes[1] , palette='viridis');\n",
    "axes[1].set_title('STATE WISE CRIMINAL CASE OF WINNERS');\n",
    "plt.xticks(rotation=45);"
   ]
  },
  {
   "cell_type": "markdown",
   "metadata": {
    "id": "oB0ud3uLG968"
   },
   "source": [
    "Here we can see the crime case across the states of candidates and winners. Here the maximum height of bargraph is showing in the state Kerala."
   ]
  },
  {
   "cell_type": "code",
   "execution_count": 29,
   "metadata": {
    "colab": {
     "base_uri": "https://localhost:8080/"
    },
    "id": "oymVbp1ID2GM",
    "outputId": "a9654223-c152-494c-9df9-72f4c7321de9"
   },
   "outputs": [
    {
     "name": "stdout",
     "output_type": "stream",
     "text": [
      "383\n",
      "243\n",
      "1392\n",
      "245\n"
     ]
    }
   ],
   "source": [
    "cn1= int (0)\n",
    "cn2= int (0)\n",
    "cn3= int (0)\n",
    "cn4= int (0)\n",
    "for i in df2['CATEGORY']:\n",
    "  if i=='SC':\n",
    "    cn1+=1\n",
    "  elif i=='ST':\n",
    "    cn2+=1\n",
    "  elif i=='GENERAL':\n",
    "    cn3+=1\n",
    "  else:\n",
    "    cn4+=1\n",
    "print(cn1)\n",
    "print(cn2)\n",
    "print(cn3)\n",
    "print(cn4)"
   ]
  },
  {
   "cell_type": "markdown",
   "metadata": {
    "id": "RP-XZhAjIHk-"
   },
   "source": [
    "#Barplot of category Growth:\n",
    "Here we calulating the number of SC,ST and GENERAL candidates in the loksabha election 2019."
   ]
  },
  {
   "cell_type": "code",
   "execution_count": 30,
   "metadata": {
    "colab": {
     "base_uri": "https://localhost:8080/",
     "height": 633
    },
    "id": "1Gltm609wTsM",
    "outputId": "a574fccc-333f-4e27-ba35-746f07b46670"
   },
   "outputs": [
    {
     "data": {
      "image/png": "[encoded data removed]",
      "text/plain": [
       "<Figure size 1008x720 with 1 Axes>"
      ]
     },
     "metadata": {},
     "output_type": "display_data"
    }
   ],
   "source": [
    "import pandas as pd\n",
    "import numpy as np\n",
    "import matplotlib.pyplot as plt\n",
    "import seaborn as sns\n",
    "  \n",
    "  \n",
    "# Initialize data\n",
    "consumption = ['SC','ST','GENERAL','OTHERS']\n",
    "growth = [cn1,cn2,cn3,cn4]\n",
    "  \n",
    "\n",
    "# Create a pandas dataframe\n",
    "df = pd.DataFrame({\"consumption\": consumption,\n",
    "                   \"growth\": growth})\n",
    "df_sorted_desc= df.sort_values('growth',ascending=False)\n",
    "plt.figure(figsize=(14,10))\n",
    "# make bar plot with matplotlib\n",
    "plt.bar('consumption', 'growth',data=df_sorted_desc,color ='blue',\n",
    "        width = 0.4)\n",
    "plt.xlabel(\"Category\", size=15)\n",
    "plt.ylabel(\"growth\", size=15)\n",
    "plt.title(\"Barplot of Category in the Loksabha Election Candidates\", size=18)\n",
    "plt.savefig(\"bar_plot_matplotlib_Python.png\")\n",
    "  \n"
   ]
  },
  {
   "cell_type": "markdown",
   "metadata": {
    "id": "V07j5bi9I1rs"
   },
   "source": [
    "From the graph we can see that the number of general cadidates are maximum in India."
   ]
  },
  {
   "cell_type": "code",
   "execution_count": 31,
   "metadata": {
    "colab": {
     "base_uri": "https://localhost:8080/"
    },
    "id": "jxrfpM2dwTz2",
    "outputId": "511c9aa9-3b00-4317-c784-fe1263174a04"
   },
   "outputs": [
    {
     "data": {
      "text/plain": [
       "BJP     420\n",
       "INC     413\n",
       "NOTA    245\n",
       "IND     201\n",
       "BSP     163\n",
       "       ... \n",
       "DSSP      1\n",
       "ABGP      1\n",
       "MSHP      1\n",
       "ASDC      1\n",
       "PMP       1\n",
       "Name: PARTY, Length: 133, dtype: int64"
      ]
     },
     "execution_count": 31,
     "metadata": {},
     "output_type": "execute_result"
    }
   ],
   "source": [
    "df2.PARTY.value_counts()"
   ]
  },
  {
   "cell_type": "markdown",
   "metadata": {
    "id": "6vqGX7BJJ3yf"
   },
   "source": []
  },
  {
   "cell_type": "markdown",
   "metadata": {
    "id": "HKgKAXkXK9OG"
   },
   "source": [
    "#Barplot of Candidate Allocation in Loksabha Election 2019\n",
    " Here we  are counting the total number of allocation of candidates for different parties in different constituncies in India."
   ]
  },
  {
   "cell_type": "code",
   "execution_count": 32,
   "metadata": {
    "colab": {
     "base_uri": "https://localhost:8080/"
    },
    "id": "q3tydHsKKB_O",
    "outputId": "04747026-0fbf-4980-b8c5-18d6c1d2b644"
   },
   "outputs": [
    {
     "name": "stdout",
     "output_type": "stream",
     "text": [
      "420\n",
      "413\n",
      "245\n",
      "201\n",
      "163\n",
      "821\n"
     ]
    }
   ],
   "source": [
    "cn1= int (0)\n",
    "cn2= int (0)\n",
    "cn3= int (0)\n",
    "cn4= int (0)\n",
    "cn5= int (0)\n",
    "cn6= int (0)\n",
    "for i in df2['PARTY']:\n",
    "  if i=='BJP':\n",
    "    cn1+=1\n",
    "  elif i=='INC':\n",
    "    cn2+=1\n",
    "  elif i=='NOTA':\n",
    "    cn3+=1\n",
    "  elif i=='IND':\n",
    "    cn4+=1\n",
    "  elif i=='BSP':\n",
    "    cn5+=1\n",
    "  else:\n",
    "    cn6+=1\n",
    "#cn1+=cn6\n",
    "print(cn1)\n",
    "print(cn2)\n",
    "print(cn3)\n",
    "print(cn4)\n",
    "print(cn5)\n",
    "print(cn6)"
   ]
  },
  {
   "cell_type": "code",
   "execution_count": 33,
   "metadata": {
    "colab": {
     "base_uri": "https://localhost:8080/",
     "height": 633
    },
    "id": "5zd-X8TzwT__",
    "outputId": "c282572c-ac87-41c4-bcf3-a96262f30586"
   },
   "outputs": [
    {
     "data": {
      "image/png": "[encoded data removed]",
      "text/plain": [
       "<Figure size 1008x720 with 1 Axes>"
      ]
     },
     "metadata": {},
     "output_type": "display_data"
    }
   ],
   "source": [
    "# Initialize data\n",
    "consumption = ['BJP','INC','NOTA','IND','BSP']\n",
    "growth = [cn1,cn2,cn3,cn4,cn5]\n",
    "  \n",
    "\n",
    "# Create a pandas dataframe\n",
    "df = pd.DataFrame({\"consumption\": consumption,\n",
    "                   \"growth\": growth})\n",
    "df_sorted_desc= df.sort_values('growth',ascending=False)\n",
    "plt.figure(figsize=(14,10))\n",
    "# make bar plot with matplotlib\n",
    "plt.bar('consumption', 'growth',data=df_sorted_desc,color ='orange',\n",
    "        width = 0.4)\n",
    "plt.xlabel(\"party Name\", size=15)\n",
    "plt.ylabel(\"Total Candidates\", size=15)\n",
    "plt.title(\"Barplot of Candidate Allocation in Loksabha Election 2019\", size=18)\n",
    "plt.savefig(\"bar_plot_matplotlib_Python.png\")\n",
    "  "
   ]
  },
  {
   "cell_type": "markdown",
   "metadata": {
    "id": "aYrhqGwoMXl3"
   },
   "source": [
    "Here we can see that the bjp candidates are maximum."
   ]
  },
  {
   "cell_type": "code",
   "execution_count": 34,
   "metadata": {
    "colab": {
     "base_uri": "https://localhost:8080/"
    },
    "id": "TxBRU6oyZBaD",
    "outputId": "ce1f1123-6ce8-460c-eca9-1f1b4995a278"
   },
   "outputs": [
    {
     "name": "stdout",
     "output_type": "stream",
     "text": [
      "<class 'pandas.core.frame.DataFrame'>\n",
      "RangeIndex: 2263 entries, 0 to 2262\n",
      "Data columns (total 21 columns):\n",
      " #   Column                                    Non-Null Count  Dtype  \n",
      "---  ------                                    --------------  -----  \n",
      " 0   Sl No:                                    2263 non-null   int64  \n",
      " 1   STATE                                     2263 non-null   object \n",
      " 2   CONSTITUENCY                              2263 non-null   object \n",
      " 3   NAME                                      2263 non-null   object \n",
      " 4   WINNER                                    2263 non-null   int64  \n",
      " 5   PARTY                                     2263 non-null   object \n",
      " 6   SYMBOL                                    2018 non-null   object \n",
      " 7   GENDER                                    2018 non-null   object \n",
      " 8   criminal                                  2018 non-null   float64\n",
      " 9   AGE                                       2018 non-null   float64\n",
      " 10  CATEGORY                                  2018 non-null   object \n",
      " 11  EDUCATION                                 2018 non-null   object \n",
      " 12  GRADUATE                                  2021 non-null   float64\n",
      " 13  ASSETS                                    2018 non-null   object \n",
      " 14  LIABILITIES                               2018 non-null   object \n",
      " 15  GENERAL\n",
      "VOTES                             2263 non-null   int64  \n",
      " 16  POSTAL\n",
      "VOTES                              2263 non-null   int64  \n",
      " 17  TOTAL\n",
      "VOTES                               2263 non-null   int64  \n",
      " 18  OVER TOTAL ELECTORS \n",
      "IN CONSTITUENCY      2263 non-null   float64\n",
      " 19  OVER TOTAL VOTES POLLED \n",
      "IN CONSTITUENCY  2263 non-null   float64\n",
      " 20  TOTAL ELECTORS                            2263 non-null   int64  \n",
      "dtypes: float64(5), int64(6), object(10)\n",
      "memory usage: 371.4+ KB\n"
     ]
    }
   ],
   "source": [
    "df2.info()"
   ]
  },
  {
   "cell_type": "code",
   "execution_count": 35,
   "metadata": {
    "id": "TWLBT5rlfLj5"
   },
   "outputs": [],
   "source": [
    "df2['criminal'] = pd.to_numeric(df2['criminal'] , errors='coerce')"
   ]
  },
  {
   "cell_type": "markdown",
   "metadata": {
    "id": "BSmJSNbUOS2b"
   },
   "source": [
    "#Bar Plot of Party vs Candidates with Crime Case:\n",
    "\n",
    "Here we are calculating the criminal case candidates in different parties. From that knowledge we can aware of the criminal cases of the different parties.\n",
    "\n"
   ]
  },
  {
   "cell_type": "code",
   "execution_count": 36,
   "metadata": {
    "colab": {
     "base_uri": "https://localhost:8080/",
     "height": 549
    },
    "id": "knpoZ2cFdlt_",
    "outputId": "626c7df1-723c-499c-8590-8a5e2526e79a"
   },
   "outputs": [
    {
     "data": {
      "text/html": [
       "<div>\n",
       "<style scoped>\n",
       "    .dataframe tbody tr th:only-of-type {\n",
       "        vertical-align: middle;\n",
       "    }\n",
       "\n",
       "    .dataframe tbody tr th {\n",
       "        vertical-align: top;\n",
       "    }\n",
       "\n",
       "    .dataframe thead th {\n",
       "        text-align: right;\n",
       "    }\n",
       "</style>\n",
       "<table border=\"1\" class=\"dataframe\">\n",
       "  <thead>\n",
       "    <tr style=\"text-align: right;\">\n",
       "      <th></th>\n",
       "      <th>criminal</th>\n",
       "    </tr>\n",
       "    <tr>\n",
       "      <th>PARTY</th>\n",
       "      <th></th>\n",
       "    </tr>\n",
       "  </thead>\n",
       "  <tbody>\n",
       "    <tr>\n",
       "      <th>AIMIM</th>\n",
       "      <td>9.0</td>\n",
       "    </tr>\n",
       "    <tr>\n",
       "      <th>AITC</th>\n",
       "      <td>17.0</td>\n",
       "    </tr>\n",
       "    <tr>\n",
       "      <th>AIUDF</th>\n",
       "      <td>7.0</td>\n",
       "    </tr>\n",
       "    <tr>\n",
       "      <th>BJP</th>\n",
       "      <td>403.0</td>\n",
       "    </tr>\n",
       "    <tr>\n",
       "      <th>BSP</th>\n",
       "      <td>32.0</td>\n",
       "    </tr>\n",
       "    <tr>\n",
       "      <th>DMK</th>\n",
       "      <td>28.0</td>\n",
       "    </tr>\n",
       "    <tr>\n",
       "      <th>INC</th>\n",
       "      <td>355.0</td>\n",
       "    </tr>\n",
       "    <tr>\n",
       "      <th>IND</th>\n",
       "      <td>6.0</td>\n",
       "    </tr>\n",
       "    <tr>\n",
       "      <th>JD(U)</th>\n",
       "      <td>31.0</td>\n",
       "    </tr>\n",
       "    <tr>\n",
       "      <th>LJP</th>\n",
       "      <td>12.0</td>\n",
       "    </tr>\n",
       "    <tr>\n",
       "      <th>NCP</th>\n",
       "      <td>10.0</td>\n",
       "    </tr>\n",
       "    <tr>\n",
       "      <th>SHS</th>\n",
       "      <td>35.0</td>\n",
       "    </tr>\n",
       "    <tr>\n",
       "      <th>SP</th>\n",
       "      <td>11.0</td>\n",
       "    </tr>\n",
       "    <tr>\n",
       "      <th>TRS</th>\n",
       "      <td>24.0</td>\n",
       "    </tr>\n",
       "    <tr>\n",
       "      <th>YSRCP</th>\n",
       "      <td>24.0</td>\n",
       "    </tr>\n",
       "  </tbody>\n",
       "</table>\n",
       "</div>"
      ],
      "text/plain": [
       "       criminal\n",
       "PARTY          \n",
       "AIMIM       9.0\n",
       "AITC       17.0\n",
       "AIUDF       7.0\n",
       "BJP       403.0\n",
       "BSP        32.0\n",
       "DMK        28.0\n",
       "INC       355.0\n",
       "IND         6.0\n",
       "JD(U)      31.0\n",
       "LJP        12.0\n",
       "NCP        10.0\n",
       "SHS        35.0\n",
       "SP         11.0\n",
       "TRS        24.0\n",
       "YSRCP      24.0"
      ]
     },
     "execution_count": 36,
     "metadata": {},
     "output_type": "execute_result"
    }
   ],
   "source": [
    "party_criminal_winner = df2[df2['criminal']>0].groupby('PARTY')[['criminal']].sum().sort_values(by=\n",
    "                        ['criminal']).tail(15).sort_values(by=['PARTY'])\n",
    "party_winner = df2[(df2['criminal']>0) & (df2['WINNER']>0)].groupby('PARTY')[['criminal']].sum().sort_values(by=\n",
    "                        ['criminal']).tail(15).sort_values(by=['PARTY'])\n",
    "\n",
    "\n",
    "\n",
    "party_winner"
   ]
  },
  {
   "cell_type": "markdown",
   "metadata": {
    "id": "fWAIoxeGWcgo"
   },
   "source": [
    "#Bar plot of Party vs History of crime Cases\n"
   ]
  },
  {
   "cell_type": "code",
   "execution_count": 37,
   "metadata": {
    "colab": {
     "base_uri": "https://localhost:8080/",
     "height": 561
    },
    "id": "m8ta9130fwtq",
    "outputId": "ddb01a14-f797-49a8-db59-0ff51e93d631"
   },
   "outputs": [
    {
     "data": {
      "image/png": "[encoded data removed]",
      "text/plain": [
       "<Figure size 1440x576 with 2 Axes>"
      ]
     },
     "metadata": {},
     "output_type": "display_data"
    }
   ],
   "source": [
    "# 2 Barplot Side by Side\n",
    "fig, axes = plt.subplots(1, 2, figsize=(20, 8))\n",
    "\n",
    "# Passing X axis and Y axis along with subplot position\n",
    "sns.barplot(x = party_criminal_winner.index , y = party_criminal_winner['criminal'] , ax=axes[0] , palette='icefire');\n",
    "axes[0].tick_params(axis='x' , rotation=45); #changing the X axis poition to read more clearly\n",
    "axes[0].set_title('PARTY WISE CRIMINAL CASE OF CONTESTANTS');\n",
    "\n",
    "#We can also change the color of the barplots by giving different palletes\n",
    "sns.barplot(x = party_winner.index , y = party_winner['criminal'] , ax=axes[1] , palette='viridis');\n",
    "axes[1].set_title('PARTY WISE CRIMINAL CASE OF WINNERS');\n",
    "plt.xticks(rotation=45);"
   ]
  },
  {
   "cell_type": "markdown",
   "metadata": {
    "id": "DWeUQkiLRi50"
   },
   "source": [
    "From the above diagram we can see that the bjp and congress parties have maximum number of criminal cases in India. This is because of that, these two parties are all India based where as most of the other parties are regional parties."
   ]
  },
  {
   "cell_type": "markdown",
   "metadata": {
    "id": "EGIOnCZpVLXy"
   },
   "source": [
    "## The Scatter Plot of States vs Total votes in Loksabha 2019 in India"
   ]
  },
  {
   "cell_type": "code",
   "execution_count": 38,
   "metadata": {
    "colab": {
     "base_uri": "https://localhost:8080/",
     "height": 371
    },
    "id": "9J9cVduLwUaD",
    "outputId": "1851accd-0b17-4fbe-db2d-ba59d0f2925a"
   },
   "outputs": [
    {
     "name": "stderr",
     "output_type": "stream",
     "text": [
      "*c* argument looks like a single numeric RGB or RGBA sequence, which should be avoided as value-mapping will have precedence in case its length matches with *x* & *y*.  Please use the *color* keyword-argument or provide a 2-D array with a single row if you intend to specify the same RGB or RGBA value for all points.\n"
     ]
    },
    {
     "data": {
      "text/plain": [
       "<AxesSubplot:xlabel='STATE', ylabel='TOTAL\\nVOTES'>"
      ]
     },
     "execution_count": 38,
     "metadata": {},
     "output_type": "execute_result"
    },
    {
     "data": {
      "text/plain": [
       "<Figure size 36000x504 with 0 Axes>"
      ]
     },
     "metadata": {},
     "output_type": "display_data"
    },
    {
     "data": {
      "image/png": "[encoded data removed]",
      "text/plain": [
       "<Figure size 432x288 with 1 Axes>"
      ]
     },
     "metadata": {},
     "output_type": "display_data"
    }
   ],
   "source": [
    "fig = plt.figure(figsize =(500, 7))\n",
    "df2.plot(x=\"STATE\", y=\"TOTAL\\nVOTES\", kind=\"scatter\")"
   ]
  },
  {
   "cell_type": "code",
   "execution_count": 39,
   "metadata": {
    "colab": {
     "base_uri": "https://localhost:8080/",
     "height": 415
    },
    "id": "Ji1f2Tt1jA3T",
    "outputId": "ec32898c-1b2b-4d33-a50b-4c5a4baaa703"
   },
   "outputs": [
    {
     "data": {
      "text/html": [
       "<div>\n",
       "<style scoped>\n",
       "    .dataframe tbody tr th:only-of-type {\n",
       "        vertical-align: middle;\n",
       "    }\n",
       "\n",
       "    .dataframe tbody tr th {\n",
       "        vertical-align: top;\n",
       "    }\n",
       "\n",
       "    .dataframe thead th {\n",
       "        text-align: right;\n",
       "    }\n",
       "</style>\n",
       "<table border=\"1\" class=\"dataframe\">\n",
       "  <thead>\n",
       "    <tr style=\"text-align: right;\">\n",
       "      <th></th>\n",
       "      <th>Sl No:</th>\n",
       "      <th>STATE</th>\n",
       "      <th>CONSTITUENCY</th>\n",
       "      <th>NAME</th>\n",
       "      <th>WINNER</th>\n",
       "      <th>PARTY</th>\n",
       "      <th>SYMBOL</th>\n",
       "      <th>GENDER</th>\n",
       "      <th>criminal</th>\n",
       "      <th>AGE</th>\n",
       "      <th>...</th>\n",
       "      <th>EDUCATION</th>\n",
       "      <th>GRADUATE</th>\n",
       "      <th>ASSETS</th>\n",
       "      <th>LIABILITIES</th>\n",
       "      <th>GENERAL\\nVOTES</th>\n",
       "      <th>POSTAL\\nVOTES</th>\n",
       "      <th>TOTAL\\nVOTES</th>\n",
       "      <th>OVER TOTAL ELECTORS \\nIN CONSTITUENCY</th>\n",
       "      <th>OVER TOTAL VOTES POLLED \\nIN CONSTITUENCY</th>\n",
       "      <th>TOTAL ELECTORS</th>\n",
       "    </tr>\n",
       "  </thead>\n",
       "  <tbody>\n",
       "    <tr>\n",
       "      <th>0</th>\n",
       "      <td>1</td>\n",
       "      <td>Telangana</td>\n",
       "      <td>ADILABAD</td>\n",
       "      <td>SOYAM BAPU RAO</td>\n",
       "      <td>1</td>\n",
       "      <td>BJP</td>\n",
       "      <td>Lotus</td>\n",
       "      <td>MALE</td>\n",
       "      <td>52.0</td>\n",
       "      <td>52.0</td>\n",
       "      <td>...</td>\n",
       "      <td>12th Pass</td>\n",
       "      <td>0.0</td>\n",
       "      <td>Rs 30,99,414\\n ~ 30 Lacs+</td>\n",
       "      <td>Rs 2,31,450\\n ~ 2 Lacs+</td>\n",
       "      <td>376892</td>\n",
       "      <td>482</td>\n",
       "      <td>377374</td>\n",
       "      <td>25.330684</td>\n",
       "      <td>35.468248</td>\n",
       "      <td>1489790</td>\n",
       "    </tr>\n",
       "    <tr>\n",
       "      <th>1</th>\n",
       "      <td>2</td>\n",
       "      <td>Telangana</td>\n",
       "      <td>ADILABAD</td>\n",
       "      <td>Godam Nagesh</td>\n",
       "      <td>0</td>\n",
       "      <td>TRS</td>\n",
       "      <td>Car</td>\n",
       "      <td>MALE</td>\n",
       "      <td>0.0</td>\n",
       "      <td>54.0</td>\n",
       "      <td>...</td>\n",
       "      <td>Post Graduate</td>\n",
       "      <td>1.0</td>\n",
       "      <td>Rs 1,84,77,888\\n ~ 1 Crore+</td>\n",
       "      <td>Rs 8,47,000\\n ~ 8 Lacs+</td>\n",
       "      <td>318665</td>\n",
       "      <td>149</td>\n",
       "      <td>318814</td>\n",
       "      <td>21.399929</td>\n",
       "      <td>29.964370</td>\n",
       "      <td>1489790</td>\n",
       "    </tr>\n",
       "    <tr>\n",
       "      <th>2</th>\n",
       "      <td>3</td>\n",
       "      <td>Telangana</td>\n",
       "      <td>ADILABAD</td>\n",
       "      <td>RATHOD RAMESH</td>\n",
       "      <td>0</td>\n",
       "      <td>INC</td>\n",
       "      <td>Hand</td>\n",
       "      <td>MALE</td>\n",
       "      <td>3.0</td>\n",
       "      <td>52.0</td>\n",
       "      <td>...</td>\n",
       "      <td>12th Pass</td>\n",
       "      <td>0.0</td>\n",
       "      <td>Rs 3,64,91,000\\n ~ 3 Crore+</td>\n",
       "      <td>Rs 1,53,00,000\\n ~ 1 Crore+</td>\n",
       "      <td>314057</td>\n",
       "      <td>181</td>\n",
       "      <td>314238</td>\n",
       "      <td>21.092771</td>\n",
       "      <td>29.534285</td>\n",
       "      <td>1489790</td>\n",
       "    </tr>\n",
       "    <tr>\n",
       "      <th>3</th>\n",
       "      <td>4</td>\n",
       "      <td>Telangana</td>\n",
       "      <td>ADILABAD</td>\n",
       "      <td>NOTA</td>\n",
       "      <td>0</td>\n",
       "      <td>NOTA</td>\n",
       "      <td>NaN</td>\n",
       "      <td>NaN</td>\n",
       "      <td>NaN</td>\n",
       "      <td>NaN</td>\n",
       "      <td>...</td>\n",
       "      <td>NaN</td>\n",
       "      <td>NaN</td>\n",
       "      <td>NaN</td>\n",
       "      <td>NaN</td>\n",
       "      <td>13030</td>\n",
       "      <td>6</td>\n",
       "      <td>13036</td>\n",
       "      <td>0.875023</td>\n",
       "      <td>1.225214</td>\n",
       "      <td>1489790</td>\n",
       "    </tr>\n",
       "    <tr>\n",
       "      <th>4</th>\n",
       "      <td>5</td>\n",
       "      <td>Uttar Pradesh</td>\n",
       "      <td>AGRA</td>\n",
       "      <td>Satyapal Singh Baghel</td>\n",
       "      <td>1</td>\n",
       "      <td>BJP</td>\n",
       "      <td>Lotus</td>\n",
       "      <td>MALE</td>\n",
       "      <td>5.0</td>\n",
       "      <td>58.0</td>\n",
       "      <td>...</td>\n",
       "      <td>Doctorate</td>\n",
       "      <td>1.0</td>\n",
       "      <td>Rs 7,42,74,036\\n ~ 7 Crore+</td>\n",
       "      <td>Rs 86,06,522\\n ~ 86 Lacs+</td>\n",
       "      <td>644459</td>\n",
       "      <td>2416</td>\n",
       "      <td>646875</td>\n",
       "      <td>33.383823</td>\n",
       "      <td>56.464615</td>\n",
       "      <td>1937690</td>\n",
       "    </tr>\n",
       "  </tbody>\n",
       "</table>\n",
       "<p>5 rows × 21 columns</p>\n",
       "</div>"
      ],
      "text/plain": [
       "   Sl No:          STATE CONSTITUENCY                   NAME  WINNER PARTY  \\\n",
       "0       1      Telangana     ADILABAD         SOYAM BAPU RAO       1   BJP   \n",
       "1       2      Telangana     ADILABAD           Godam Nagesh       0   TRS   \n",
       "2       3      Telangana     ADILABAD          RATHOD RAMESH       0   INC   \n",
       "3       4      Telangana     ADILABAD                   NOTA       0  NOTA   \n",
       "4       5  Uttar Pradesh         AGRA  Satyapal Singh Baghel       1   BJP   \n",
       "\n",
       "  SYMBOL GENDER  criminal   AGE  ...      EDUCATION GRADUATE  \\\n",
       "0  Lotus   MALE      52.0  52.0  ...      12th Pass      0.0   \n",
       "1    Car   MALE       0.0  54.0  ...  Post Graduate      1.0   \n",
       "2   Hand   MALE       3.0  52.0  ...      12th Pass      0.0   \n",
       "3    NaN    NaN       NaN   NaN  ...            NaN      NaN   \n",
       "4  Lotus   MALE       5.0  58.0  ...      Doctorate      1.0   \n",
       "\n",
       "                        ASSETS                  LIABILITIES GENERAL\\nVOTES  \\\n",
       "0    Rs 30,99,414\\n ~ 30 Lacs+      Rs 2,31,450\\n ~ 2 Lacs+         376892   \n",
       "1  Rs 1,84,77,888\\n ~ 1 Crore+      Rs 8,47,000\\n ~ 8 Lacs+         318665   \n",
       "2  Rs 3,64,91,000\\n ~ 3 Crore+  Rs 1,53,00,000\\n ~ 1 Crore+         314057   \n",
       "3                          NaN                          NaN          13030   \n",
       "4  Rs 7,42,74,036\\n ~ 7 Crore+    Rs 86,06,522\\n ~ 86 Lacs+         644459   \n",
       "\n",
       "   POSTAL\\nVOTES  TOTAL\\nVOTES  OVER TOTAL ELECTORS \\nIN CONSTITUENCY  \\\n",
       "0            482        377374                              25.330684   \n",
       "1            149        318814                              21.399929   \n",
       "2            181        314238                              21.092771   \n",
       "3              6         13036                               0.875023   \n",
       "4           2416        646875                              33.383823   \n",
       "\n",
       "   OVER TOTAL VOTES POLLED \\nIN CONSTITUENCY  TOTAL ELECTORS  \n",
       "0                                  35.468248         1489790  \n",
       "1                                  29.964370         1489790  \n",
       "2                                  29.534285         1489790  \n",
       "3                                   1.225214         1489790  \n",
       "4                                  56.464615         1937690  \n",
       "\n",
       "[5 rows x 21 columns]"
      ]
     },
     "execution_count": 39,
     "metadata": {},
     "output_type": "execute_result"
    }
   ],
   "source": [
    "df2.head()"
   ]
  },
  {
   "cell_type": "code",
   "execution_count": 40,
   "metadata": {
    "colab": {
     "base_uri": "https://localhost:8080/",
     "height": 549
    },
    "id": "ktCW1o2mwUhE",
    "outputId": "f4829eb5-1ec6-4b2f-abbc-6b0a25ddfc1f"
   },
   "outputs": [
    {
     "data": {
      "text/html": [
       "<div>\n",
       "<style scoped>\n",
       "    .dataframe tbody tr th:only-of-type {\n",
       "        vertical-align: middle;\n",
       "    }\n",
       "\n",
       "    .dataframe tbody tr th {\n",
       "        vertical-align: top;\n",
       "    }\n",
       "\n",
       "    .dataframe thead th {\n",
       "        text-align: right;\n",
       "    }\n",
       "</style>\n",
       "<table border=\"1\" class=\"dataframe\">\n",
       "  <thead>\n",
       "    <tr style=\"text-align: right;\">\n",
       "      <th></th>\n",
       "      <th>criminal</th>\n",
       "    </tr>\n",
       "    <tr>\n",
       "      <th>AGE</th>\n",
       "      <th></th>\n",
       "    </tr>\n",
       "  </thead>\n",
       "  <tbody>\n",
       "    <tr>\n",
       "      <th>37.0</th>\n",
       "      <td>228.0</td>\n",
       "    </tr>\n",
       "    <tr>\n",
       "      <th>42.0</th>\n",
       "      <td>68.0</td>\n",
       "    </tr>\n",
       "    <tr>\n",
       "      <th>46.0</th>\n",
       "      <td>70.0</td>\n",
       "    </tr>\n",
       "    <tr>\n",
       "      <th>48.0</th>\n",
       "      <td>114.0</td>\n",
       "    </tr>\n",
       "    <tr>\n",
       "      <th>49.0</th>\n",
       "      <td>335.0</td>\n",
       "    </tr>\n",
       "    <tr>\n",
       "      <th>50.0</th>\n",
       "      <td>83.0</td>\n",
       "    </tr>\n",
       "    <tr>\n",
       "      <th>51.0</th>\n",
       "      <td>159.0</td>\n",
       "    </tr>\n",
       "    <tr>\n",
       "      <th>52.0</th>\n",
       "      <td>143.0</td>\n",
       "    </tr>\n",
       "    <tr>\n",
       "      <th>54.0</th>\n",
       "      <td>104.0</td>\n",
       "    </tr>\n",
       "    <tr>\n",
       "      <th>55.0</th>\n",
       "      <td>90.0</td>\n",
       "    </tr>\n",
       "    <tr>\n",
       "      <th>56.0</th>\n",
       "      <td>76.0</td>\n",
       "    </tr>\n",
       "    <tr>\n",
       "      <th>57.0</th>\n",
       "      <td>79.0</td>\n",
       "    </tr>\n",
       "    <tr>\n",
       "      <th>58.0</th>\n",
       "      <td>103.0</td>\n",
       "    </tr>\n",
       "    <tr>\n",
       "      <th>60.0</th>\n",
       "      <td>81.0</td>\n",
       "    </tr>\n",
       "    <tr>\n",
       "      <th>63.0</th>\n",
       "      <td>91.0</td>\n",
       "    </tr>\n",
       "  </tbody>\n",
       "</table>\n",
       "</div>"
      ],
      "text/plain": [
       "      criminal\n",
       "AGE           \n",
       "37.0     228.0\n",
       "42.0      68.0\n",
       "46.0      70.0\n",
       "48.0     114.0\n",
       "49.0     335.0\n",
       "50.0      83.0\n",
       "51.0     159.0\n",
       "52.0     143.0\n",
       "54.0     104.0\n",
       "55.0      90.0\n",
       "56.0      76.0\n",
       "57.0      79.0\n",
       "58.0     103.0\n",
       "60.0      81.0\n",
       "63.0      91.0"
      ]
     },
     "execution_count": 40,
     "metadata": {},
     "output_type": "execute_result"
    }
   ],
   "source": [
    "age_criminal = df2[df2['criminal']>0].groupby('AGE')[['criminal']].sum().sort_values(by=\n",
    "                        ['criminal']).tail(15).sort_values(by=['AGE'])\n",
    "age_criminal\n"
   ]
  },
  {
   "cell_type": "code",
   "execution_count": 41,
   "metadata": {
    "colab": {
     "base_uri": "https://localhost:8080/",
     "height": 612
    },
    "id": "2hefvnHBwUnj",
    "outputId": "205413bd-b819-4965-da93-dae65470c464"
   },
   "outputs": [
    {
     "data": {
      "image/png": "[encoded data removed]",
      "text/plain": [
       "<Figure size 1008x720 with 1 Axes>"
      ]
     },
     "metadata": {},
     "output_type": "display_data"
    }
   ],
   "source": [
    "# 2 Barplot Side by Side\n",
    "#fig, axes = plt.subplots(1, 2, figsize=(20, 8))\n",
    "plt.figure(figsize=(14,10))\n",
    "# Passing X axis and Y axis along with subplot position\n",
    "sns.barplot(x = age_criminal.index , y = age_criminal['criminal'] , palette='icefire');\n",
    "#axes[0].tick_params(axis='x' , rotation=45); #changing the X axis poition to read more clearly\n",
    "#axes[0].set_title('AGE WISE CRIMINAL CASE OF CONTESTANTS');"
   ]
  },
  {
   "cell_type": "code",
   "execution_count": 42,
   "metadata": {
    "colab": {
     "base_uri": "https://localhost:8080/",
     "height": 549
    },
    "id": "U0pKBogQnrC1",
    "outputId": "fe8ab758-0ab1-4a05-f4d9-9e786d2f720b"
   },
   "outputs": [
    {
     "data": {
      "text/html": [
       "<div>\n",
       "<style scoped>\n",
       "    .dataframe tbody tr th:only-of-type {\n",
       "        vertical-align: middle;\n",
       "    }\n",
       "\n",
       "    .dataframe tbody tr th {\n",
       "        vertical-align: top;\n",
       "    }\n",
       "\n",
       "    .dataframe thead th {\n",
       "        text-align: right;\n",
       "    }\n",
       "</style>\n",
       "<table border=\"1\" class=\"dataframe\">\n",
       "  <thead>\n",
       "    <tr style=\"text-align: right;\">\n",
       "      <th></th>\n",
       "      <th>TOTAL\\nVOTES</th>\n",
       "    </tr>\n",
       "    <tr>\n",
       "      <th>STATE</th>\n",
       "      <th></th>\n",
       "    </tr>\n",
       "  </thead>\n",
       "  <tbody>\n",
       "    <tr>\n",
       "      <th>Andhra Pradesh</th>\n",
       "      <td>30968703</td>\n",
       "    </tr>\n",
       "    <tr>\n",
       "      <th>Assam</th>\n",
       "      <td>17441534</td>\n",
       "    </tr>\n",
       "    <tr>\n",
       "      <th>Bihar</th>\n",
       "      <td>38755595</td>\n",
       "    </tr>\n",
       "    <tr>\n",
       "      <th>Gujarat</th>\n",
       "      <td>28158684</td>\n",
       "    </tr>\n",
       "    <tr>\n",
       "      <th>Jharkhand</th>\n",
       "      <td>14253127</td>\n",
       "    </tr>\n",
       "    <tr>\n",
       "      <th>Karnataka</th>\n",
       "      <td>33859226</td>\n",
       "    </tr>\n",
       "    <tr>\n",
       "      <th>Kerala</th>\n",
       "      <td>20010727</td>\n",
       "    </tr>\n",
       "    <tr>\n",
       "      <th>Madhya Pradesh</th>\n",
       "      <td>35580595</td>\n",
       "    </tr>\n",
       "    <tr>\n",
       "      <th>Maharashtra</th>\n",
       "      <td>52287234</td>\n",
       "    </tr>\n",
       "    <tr>\n",
       "      <th>Odisha</th>\n",
       "      <td>23250248</td>\n",
       "    </tr>\n",
       "    <tr>\n",
       "      <th>Rajasthan</th>\n",
       "      <td>31698131</td>\n",
       "    </tr>\n",
       "    <tr>\n",
       "      <th>Tamil Nadu</th>\n",
       "      <td>41080470</td>\n",
       "    </tr>\n",
       "    <tr>\n",
       "      <th>Telangana</th>\n",
       "      <td>17956633</td>\n",
       "    </tr>\n",
       "    <tr>\n",
       "      <th>Uttar Pradesh</th>\n",
       "      <td>84046966</td>\n",
       "    </tr>\n",
       "    <tr>\n",
       "      <th>West Bengal</th>\n",
       "      <td>55738817</td>\n",
       "    </tr>\n",
       "  </tbody>\n",
       "</table>\n",
       "</div>"
      ],
      "text/plain": [
       "                TOTAL\\nVOTES\n",
       "STATE                       \n",
       "Andhra Pradesh      30968703\n",
       "Assam               17441534\n",
       "Bihar               38755595\n",
       "Gujarat             28158684\n",
       "Jharkhand           14253127\n",
       "Karnataka           33859226\n",
       "Kerala              20010727\n",
       "Madhya Pradesh      35580595\n",
       "Maharashtra         52287234\n",
       "Odisha              23250248\n",
       "Rajasthan           31698131\n",
       "Tamil Nadu          41080470\n",
       "Telangana           17956633\n",
       "Uttar Pradesh       84046966\n",
       "West Bengal         55738817"
      ]
     },
     "execution_count": 42,
     "metadata": {},
     "output_type": "execute_result"
    }
   ],
   "source": [
    "total_voter1 = df2[df2['TOTAL\\nVOTES']>0].groupby('STATE')[['TOTAL\\nVOTES']].sum().sort_values(by=\n",
    "                        ['TOTAL\\nVOTES']).tail(15).sort_values(by=['STATE'])\n",
    "\n",
    "total_voter1"
   ]
  },
  {
   "cell_type": "markdown",
   "metadata": {
    "id": "5dan4dVyTCBb"
   },
   "source": [
    "##Barplot of State vs Total Votes\n"
   ]
  },
  {
   "cell_type": "code",
   "execution_count": 43,
   "metadata": {
    "colab": {
     "base_uri": "https://localhost:8080/",
     "height": 482
    },
    "id": "JQpd6G0GnrUZ",
    "outputId": "361aeca3-437a-4140-8260-403218c7286d"
   },
   "outputs": [
    {
     "data": {
      "image/png": "[encoded data removed]",
      "text/plain": [
       "<Figure size 1800x720 with 1 Axes>"
      ]
     },
     "metadata": {},
     "output_type": "display_data"
    }
   ],
   "source": [
    "\n",
    "#fig, axes = plt.subplots(1, 2, figsize=(20, 8))\n",
    "plt.figure(figsize=(25,10))\n",
    "# Passing X axis and Y axis along with subplot position\n",
    "sns.barplot(x = total_voter1.index , y = total_voter1['TOTAL\\nVOTES'] , palette='icefire');\n",
    "#axes[0].tick_params(axis='x' , rotation=45); #changing the X axis poition to read more clearly\n",
    "#axes[0].set_title('AGE WISE CRIMINAL CASE OF CONTESTANTS');"
   ]
  },
  {
   "cell_type": "markdown",
   "metadata": {
    "id": "9QE4a2bhTjdh"
   },
   "source": [
    "From  the barplot it is transparent that the total number of votes in Maharastra,Uttar pradesh and West Bengal is very much higher than remaining states in India and Uttar pradesh holds the first place in total number of votes.\n"
   ]
  },
  {
   "cell_type": "code",
   "execution_count": 44,
   "metadata": {
    "colab": {
     "base_uri": "https://localhost:8080/",
     "height": 205
    },
    "id": "vTWTgw8fnrbK",
    "outputId": "ef9fd1be-e84f-4e4e-fada-973c26266fec"
   },
   "outputs": [
    {
     "data": {
      "text/html": [
       "<div>\n",
       "<style scoped>\n",
       "    .dataframe tbody tr th:only-of-type {\n",
       "        vertical-align: middle;\n",
       "    }\n",
       "\n",
       "    .dataframe tbody tr th {\n",
       "        vertical-align: top;\n",
       "    }\n",
       "\n",
       "    .dataframe thead th {\n",
       "        text-align: right;\n",
       "    }\n",
       "</style>\n",
       "<table border=\"1\" class=\"dataframe\">\n",
       "  <thead>\n",
       "    <tr style=\"text-align: right;\">\n",
       "      <th></th>\n",
       "      <th></th>\n",
       "      <th>criminal</th>\n",
       "    </tr>\n",
       "    <tr>\n",
       "      <th>GENDER</th>\n",
       "      <th>WINNER</th>\n",
       "      <th></th>\n",
       "    </tr>\n",
       "  </thead>\n",
       "  <tbody>\n",
       "    <tr>\n",
       "      <th rowspan=\"2\" valign=\"top\">FEMALE</th>\n",
       "      <th>1</th>\n",
       "      <td>65.0</td>\n",
       "    </tr>\n",
       "    <tr>\n",
       "      <th>0</th>\n",
       "      <td>171.0</td>\n",
       "    </tr>\n",
       "    <tr>\n",
       "      <th rowspan=\"2\" valign=\"top\">MALE</th>\n",
       "      <th>1</th>\n",
       "      <td>964.0</td>\n",
       "    </tr>\n",
       "    <tr>\n",
       "      <th>0</th>\n",
       "      <td>1734.0</td>\n",
       "    </tr>\n",
       "  </tbody>\n",
       "</table>\n",
       "</div>"
      ],
      "text/plain": [
       "               criminal\n",
       "GENDER WINNER          \n",
       "FEMALE 1           65.0\n",
       "       0          171.0\n",
       "MALE   1          964.0\n",
       "       0         1734.0"
      ]
     },
     "execution_count": 44,
     "metadata": {},
     "output_type": "execute_result"
    }
   ],
   "source": [
    "fm = df2.groupby(['GENDER','WINNER'])[['criminal']].sum().sort_values(by=\n",
    "                        ['criminal']).tail(15).sort_values(by=['GENDER'])\n",
    "\n",
    "fm"
   ]
  },
  {
   "cell_type": "code",
   "execution_count": 45,
   "metadata": {
    "colab": {
     "base_uri": "https://localhost:8080/",
     "height": 143
    },
    "id": "69em4vhRnrwe",
    "outputId": "fcbc23d9-23e7-4745-9118-c17e520076db"
   },
   "outputs": [
    {
     "data": {
      "text/html": [
       "<div>\n",
       "<style scoped>\n",
       "    .dataframe tbody tr th:only-of-type {\n",
       "        vertical-align: middle;\n",
       "    }\n",
       "\n",
       "    .dataframe tbody tr th {\n",
       "        vertical-align: top;\n",
       "    }\n",
       "\n",
       "    .dataframe thead th {\n",
       "        text-align: right;\n",
       "    }\n",
       "</style>\n",
       "<table border=\"1\" class=\"dataframe\">\n",
       "  <thead>\n",
       "    <tr style=\"text-align: right;\">\n",
       "      <th></th>\n",
       "      <th>criminal</th>\n",
       "    </tr>\n",
       "    <tr>\n",
       "      <th>GENDER</th>\n",
       "      <th></th>\n",
       "    </tr>\n",
       "  </thead>\n",
       "  <tbody>\n",
       "    <tr>\n",
       "      <th>FEMALE</th>\n",
       "      <td>65.0</td>\n",
       "    </tr>\n",
       "    <tr>\n",
       "      <th>MALE</th>\n",
       "      <td>964.0</td>\n",
       "    </tr>\n",
       "  </tbody>\n",
       "</table>\n",
       "</div>"
      ],
      "text/plain": [
       "        criminal\n",
       "GENDER          \n",
       "FEMALE      65.0\n",
       "MALE       964.0"
      ]
     },
     "execution_count": 45,
     "metadata": {},
     "output_type": "execute_result"
    }
   ],
   "source": [
    "party_winner1 = df2[(df2['criminal']>0) & (df2['WINNER']>0)].groupby('GENDER')[['criminal']].sum().sort_values(by=\n",
    "                        ['criminal']).tail(15).sort_values(by=['GENDER'])\n",
    "party_winner1"
   ]
  },
  {
   "cell_type": "markdown",
   "metadata": {
    "id": "r5ouI4DzSU8i"
   },
   "source": [
    "#Barplot of Gender vs Crime:\n"
   ]
  },
  {
   "cell_type": "code",
   "execution_count": 46,
   "metadata": {
    "colab": {
     "base_uri": "https://localhost:8080/",
     "height": 286
    },
    "id": "5GPFzYFKnr0K",
    "outputId": "9abd9333-de9f-44b8-a854-4d9d565157f1"
   },
   "outputs": [
    {
     "data": {
      "image/png": "[encoded data removed]",
      "text/plain": [
       "<Figure size 648x288 with 1 Axes>"
      ]
     },
     "metadata": {},
     "output_type": "display_data"
    }
   ],
   "source": [
    "# 2 Barplot Side by Side\n",
    "#fig, axes = plt.subplots(1, 2, figsize=(20, 8))\n",
    "plt.figure(figsize=(9,4))\n",
    "# Passing X axis and Y axis along with subplot position\n",
    "sns.barplot(x = party_winner1.index , y = party_winner1['criminal']  , palette='icefire');\n",
    "#axes[0].tick_params(axis='x' , rotation=45); #changing the X axis poition to read more clearly\n",
    "#axes[0].set_title('AGE WISE CRIMINAL CASE OF CONTESTANTS');\n"
   ]
  },
  {
   "cell_type": "markdown",
   "metadata": {
    "id": "oH-GGpYtSiIr"
   },
   "source": [
    "From the above graph it can be said that the male candidates with the history of criminal cases is more than female candidates."
   ]
  },
  {
   "cell_type": "code",
   "execution_count": 47,
   "metadata": {
    "colab": {
     "base_uri": "https://localhost:8080/"
    },
    "id": "xJQDWtknnr6P",
    "outputId": "686a3034-9c2a-4557-f511-99d809f82598"
   },
   "outputs": [
    {
     "data": {
      "text/plain": [
       "(73, 21)"
      ]
     },
     "execution_count": 47,
     "metadata": {},
     "output_type": "execute_result"
    }
   ],
   "source": [
    "df=df2[df2.EDUCATION=='Doctorate']\n",
    "df.shape\n"
   ]
  },
  {
   "cell_type": "code",
   "execution_count": 48,
   "metadata": {
    "colab": {
     "base_uri": "https://localhost:8080/"
    },
    "id": "iXdEEUxTKVCl",
    "outputId": "5cb800c9-6749-43e4-9d5c-3ca29af7b135"
   },
   "outputs": [
    {
     "data": {
      "text/plain": [
       "(23, 21)"
      ]
     },
     "execution_count": 48,
     "metadata": {},
     "output_type": "execute_result"
    }
   ],
   "source": [
    "df=df[df.WINNER==1]\n",
    "df.shape"
   ]
  },
  {
   "cell_type": "code",
   "execution_count": 49,
   "metadata": {
    "colab": {
     "base_uri": "https://localhost:8080/"
    },
    "id": "sTS2FtV-Jmbl",
    "outputId": "e3bc81d2-66d5-4a24-f3ea-069983485c5c"
   },
   "outputs": [
    {
     "data": {
      "text/plain": [
       "(14, 21)"
      ]
     },
     "execution_count": 49,
     "metadata": {},
     "output_type": "execute_result"
    }
   ],
   "source": [
    "df1=df[(df.PARTY=='BJP') & (df.WINNER==1)]\n",
    "df1.shape"
   ]
  },
  {
   "cell_type": "code",
   "execution_count": 50,
   "metadata": {
    "id": "1xw7L3ZSyjWw"
   },
   "outputs": [],
   "source": [
    "#automated eda"
   ]
  },
  {
   "cell_type": "code",
   "execution_count": 51,
   "metadata": {},
   "outputs": [
    {
     "name": "stdout",
     "output_type": "stream",
     "text": [
      "Requirement already satisfied: pandas_profiling in c:\\users\\hp\\appdata\\roaming\\python\\python38\\site-packages (3.1.0)\n",
      "Requirement already satisfied: tqdm>=4.48.2 in c:\\users\\hp\\anaconda3\\lib\\site-packages (from pandas_profiling) (4.59.0)\n",
      "Requirement already satisfied: tangled-up-in-unicode==0.1.0 in c:\\users\\hp\\appdata\\roaming\\python\\python38\\site-packages (from pandas_profiling) (0.1.0)\n",
      "Requirement already satisfied: requests>=2.24.0 in c:\\users\\hp\\anaconda3\\lib\\site-packages (from pandas_profiling) (2.25.1)\n",
      "Requirement already satisfied: visions[type_image_path]==0.7.4 in c:\\users\\hp\\appdata\\roaming\\python\\python38\\site-packages (from pandas_profiling) (0.7.4)\n",
      "Requirement already satisfied: phik>=0.11.1 in c:\\users\\hp\\appdata\\roaming\\python\\python38\\site-packages (from pandas_profiling) (0.12.0)\n",
      "Requirement already satisfied: pandas!=1.0.0,!=1.0.1,!=1.0.2,!=1.1.0,>=0.25.3 in c:\\users\\hp\\anaconda3\\lib\\site-packages (from pandas_profiling) (1.2.4)\n",
      "Requirement already satisfied: markupsafe~=2.0.1 in c:\\users\\hp\\appdata\\roaming\\python\\python38\\site-packages (from pandas_profiling) (2.0.1)\n",
      "Requirement already satisfied: scipy>=1.4.1 in c:\\users\\hp\\anaconda3\\lib\\site-packages (from pandas_profiling) (1.6.2)\n",
      "Requirement already satisfied: multimethod>=1.4 in c:\\users\\hp\\appdata\\roaming\\python\\python38\\site-packages (from pandas_profiling) (1.7)\n",
      "Requirement already satisfied: htmlmin>=0.1.12 in c:\\users\\hp\\appdata\\roaming\\python\\python38\\site-packages (from pandas_profiling) (0.1.12)\n",
      "Requirement already satisfied: seaborn>=0.10.1 in c:\\users\\hp\\anaconda3\\lib\\site-packages (from pandas_profiling) (0.11.1)\n",
      "Requirement already satisfied: pydantic>=1.8.1 in c:\\users\\hp\\appdata\\roaming\\python\\python38\\site-packages (from pandas_profiling) (1.9.0)\n",
      "Requirement already satisfied: numpy>=1.16.0 in c:\\users\\hp\\anaconda3\\lib\\site-packages (from pandas_profiling) (1.20.1)\n",
      "Requirement already satisfied: missingno>=0.4.2 in c:\\users\\hp\\anaconda3\\lib\\site-packages (from pandas_profiling) (0.4.2)\n",
      "Requirement already satisfied: joblib~=1.0.1 in c:\\users\\hp\\anaconda3\\lib\\site-packages (from pandas_profiling) (1.0.1)\n",
      "Requirement already satisfied: jinja2>=2.11.1 in c:\\users\\hp\\anaconda3\\lib\\site-packages (from pandas_profiling) (2.11.3)\n",
      "Requirement already satisfied: matplotlib>=3.2.0 in c:\\users\\hp\\anaconda3\\lib\\site-packages (from pandas_profiling) (3.3.4)\n",
      "Requirement already satisfied: PyYAML>=5.0.0 in c:\\users\\hp\\anaconda3\\lib\\site-packages (from pandas_profiling) (5.4.1)\n",
      "Requirement already satisfied: attrs>=19.3.0 in c:\\users\\hp\\anaconda3\\lib\\site-packages (from visions[type_image_path]==0.7.4->pandas_profiling) (20.3.0)\n",
      "Requirement already satisfied: networkx>=2.4 in c:\\users\\hp\\anaconda3\\lib\\site-packages (from visions[type_image_path]==0.7.4->pandas_profiling) (2.5)\n",
      "Requirement already satisfied: imagehash in c:\\users\\hp\\appdata\\roaming\\python\\python38\\site-packages (from visions[type_image_path]==0.7.4->pandas_profiling) (4.2.1)\n",
      "Requirement already satisfied: Pillow in c:\\users\\hp\\anaconda3\\lib\\site-packages (from visions[type_image_path]==0.7.4->pandas_profiling) (8.2.0)\n",
      "Requirement already satisfied: kiwisolver>=1.0.1 in c:\\users\\hp\\anaconda3\\lib\\site-packages (from matplotlib>=3.2.0->pandas_profiling) (1.3.1)\n",
      "Requirement already satisfied: cycler>=0.10 in c:\\users\\hp\\anaconda3\\lib\\site-packages (from matplotlib>=3.2.0->pandas_profiling) (0.10.0)\n",
      "Requirement already satisfied: pyparsing!=2.0.4,!=2.1.2,!=2.1.6,>=2.0.3 in c:\\users\\hp\\anaconda3\\lib\\site-packages (from matplotlib>=3.2.0->pandas_profiling) (2.4.7)\n",
      "Requirement already satisfied: python-dateutil>=2.1 in c:\\users\\hp\\anaconda3\\lib\\site-packages (from matplotlib>=3.2.0->pandas_profiling) (2.8.1)\n",
      "Requirement already satisfied: six in c:\\users\\hp\\anaconda3\\lib\\site-packages (from cycler>=0.10->matplotlib>=3.2.0->pandas_profiling) (1.15.0)\n",
      "Requirement already satisfied: decorator>=4.3.0 in c:\\users\\hp\\anaconda3\\lib\\site-packages (from networkx>=2.4->visions[type_image_path]==0.7.4->pandas_profiling) (5.0.6)\n",
      "Requirement already satisfied: pytz>=2017.3 in c:\\users\\hp\\anaconda3\\lib\\site-packages (from pandas!=1.0.0,!=1.0.1,!=1.0.2,!=1.1.0,>=0.25.3->pandas_profiling) (2021.1)\n",
      "Requirement already satisfied: typing-extensions>=3.7.4.3 in c:\\users\\hp\\anaconda3\\lib\\site-packages (from pydantic>=1.8.1->pandas_profiling) (3.7.4.3)\n",
      "Requirement already satisfied: urllib3<1.27,>=1.21.1 in c:\\users\\hp\\anaconda3\\lib\\site-packages (from requests>=2.24.0->pandas_profiling) (1.26.4)\n",
      "Requirement already satisfied: certifi>=2017.4.17 in c:\\users\\hp\\anaconda3\\lib\\site-packages (from requests>=2.24.0->pandas_profiling) (2020.12.5)\n",
      "Requirement already satisfied: chardet<5,>=3.0.2 in c:\\users\\hp\\anaconda3\\lib\\site-packages (from requests>=2.24.0->pandas_profiling) (4.0.0)\n",
      "Requirement already satisfied: idna<3,>=2.5 in c:\\users\\hp\\anaconda3\\lib\\site-packages (from requests>=2.24.0->pandas_profiling) (2.10)\n",
      "Requirement already satisfied: PyWavelets in c:\\users\\hp\\anaconda3\\lib\\site-packages (from imagehash->visions[type_image_path]==0.7.4->pandas_profiling) (1.1.1)\n",
      "Note: you may need to restart the kernel to use updated packages.\n"
     ]
    }
   ],
   "source": [
    "pip install --user pandas_profiling"
   ]
  },
  {
   "cell_type": "code",
   "execution_count": 52,
   "metadata": {},
   "outputs": [
    {
     "data": {
      "application/vnd.jupyter.widget-view+json": {
       "model_id": "cda9c7c3ad404da385a8e7c25dfd80b6",
       "version_major": 2,
       "version_minor": 0
      },
      "text/plain": [
       "Summarize dataset:   0%|          | 0/5 [00:00<?, ?it/s]"
      ]
     },
     "metadata": {},
     "output_type": "display_data"
    },
    {
     "data": {
      "application/vnd.jupyter.widget-view+json": {
       "model_id": "c205bbdaf5c84fb3b0ecba5ad3301e36",
       "version_major": 2,
       "version_minor": 0
      },
      "text/plain": [
       "Generate report structure:   0%|          | 0/1 [00:00<?, ?it/s]"
      ]
     },
     "metadata": {},
     "output_type": "display_data"
    },
    {
     "data": {
      "application/vnd.jupyter.widget-view+json": {
       "model_id": "67e24d658ff64ae6bcc289a6415b0c2e",
       "version_major": 2,
       "version_minor": 0
      },
      "text/plain": [
       "Render HTML:   0%|          | 0/1 [00:00<?, ?it/s]"
      ]
     },
     "metadata": {},
     "output_type": "display_data"
    },
    {
     "data": {
      "application/vnd.jupyter.widget-view+json": {
       "model_id": "ca80aa9f03694b7e9f5974b5a4103d36",
       "version_major": 2,
       "version_minor": 0
      },
      "text/plain": [
       "Export report to file:   0%|          | 0/1 [00:00<?, ?it/s]"
      ]
     },
     "metadata": {},
     "output_type": "display_data"
    }
   ],
   "source": [
    "import pandas_profiling\n",
    "from pandas_profiling import ProfileReport\n",
    "profile=ProfileReport(df2,explorative=True,dark_mode=True )\n",
    "profile.to_file('output.html')\n",
    "#insights:we can produce ouput in html file in the folder"
   ]
  },
  {
   "cell_type": "code",
   "execution_count": 53,
   "metadata": {},
   "outputs": [
    {
     "name": "stdout",
     "output_type": "stream",
     "text": [
      "Requirement already satisfied: dtale in c:\\users\\hp\\anaconda3\\lib\\site-packages (2.0.0)\n",
      "Requirement already satisfied: Flask in c:\\users\\hp\\anaconda3\\lib\\site-packages (from dtale) (1.1.2)\n",
      "Requirement already satisfied: statsmodels in c:\\users\\hp\\anaconda3\\lib\\site-packages (from dtale) (0.12.2)\n",
      "Requirement already satisfied: future>=0.14.0 in c:\\users\\hp\\anaconda3\\lib\\site-packages (from dtale) (0.18.2)\n",
      "Requirement already satisfied: flask-ngrok in c:\\users\\hp\\anaconda3\\lib\\site-packages (from dtale) (0.0.25)\n",
      "Requirement already satisfied: requests in c:\\users\\hp\\anaconda3\\lib\\site-packages (from dtale) (2.25.1)\n",
      "Requirement already satisfied: six in c:\\users\\hp\\anaconda3\\lib\\site-packages (from dtale) (1.15.0)\n",
      "Requirement already satisfied: plotly>=5.0.0 in c:\\users\\hp\\anaconda3\\lib\\site-packages (from dtale) (5.6.0)\n",
      "Requirement already satisfied: pandas in c:\\users\\hp\\anaconda3\\lib\\site-packages (from dtale) (1.2.4)\n",
      "Requirement already satisfied: dash-daq in c:\\users\\hp\\anaconda3\\lib\\site-packages (from dtale) (0.5.0)\n",
      "Requirement already satisfied: Flask-Compress in c:\\users\\hp\\anaconda3\\lib\\site-packages (from dtale) (1.11)\n",
      "Requirement already satisfied: strsimpy in c:\\users\\hp\\anaconda3\\lib\\site-packages (from dtale) (0.2.1)\n",
      "Requirement already satisfied: cycler in c:\\users\\hp\\anaconda3\\lib\\site-packages (from dtale) (0.10.0)\n",
      "Requirement already satisfied: dash-bootstrap-components in c:\\users\\hp\\anaconda3\\lib\\site-packages (from dtale) (1.0.3)\n",
      "Requirement already satisfied: dash>=2.0.0 in c:\\users\\hp\\anaconda3\\lib\\site-packages (from dtale) (2.2.0)\n",
      "Requirement already satisfied: xlrd in c:\\users\\hp\\anaconda3\\lib\\site-packages (from dtale) (2.0.1)\n",
      "Requirement already satisfied: missingno<=0.4.2 in c:\\users\\hp\\anaconda3\\lib\\site-packages (from dtale) (0.4.2)\n",
      "Requirement already satisfied: matplotlib in c:\\users\\hp\\anaconda3\\lib\\site-packages (from dtale) (3.3.4)\n",
      "Requirement already satisfied: scipy in c:\\users\\hp\\anaconda3\\lib\\site-packages (from dtale) (1.6.2)\n",
      "Requirement already satisfied: scikit-learn==0.24.2 in c:\\users\\hp\\anaconda3\\lib\\site-packages (from dtale) (0.24.2)\n",
      "Requirement already satisfied: xarray in c:\\users\\hp\\anaconda3\\lib\\site-packages (from dtale) (2022.3.0)\n",
      "Requirement already satisfied: networkx in c:\\users\\hp\\anaconda3\\lib\\site-packages (from dtale) (2.5)\n",
      "Requirement already satisfied: et-xmlfile in c:\\users\\hp\\anaconda3\\lib\\site-packages (from dtale) (1.0.1)\n",
      "Requirement already satisfied: lz4 in c:\\users\\hp\\anaconda3\\lib\\site-packages (from dtale) (4.0.0)\n",
      "Requirement already satisfied: dash-colorscales in c:\\users\\hp\\anaconda3\\lib\\site-packages (from dtale) (0.0.4)\n",
      "Requirement already satisfied: kaleido in c:\\users\\hp\\anaconda3\\lib\\site-packages (from dtale) (0.2.1)\n",
      "Requirement already satisfied: squarify in c:\\users\\hp\\anaconda3\\lib\\site-packages (from dtale) (0.4.3)\n",
      "Requirement already satisfied: ppscore in c:\\users\\hp\\anaconda3\\lib\\site-packages (from dtale) (1.2.0)\n",
      "Requirement already satisfied: openpyxl in c:\\users\\hp\\anaconda3\\lib\\site-packages (from dtale) (3.0.7)\n",
      "Requirement already satisfied: itsdangerous in c:\\users\\hp\\anaconda3\\lib\\site-packages (from dtale) (1.1.0)\n",
      "Requirement already satisfied: seaborn in c:\\users\\hp\\anaconda3\\lib\\site-packages (from dtale) (0.11.1)\n",
      "Requirement already satisfied: numpy in c:\\users\\hp\\anaconda3\\lib\\site-packages (from dtale) (1.20.1)\n",
      "Requirement already satisfied: joblib>=0.11 in c:\\users\\hp\\anaconda3\\lib\\site-packages (from scikit-learn==0.24.2->dtale) (1.0.1)\n",
      "Requirement already satisfied: threadpoolctl>=2.0.0 in c:\\users\\hp\\anaconda3\\lib\\site-packages (from scikit-learn==0.24.2->dtale) (2.1.0)\n",
      "Requirement already satisfied: dash-table==5.0.0 in c:\\users\\hp\\anaconda3\\lib\\site-packages (from dash>=2.0.0->dtale) (5.0.0)\n",
      "Requirement already satisfied: dash-html-components==2.0.0 in c:\\users\\hp\\anaconda3\\lib\\site-packages (from dash>=2.0.0->dtale) (2.0.0)\n",
      "Requirement already satisfied: dash-core-components==2.0.0 in c:\\users\\hp\\anaconda3\\lib\\site-packages (from dash>=2.0.0->dtale) (2.0.0)\n",
      "Requirement already satisfied: Jinja2>=2.10.1 in c:\\users\\hp\\anaconda3\\lib\\site-packages (from Flask->dtale) (2.11.3)\n",
      "Requirement already satisfied: Werkzeug>=0.15 in c:\\users\\hp\\anaconda3\\lib\\site-packages (from Flask->dtale) (1.0.1)\n",
      "Requirement already satisfied: click>=5.1 in c:\\users\\hp\\anaconda3\\lib\\site-packages (from Flask->dtale) (7.1.2)\n",
      "Requirement already satisfied: MarkupSafe>=0.23 in c:\\users\\hp\\appdata\\roaming\\python\\python38\\site-packages (from Jinja2>=2.10.1->Flask->dtale) (2.0.1)\n",
      "Requirement already satisfied: tenacity>=6.2.0 in c:\\users\\hp\\anaconda3\\lib\\site-packages (from plotly>=5.0.0->dtale) (8.0.1)\n",
      "Requirement already satisfied: brotli in c:\\users\\hp\\anaconda3\\lib\\site-packages (from Flask-Compress->dtale) (1.0.9)\n",
      "Requirement already satisfied: kiwisolver>=1.0.1 in c:\\users\\hp\\anaconda3\\lib\\site-packages (from matplotlib->dtale) (1.3.1)\n",
      "Requirement already satisfied: pyparsing!=2.0.4,!=2.1.2,!=2.1.6,>=2.0.3 in c:\\users\\hp\\anaconda3\\lib\\site-packages (from matplotlib->dtale) (2.4.7)\n",
      "Requirement already satisfied: python-dateutil>=2.1 in c:\\users\\hp\\anaconda3\\lib\\site-packages (from matplotlib->dtale) (2.8.1)\n",
      "Requirement already satisfied: pillow>=6.2.0 in c:\\users\\hp\\anaconda3\\lib\\site-packages (from matplotlib->dtale) (8.2.0)\n",
      "Requirement already satisfied: decorator>=4.3.0 in c:\\users\\hp\\anaconda3\\lib\\site-packages (from networkx->dtale) (5.0.6)\n",
      "Requirement already satisfied: pytz>=2017.3 in c:\\users\\hp\\anaconda3\\lib\\site-packages (from pandas->dtale) (2021.1)\n",
      "Requirement already satisfied: chardet<5,>=3.0.2 in c:\\users\\hp\\anaconda3\\lib\\site-packages (from requests->dtale) (4.0.0)\n",
      "Requirement already satisfied: certifi>=2017.4.17 in c:\\users\\hp\\anaconda3\\lib\\site-packages (from requests->dtale) (2020.12.5)\n",
      "Requirement already satisfied: idna<3,>=2.5 in c:\\users\\hp\\anaconda3\\lib\\site-packages (from requests->dtale) (2.10)\n",
      "Requirement already satisfied: urllib3<1.27,>=1.21.1 in c:\\users\\hp\\anaconda3\\lib\\site-packages (from requests->dtale) (1.26.4)\n",
      "Requirement already satisfied: patsy>=0.5 in c:\\users\\hp\\anaconda3\\lib\\site-packages (from statsmodels->dtale) (0.5.1)\n",
      "Requirement already satisfied: packaging>=20.0 in c:\\users\\hp\\anaconda3\\lib\\site-packages (from xarray->dtale) (20.9)\n"
     ]
    }
   ],
   "source": [
    "!pip install dtale"
   ]
  },
  {
   "cell_type": "code",
   "execution_count": 54,
   "metadata": {},
   "outputs": [
    {
     "data": {
      "text/html": [
       "\n",
       "        <iframe\n",
       "            width=\"100%\"\n",
       "            height=\"475\"\n",
       "            src=\"http://DESKTOP-5HU32BQ:40000/dtale/iframe/1\"\n",
       "            frameborder=\"0\"\n",
       "            allowfullscreen\n",
       "        ></iframe>\n",
       "        "
      ],
      "text/plain": [
       "<IPython.lib.display.IFrame at 0x1f115f91b50>"
      ]
     },
     "metadata": {},
     "output_type": "display_data"
    },
    {
     "data": {
      "text/plain": []
     },
     "execution_count": 54,
     "metadata": {},
     "output_type": "execute_result"
    }
   ],
   "source": [
    "import dtale\n",
    "dtale.show(df2)"
   ]
  },
  {
   "cell_type": "markdown",
   "metadata": {},
   "source": [
    "clean the dataset, fix column names and treat the missing values. First I fixed the incorrect column names and replace all the spaces in column names with underscores (‘_’)"
   ]
  },
  {
   "cell_type": "code",
   "execution_count": 55,
   "metadata": {},
   "outputs": [],
   "source": [
    "df2 = df2.rename(columns={'CRIMINAL\\nCASES': 'CRIMINAL_CASES', 'GENERAL\\nVOTES': 'GENERAL_VOTES', 'POSTAL\\nVOTES': 'POSTAL_VOTES', 'TOTAL\\nVOTES': 'TOTAL_VOTES', 'OVER TOTAL ELECTORS \\nIN CONSTITUENCY': 'OVER_TOTAL_ELECTORS_IN_CONSTITUENCY', 'OVER TOTAL VOTES POLLED \\nIN CONSTITUENCY': 'OVER_TOTAL_VOTES_POLLED_IN_CONSTITUENCY', 'TOTAL ELECTORS': 'TOTAL_ELECTORS'})"
   ]
  },
  {
   "cell_type": "code",
   "execution_count": 56,
   "metadata": {},
   "outputs": [
    {
     "data": {
      "text/html": [
       "<div>\n",
       "<style scoped>\n",
       "    .dataframe tbody tr th:only-of-type {\n",
       "        vertical-align: middle;\n",
       "    }\n",
       "\n",
       "    .dataframe tbody tr th {\n",
       "        vertical-align: top;\n",
       "    }\n",
       "\n",
       "    .dataframe thead th {\n",
       "        text-align: right;\n",
       "    }\n",
       "</style>\n",
       "<table border=\"1\" class=\"dataframe\">\n",
       "  <thead>\n",
       "    <tr style=\"text-align: right;\">\n",
       "      <th></th>\n",
       "      <th>Sl No:</th>\n",
       "      <th>STATE</th>\n",
       "      <th>CONSTITUENCY</th>\n",
       "      <th>NAME</th>\n",
       "      <th>WINNER</th>\n",
       "      <th>PARTY</th>\n",
       "      <th>SYMBOL</th>\n",
       "      <th>GENDER</th>\n",
       "      <th>criminal</th>\n",
       "      <th>AGE</th>\n",
       "      <th>...</th>\n",
       "      <th>EDUCATION</th>\n",
       "      <th>GRADUATE</th>\n",
       "      <th>ASSETS</th>\n",
       "      <th>LIABILITIES</th>\n",
       "      <th>GENERAL_VOTES</th>\n",
       "      <th>POSTAL_VOTES</th>\n",
       "      <th>TOTAL_VOTES</th>\n",
       "      <th>OVER_TOTAL_ELECTORS_IN_CONSTITUENCY</th>\n",
       "      <th>OVER_TOTAL_VOTES_POLLED_IN_CONSTITUENCY</th>\n",
       "      <th>TOTAL_ELECTORS</th>\n",
       "    </tr>\n",
       "  </thead>\n",
       "  <tbody>\n",
       "    <tr>\n",
       "      <th>0</th>\n",
       "      <td>1</td>\n",
       "      <td>Telangana</td>\n",
       "      <td>ADILABAD</td>\n",
       "      <td>SOYAM BAPU RAO</td>\n",
       "      <td>1</td>\n",
       "      <td>BJP</td>\n",
       "      <td>Lotus</td>\n",
       "      <td>MALE</td>\n",
       "      <td>52.0</td>\n",
       "      <td>52.0</td>\n",
       "      <td>...</td>\n",
       "      <td>12th Pass</td>\n",
       "      <td>0.0</td>\n",
       "      <td>Rs 30,99,414\\n ~ 30 Lacs+</td>\n",
       "      <td>Rs 2,31,450\\n ~ 2 Lacs+</td>\n",
       "      <td>376892</td>\n",
       "      <td>482</td>\n",
       "      <td>377374</td>\n",
       "      <td>25.330684</td>\n",
       "      <td>35.468248</td>\n",
       "      <td>1489790</td>\n",
       "    </tr>\n",
       "    <tr>\n",
       "      <th>1</th>\n",
       "      <td>2</td>\n",
       "      <td>Telangana</td>\n",
       "      <td>ADILABAD</td>\n",
       "      <td>Godam Nagesh</td>\n",
       "      <td>0</td>\n",
       "      <td>TRS</td>\n",
       "      <td>Car</td>\n",
       "      <td>MALE</td>\n",
       "      <td>0.0</td>\n",
       "      <td>54.0</td>\n",
       "      <td>...</td>\n",
       "      <td>Post Graduate</td>\n",
       "      <td>1.0</td>\n",
       "      <td>Rs 1,84,77,888\\n ~ 1 Crore+</td>\n",
       "      <td>Rs 8,47,000\\n ~ 8 Lacs+</td>\n",
       "      <td>318665</td>\n",
       "      <td>149</td>\n",
       "      <td>318814</td>\n",
       "      <td>21.399929</td>\n",
       "      <td>29.964370</td>\n",
       "      <td>1489790</td>\n",
       "    </tr>\n",
       "    <tr>\n",
       "      <th>2</th>\n",
       "      <td>3</td>\n",
       "      <td>Telangana</td>\n",
       "      <td>ADILABAD</td>\n",
       "      <td>RATHOD RAMESH</td>\n",
       "      <td>0</td>\n",
       "      <td>INC</td>\n",
       "      <td>Hand</td>\n",
       "      <td>MALE</td>\n",
       "      <td>3.0</td>\n",
       "      <td>52.0</td>\n",
       "      <td>...</td>\n",
       "      <td>12th Pass</td>\n",
       "      <td>0.0</td>\n",
       "      <td>Rs 3,64,91,000\\n ~ 3 Crore+</td>\n",
       "      <td>Rs 1,53,00,000\\n ~ 1 Crore+</td>\n",
       "      <td>314057</td>\n",
       "      <td>181</td>\n",
       "      <td>314238</td>\n",
       "      <td>21.092771</td>\n",
       "      <td>29.534285</td>\n",
       "      <td>1489790</td>\n",
       "    </tr>\n",
       "    <tr>\n",
       "      <th>3</th>\n",
       "      <td>4</td>\n",
       "      <td>Telangana</td>\n",
       "      <td>ADILABAD</td>\n",
       "      <td>NOTA</td>\n",
       "      <td>0</td>\n",
       "      <td>NOTA</td>\n",
       "      <td>NaN</td>\n",
       "      <td>NaN</td>\n",
       "      <td>NaN</td>\n",
       "      <td>NaN</td>\n",
       "      <td>...</td>\n",
       "      <td>NaN</td>\n",
       "      <td>NaN</td>\n",
       "      <td>NaN</td>\n",
       "      <td>NaN</td>\n",
       "      <td>13030</td>\n",
       "      <td>6</td>\n",
       "      <td>13036</td>\n",
       "      <td>0.875023</td>\n",
       "      <td>1.225214</td>\n",
       "      <td>1489790</td>\n",
       "    </tr>\n",
       "    <tr>\n",
       "      <th>4</th>\n",
       "      <td>5</td>\n",
       "      <td>Uttar Pradesh</td>\n",
       "      <td>AGRA</td>\n",
       "      <td>Satyapal Singh Baghel</td>\n",
       "      <td>1</td>\n",
       "      <td>BJP</td>\n",
       "      <td>Lotus</td>\n",
       "      <td>MALE</td>\n",
       "      <td>5.0</td>\n",
       "      <td>58.0</td>\n",
       "      <td>...</td>\n",
       "      <td>Doctorate</td>\n",
       "      <td>1.0</td>\n",
       "      <td>Rs 7,42,74,036\\n ~ 7 Crore+</td>\n",
       "      <td>Rs 86,06,522\\n ~ 86 Lacs+</td>\n",
       "      <td>644459</td>\n",
       "      <td>2416</td>\n",
       "      <td>646875</td>\n",
       "      <td>33.383823</td>\n",
       "      <td>56.464615</td>\n",
       "      <td>1937690</td>\n",
       "    </tr>\n",
       "  </tbody>\n",
       "</table>\n",
       "<p>5 rows × 21 columns</p>\n",
       "</div>"
      ],
      "text/plain": [
       "   Sl No:          STATE CONSTITUENCY                   NAME  WINNER PARTY  \\\n",
       "0       1      Telangana     ADILABAD         SOYAM BAPU RAO       1   BJP   \n",
       "1       2      Telangana     ADILABAD           Godam Nagesh       0   TRS   \n",
       "2       3      Telangana     ADILABAD          RATHOD RAMESH       0   INC   \n",
       "3       4      Telangana     ADILABAD                   NOTA       0  NOTA   \n",
       "4       5  Uttar Pradesh         AGRA  Satyapal Singh Baghel       1   BJP   \n",
       "\n",
       "  SYMBOL GENDER  criminal   AGE  ...      EDUCATION GRADUATE  \\\n",
       "0  Lotus   MALE      52.0  52.0  ...      12th Pass      0.0   \n",
       "1    Car   MALE       0.0  54.0  ...  Post Graduate      1.0   \n",
       "2   Hand   MALE       3.0  52.0  ...      12th Pass      0.0   \n",
       "3    NaN    NaN       NaN   NaN  ...            NaN      NaN   \n",
       "4  Lotus   MALE       5.0  58.0  ...      Doctorate      1.0   \n",
       "\n",
       "                        ASSETS                  LIABILITIES GENERAL_VOTES  \\\n",
       "0    Rs 30,99,414\\n ~ 30 Lacs+      Rs 2,31,450\\n ~ 2 Lacs+        376892   \n",
       "1  Rs 1,84,77,888\\n ~ 1 Crore+      Rs 8,47,000\\n ~ 8 Lacs+        318665   \n",
       "2  Rs 3,64,91,000\\n ~ 3 Crore+  Rs 1,53,00,000\\n ~ 1 Crore+        314057   \n",
       "3                          NaN                          NaN         13030   \n",
       "4  Rs 7,42,74,036\\n ~ 7 Crore+    Rs 86,06,522\\n ~ 86 Lacs+        644459   \n",
       "\n",
       "   POSTAL_VOTES  TOTAL_VOTES  OVER_TOTAL_ELECTORS_IN_CONSTITUENCY  \\\n",
       "0           482       377374                            25.330684   \n",
       "1           149       318814                            21.399929   \n",
       "2           181       314238                            21.092771   \n",
       "3             6        13036                             0.875023   \n",
       "4          2416       646875                            33.383823   \n",
       "\n",
       "   OVER_TOTAL_VOTES_POLLED_IN_CONSTITUENCY  TOTAL_ELECTORS  \n",
       "0                                35.468248         1489790  \n",
       "1                                29.964370         1489790  \n",
       "2                                29.534285         1489790  \n",
       "3                                 1.225214         1489790  \n",
       "4                                56.464615         1937690  \n",
       "\n",
       "[5 rows x 21 columns]"
      ]
     },
     "execution_count": 56,
     "metadata": {},
     "output_type": "execute_result"
    }
   ],
   "source": [
    "df2.head()"
   ]
  },
  {
   "cell_type": "markdown",
   "metadata": {},
   "source": [
    "\n",
    "# conclusion:\n",
    "\n",
    "1.From this analysis, we have found that Indians are very much aware of the voting system and political parties. The vote percentage is very good in Kerala, West Bengal, Manipur, Maharashtra, etc.\n",
    "2.The BJP candidates have participated more than the other parties in Lok Sabha 2019.\n",
    "3.It is transparent that the total number of votes in Maharastra, Uttar Pradesh, and West Bengal are very much higher than the remaining states in India and Uttar Pradesh holds first place in the total number of votes.\n",
    "4.The number of female candidates is very less than the number of male candidates.\n",
    "5.Unfortunately, we found that the candidates of Kerala have maximum criminal cases history, and West- Bengal, Uttar Pradesh, and Telangana are not far behind. The maximum no of criminal cases done by a single person is 240 and he is from Kerala.\n",
    "6.We have noticed that the history of the criminal case of candidates is maximum at the age of 49,37, and 51."
   ]
  },
  {
   "cell_type": "markdown",
   "metadata": {},
   "source": [
    "# Data preprocessing"
   ]
  },
  {
   "cell_type": "markdown",
   "metadata": {},
   "source": [
    "Handling Missing Values"
   ]
  },
  {
   "cell_type": "code",
   "execution_count": 57,
   "metadata": {},
   "outputs": [
    {
     "data": {
      "text/plain": [
       "Sl No:                                       0\n",
       "STATE                                        0\n",
       "CONSTITUENCY                                 0\n",
       "NAME                                         0\n",
       "WINNER                                       0\n",
       "PARTY                                        0\n",
       "SYMBOL                                     245\n",
       "GENDER                                     245\n",
       "criminal                                   245\n",
       "AGE                                        245\n",
       "CATEGORY                                   245\n",
       "EDUCATION                                  245\n",
       "GRADUATE                                   242\n",
       "ASSETS                                     245\n",
       "LIABILITIES                                245\n",
       "GENERAL_VOTES                                0\n",
       "POSTAL_VOTES                                 0\n",
       "TOTAL_VOTES                                  0\n",
       "OVER_TOTAL_ELECTORS_IN_CONSTITUENCY          0\n",
       "OVER_TOTAL_VOTES_POLLED_IN_CONSTITUENCY      0\n",
       "TOTAL_ELECTORS                               0\n",
       "dtype: int64"
      ]
     },
     "execution_count": 57,
     "metadata": {},
     "output_type": "execute_result"
    }
   ],
   "source": [
    "df2.isna().sum()"
   ]
  },
  {
   "cell_type": "code",
   "execution_count": 58,
   "metadata": {},
   "outputs": [
    {
     "data": {
      "text/plain": [
       "Sl No:                                       int64\n",
       "STATE                                       object\n",
       "CONSTITUENCY                                object\n",
       "NAME                                        object\n",
       "WINNER                                       int64\n",
       "PARTY                                       object\n",
       "SYMBOL                                      object\n",
       "GENDER                                      object\n",
       "criminal                                   float64\n",
       "AGE                                        float64\n",
       "CATEGORY                                    object\n",
       "EDUCATION                                   object\n",
       "GRADUATE                                   float64\n",
       "ASSETS                                      object\n",
       "LIABILITIES                                 object\n",
       "GENERAL_VOTES                                int64\n",
       "POSTAL_VOTES                                 int64\n",
       "TOTAL_VOTES                                  int64\n",
       "OVER_TOTAL_ELECTORS_IN_CONSTITUENCY        float64\n",
       "OVER_TOTAL_VOTES_POLLED_IN_CONSTITUENCY    float64\n",
       "TOTAL_ELECTORS                               int64\n",
       "dtype: object"
      ]
     },
     "execution_count": 58,
     "metadata": {},
     "output_type": "execute_result"
    }
   ],
   "source": [
    "df2.dtypes"
   ]
  },
  {
   "cell_type": "code",
   "execution_count": 59,
   "metadata": {},
   "outputs": [
    {
     "data": {
      "image/png": "[encoded data removed]",
      "text/plain": [
       "<Figure size 1440x1080 with 6 Axes>"
      ]
     },
     "metadata": {},
     "output_type": "display_data"
    }
   ],
   "source": [
    "freqgraph=df2.select_dtypes(include=['float'])\n",
    "freqgraph.hist(figsize=(20,15))\n",
    "plt.show()"
   ]
  },
  {
   "cell_type": "markdown",
   "metadata": {},
   "source": [
    "Here the variable 'age' has zero skewness and all other float variables are positively skewed."
   ]
  },
  {
   "cell_type": "code",
   "execution_count": 60,
   "metadata": {},
   "outputs": [
    {
     "data": {
      "text/plain": [
       "Index(['Sl No:', 'STATE', 'CONSTITUENCY', 'NAME', 'WINNER', 'PARTY', 'SYMBOL',\n",
       "       'GENDER', 'criminal', 'AGE', 'CATEGORY', 'EDUCATION', 'GRADUATE',\n",
       "       'ASSETS', 'LIABILITIES', 'GENERAL_VOTES', 'POSTAL_VOTES', 'TOTAL_VOTES',\n",
       "       'OVER_TOTAL_ELECTORS_IN_CONSTITUENCY',\n",
       "       'OVER_TOTAL_VOTES_POLLED_IN_CONSTITUENCY', 'TOTAL_ELECTORS'],\n",
       "      dtype='object')"
      ]
     },
     "execution_count": 60,
     "metadata": {},
     "output_type": "execute_result"
    }
   ],
   "source": [
    "df2.columns"
   ]
  },
  {
   "cell_type": "code",
   "execution_count": 61,
   "metadata": {},
   "outputs": [],
   "source": [
    "df2['criminal']=df2['criminal'].fillna(df2['criminal'].median())"
   ]
  },
  {
   "cell_type": "code",
   "execution_count": 62,
   "metadata": {},
   "outputs": [
    {
     "data": {
      "text/plain": [
       "Sl No:                                       0\n",
       "STATE                                        0\n",
       "CONSTITUENCY                                 0\n",
       "NAME                                         0\n",
       "WINNER                                       0\n",
       "PARTY                                        0\n",
       "SYMBOL                                     245\n",
       "GENDER                                     245\n",
       "criminal                                     0\n",
       "AGE                                        245\n",
       "CATEGORY                                   245\n",
       "EDUCATION                                  245\n",
       "GRADUATE                                   242\n",
       "ASSETS                                     245\n",
       "LIABILITIES                                245\n",
       "GENERAL_VOTES                                0\n",
       "POSTAL_VOTES                                 0\n",
       "TOTAL_VOTES                                  0\n",
       "OVER_TOTAL_ELECTORS_IN_CONSTITUENCY          0\n",
       "OVER_TOTAL_VOTES_POLLED_IN_CONSTITUENCY      0\n",
       "TOTAL_ELECTORS                               0\n",
       "dtype: int64"
      ]
     },
     "execution_count": 62,
     "metadata": {},
     "output_type": "execute_result"
    }
   ],
   "source": [
    "df2.isna().sum()"
   ]
  },
  {
   "cell_type": "code",
   "execution_count": 63,
   "metadata": {},
   "outputs": [],
   "source": [
    "df2['AGE']=df2['AGE'].fillna(df2['AGE'].median())\n",
    "df2['GRADUATE']=df2['GRADUATE'].fillna(df2['GRADUATE'].median())\n"
   ]
  },
  {
   "cell_type": "code",
   "execution_count": 64,
   "metadata": {},
   "outputs": [
    {
     "data": {
      "text/plain": [
       "Sl No:                                       0\n",
       "STATE                                        0\n",
       "CONSTITUENCY                                 0\n",
       "NAME                                         0\n",
       "WINNER                                       0\n",
       "PARTY                                        0\n",
       "SYMBOL                                     245\n",
       "GENDER                                     245\n",
       "criminal                                     0\n",
       "AGE                                          0\n",
       "CATEGORY                                   245\n",
       "EDUCATION                                  245\n",
       "GRADUATE                                     0\n",
       "ASSETS                                     245\n",
       "LIABILITIES                                245\n",
       "GENERAL_VOTES                                0\n",
       "POSTAL_VOTES                                 0\n",
       "TOTAL_VOTES                                  0\n",
       "OVER_TOTAL_ELECTORS_IN_CONSTITUENCY          0\n",
       "OVER_TOTAL_VOTES_POLLED_IN_CONSTITUENCY      0\n",
       "TOTAL_ELECTORS                               0\n",
       "dtype: int64"
      ]
     },
     "execution_count": 64,
     "metadata": {},
     "output_type": "execute_result"
    }
   ],
   "source": [
    "df2.isna().sum()"
   ]
  },
  {
   "cell_type": "code",
   "execution_count": 65,
   "metadata": {},
   "outputs": [
    {
     "data": {
      "text/html": [
       "<div>\n",
       "<style scoped>\n",
       "    .dataframe tbody tr th:only-of-type {\n",
       "        vertical-align: middle;\n",
       "    }\n",
       "\n",
       "    .dataframe tbody tr th {\n",
       "        vertical-align: top;\n",
       "    }\n",
       "\n",
       "    .dataframe thead th {\n",
       "        text-align: right;\n",
       "    }\n",
       "</style>\n",
       "<table border=\"1\" class=\"dataframe\">\n",
       "  <thead>\n",
       "    <tr style=\"text-align: right;\">\n",
       "      <th></th>\n",
       "      <th>Sl No:</th>\n",
       "      <th>STATE</th>\n",
       "      <th>CONSTITUENCY</th>\n",
       "      <th>NAME</th>\n",
       "      <th>WINNER</th>\n",
       "      <th>PARTY</th>\n",
       "      <th>SYMBOL</th>\n",
       "      <th>GENDER</th>\n",
       "      <th>criminal</th>\n",
       "      <th>AGE</th>\n",
       "      <th>...</th>\n",
       "      <th>EDUCATION</th>\n",
       "      <th>GRADUATE</th>\n",
       "      <th>ASSETS</th>\n",
       "      <th>LIABILITIES</th>\n",
       "      <th>GENERAL_VOTES</th>\n",
       "      <th>POSTAL_VOTES</th>\n",
       "      <th>TOTAL_VOTES</th>\n",
       "      <th>OVER_TOTAL_ELECTORS_IN_CONSTITUENCY</th>\n",
       "      <th>OVER_TOTAL_VOTES_POLLED_IN_CONSTITUENCY</th>\n",
       "      <th>TOTAL_ELECTORS</th>\n",
       "    </tr>\n",
       "  </thead>\n",
       "  <tbody>\n",
       "    <tr>\n",
       "      <th>0</th>\n",
       "      <td>1</td>\n",
       "      <td>Telangana</td>\n",
       "      <td>ADILABAD</td>\n",
       "      <td>SOYAM BAPU RAO</td>\n",
       "      <td>1</td>\n",
       "      <td>BJP</td>\n",
       "      <td>Lotus</td>\n",
       "      <td>MALE</td>\n",
       "      <td>52.0</td>\n",
       "      <td>52.0</td>\n",
       "      <td>...</td>\n",
       "      <td>12th Pass</td>\n",
       "      <td>0.0</td>\n",
       "      <td>Rs 30,99,414\\n ~ 30 Lacs+</td>\n",
       "      <td>Rs 2,31,450\\n ~ 2 Lacs+</td>\n",
       "      <td>376892</td>\n",
       "      <td>482</td>\n",
       "      <td>377374</td>\n",
       "      <td>25.330684</td>\n",
       "      <td>35.468248</td>\n",
       "      <td>1489790</td>\n",
       "    </tr>\n",
       "    <tr>\n",
       "      <th>1</th>\n",
       "      <td>2</td>\n",
       "      <td>Telangana</td>\n",
       "      <td>ADILABAD</td>\n",
       "      <td>Godam Nagesh</td>\n",
       "      <td>0</td>\n",
       "      <td>TRS</td>\n",
       "      <td>Car</td>\n",
       "      <td>MALE</td>\n",
       "      <td>0.0</td>\n",
       "      <td>54.0</td>\n",
       "      <td>...</td>\n",
       "      <td>Post Graduate</td>\n",
       "      <td>1.0</td>\n",
       "      <td>Rs 1,84,77,888\\n ~ 1 Crore+</td>\n",
       "      <td>Rs 8,47,000\\n ~ 8 Lacs+</td>\n",
       "      <td>318665</td>\n",
       "      <td>149</td>\n",
       "      <td>318814</td>\n",
       "      <td>21.399929</td>\n",
       "      <td>29.964370</td>\n",
       "      <td>1489790</td>\n",
       "    </tr>\n",
       "    <tr>\n",
       "      <th>2</th>\n",
       "      <td>3</td>\n",
       "      <td>Telangana</td>\n",
       "      <td>ADILABAD</td>\n",
       "      <td>RATHOD RAMESH</td>\n",
       "      <td>0</td>\n",
       "      <td>INC</td>\n",
       "      <td>Hand</td>\n",
       "      <td>MALE</td>\n",
       "      <td>3.0</td>\n",
       "      <td>52.0</td>\n",
       "      <td>...</td>\n",
       "      <td>12th Pass</td>\n",
       "      <td>0.0</td>\n",
       "      <td>Rs 3,64,91,000\\n ~ 3 Crore+</td>\n",
       "      <td>Rs 1,53,00,000\\n ~ 1 Crore+</td>\n",
       "      <td>314057</td>\n",
       "      <td>181</td>\n",
       "      <td>314238</td>\n",
       "      <td>21.092771</td>\n",
       "      <td>29.534285</td>\n",
       "      <td>1489790</td>\n",
       "    </tr>\n",
       "    <tr>\n",
       "      <th>3</th>\n",
       "      <td>4</td>\n",
       "      <td>Telangana</td>\n",
       "      <td>ADILABAD</td>\n",
       "      <td>NOTA</td>\n",
       "      <td>0</td>\n",
       "      <td>NOTA</td>\n",
       "      <td>Hand</td>\n",
       "      <td>MALE</td>\n",
       "      <td>0.0</td>\n",
       "      <td>52.0</td>\n",
       "      <td>...</td>\n",
       "      <td>12th Pass</td>\n",
       "      <td>1.0</td>\n",
       "      <td>Rs 3,64,91,000\\n ~ 3 Crore+</td>\n",
       "      <td>Rs 1,53,00,000\\n ~ 1 Crore+</td>\n",
       "      <td>13030</td>\n",
       "      <td>6</td>\n",
       "      <td>13036</td>\n",
       "      <td>0.875023</td>\n",
       "      <td>1.225214</td>\n",
       "      <td>1489790</td>\n",
       "    </tr>\n",
       "    <tr>\n",
       "      <th>4</th>\n",
       "      <td>5</td>\n",
       "      <td>Uttar Pradesh</td>\n",
       "      <td>AGRA</td>\n",
       "      <td>Satyapal Singh Baghel</td>\n",
       "      <td>1</td>\n",
       "      <td>BJP</td>\n",
       "      <td>Lotus</td>\n",
       "      <td>MALE</td>\n",
       "      <td>5.0</td>\n",
       "      <td>58.0</td>\n",
       "      <td>...</td>\n",
       "      <td>Doctorate</td>\n",
       "      <td>1.0</td>\n",
       "      <td>Rs 7,42,74,036\\n ~ 7 Crore+</td>\n",
       "      <td>Rs 86,06,522\\n ~ 86 Lacs+</td>\n",
       "      <td>644459</td>\n",
       "      <td>2416</td>\n",
       "      <td>646875</td>\n",
       "      <td>33.383823</td>\n",
       "      <td>56.464615</td>\n",
       "      <td>1937690</td>\n",
       "    </tr>\n",
       "    <tr>\n",
       "      <th>...</th>\n",
       "      <td>...</td>\n",
       "      <td>...</td>\n",
       "      <td>...</td>\n",
       "      <td>...</td>\n",
       "      <td>...</td>\n",
       "      <td>...</td>\n",
       "      <td>...</td>\n",
       "      <td>...</td>\n",
       "      <td>...</td>\n",
       "      <td>...</td>\n",
       "      <td>...</td>\n",
       "      <td>...</td>\n",
       "      <td>...</td>\n",
       "      <td>...</td>\n",
       "      <td>...</td>\n",
       "      <td>...</td>\n",
       "      <td>...</td>\n",
       "      <td>...</td>\n",
       "      <td>...</td>\n",
       "      <td>...</td>\n",
       "      <td>...</td>\n",
       "    </tr>\n",
       "    <tr>\n",
       "      <th>2258</th>\n",
       "      <td>2259</td>\n",
       "      <td>Maharashtra</td>\n",
       "      <td>YAVATMAL-WASHIM</td>\n",
       "      <td>Anil Jayram Rathod</td>\n",
       "      <td>0</td>\n",
       "      <td>IND</td>\n",
       "      <td>SHIP</td>\n",
       "      <td>MALE</td>\n",
       "      <td>0.0</td>\n",
       "      <td>43.0</td>\n",
       "      <td>...</td>\n",
       "      <td>Post Graduate</td>\n",
       "      <td>1.0</td>\n",
       "      <td>Rs 48,90,000\\n ~ 48 Lacs+</td>\n",
       "      <td>Rs 10,20,000\\n ~ 10 Lacs+</td>\n",
       "      <td>14661</td>\n",
       "      <td>25</td>\n",
       "      <td>14686</td>\n",
       "      <td>0.766419</td>\n",
       "      <td>1.250060</td>\n",
       "      <td>1916185</td>\n",
       "    </tr>\n",
       "    <tr>\n",
       "      <th>2259</th>\n",
       "      <td>2260</td>\n",
       "      <td>Telangana</td>\n",
       "      <td>ZAHIRABAD</td>\n",
       "      <td>B.B.PATIL</td>\n",
       "      <td>1</td>\n",
       "      <td>TRS</td>\n",
       "      <td>Car</td>\n",
       "      <td>MALE</td>\n",
       "      <td>18.0</td>\n",
       "      <td>63.0</td>\n",
       "      <td>...</td>\n",
       "      <td>Graduate</td>\n",
       "      <td>1.0</td>\n",
       "      <td>Rs 1,28,78,51,556\\n ~ 128 Crore+</td>\n",
       "      <td>Rs 1,15,35,000\\n ~ 1 Crore+</td>\n",
       "      <td>434066</td>\n",
       "      <td>178</td>\n",
       "      <td>434244</td>\n",
       "      <td>28.975369</td>\n",
       "      <td>41.574183</td>\n",
       "      <td>1498666</td>\n",
       "    </tr>\n",
       "    <tr>\n",
       "      <th>2260</th>\n",
       "      <td>2261</td>\n",
       "      <td>Telangana</td>\n",
       "      <td>ZAHIRABAD</td>\n",
       "      <td>MADAN MOHAN RAO</td>\n",
       "      <td>0</td>\n",
       "      <td>INC</td>\n",
       "      <td>Hand</td>\n",
       "      <td>MALE</td>\n",
       "      <td>0.0</td>\n",
       "      <td>49.0</td>\n",
       "      <td>...</td>\n",
       "      <td>Post Graduate</td>\n",
       "      <td>1.0</td>\n",
       "      <td>Rs 90,36,63,001\\n ~ 90 Crore+</td>\n",
       "      <td>Rs 0\\n ~</td>\n",
       "      <td>427900</td>\n",
       "      <td>115</td>\n",
       "      <td>428015</td>\n",
       "      <td>28.559732</td>\n",
       "      <td>40.977823</td>\n",
       "      <td>1498666</td>\n",
       "    </tr>\n",
       "    <tr>\n",
       "      <th>2261</th>\n",
       "      <td>2262</td>\n",
       "      <td>Telangana</td>\n",
       "      <td>ZAHIRABAD</td>\n",
       "      <td>BANALA LAXMA REDDY</td>\n",
       "      <td>0</td>\n",
       "      <td>BJP</td>\n",
       "      <td>Lotus</td>\n",
       "      <td>MALE</td>\n",
       "      <td>3.0</td>\n",
       "      <td>47.0</td>\n",
       "      <td>...</td>\n",
       "      <td>12th Pass</td>\n",
       "      <td>0.0</td>\n",
       "      <td>Rs 5,85,77,327\\n ~ 5 Crore+</td>\n",
       "      <td>Rs 52,50,000\\n ~ 52 Lacs+</td>\n",
       "      <td>138731</td>\n",
       "      <td>216</td>\n",
       "      <td>138947</td>\n",
       "      <td>9.271379</td>\n",
       "      <td>13.302678</td>\n",
       "      <td>1498666</td>\n",
       "    </tr>\n",
       "    <tr>\n",
       "      <th>2262</th>\n",
       "      <td>2263</td>\n",
       "      <td>Telangana</td>\n",
       "      <td>ZAHIRABAD</td>\n",
       "      <td>NOTA</td>\n",
       "      <td>0</td>\n",
       "      <td>NOTA</td>\n",
       "      <td>Lotus</td>\n",
       "      <td>MALE</td>\n",
       "      <td>0.0</td>\n",
       "      <td>52.0</td>\n",
       "      <td>...</td>\n",
       "      <td>12th Pass</td>\n",
       "      <td>1.0</td>\n",
       "      <td>Rs 5,85,77,327\\n ~ 5 Crore+</td>\n",
       "      <td>Rs 52,50,000\\n ~ 52 Lacs+</td>\n",
       "      <td>11138</td>\n",
       "      <td>2</td>\n",
       "      <td>11140</td>\n",
       "      <td>0.743328</td>\n",
       "      <td>1.066535</td>\n",
       "      <td>1498666</td>\n",
       "    </tr>\n",
       "  </tbody>\n",
       "</table>\n",
       "<p>2263 rows × 21 columns</p>\n",
       "</div>"
      ],
      "text/plain": [
       "      Sl No:          STATE     CONSTITUENCY                   NAME  WINNER  \\\n",
       "0          1      Telangana         ADILABAD         SOYAM BAPU RAO       1   \n",
       "1          2      Telangana         ADILABAD           Godam Nagesh       0   \n",
       "2          3      Telangana         ADILABAD          RATHOD RAMESH       0   \n",
       "3          4      Telangana         ADILABAD                   NOTA       0   \n",
       "4          5  Uttar Pradesh             AGRA  Satyapal Singh Baghel       1   \n",
       "...      ...            ...              ...                    ...     ...   \n",
       "2258    2259    Maharashtra  YAVATMAL-WASHIM     Anil Jayram Rathod       0   \n",
       "2259    2260      Telangana        ZAHIRABAD              B.B.PATIL       1   \n",
       "2260    2261      Telangana        ZAHIRABAD        MADAN MOHAN RAO       0   \n",
       "2261    2262      Telangana        ZAHIRABAD     BANALA LAXMA REDDY       0   \n",
       "2262    2263      Telangana        ZAHIRABAD                   NOTA       0   \n",
       "\n",
       "     PARTY SYMBOL GENDER  criminal   AGE  ...      EDUCATION GRADUATE  \\\n",
       "0      BJP  Lotus   MALE      52.0  52.0  ...      12th Pass      0.0   \n",
       "1      TRS    Car   MALE       0.0  54.0  ...  Post Graduate      1.0   \n",
       "2      INC   Hand   MALE       3.0  52.0  ...      12th Pass      0.0   \n",
       "3     NOTA   Hand   MALE       0.0  52.0  ...      12th Pass      1.0   \n",
       "4      BJP  Lotus   MALE       5.0  58.0  ...      Doctorate      1.0   \n",
       "...    ...    ...    ...       ...   ...  ...            ...      ...   \n",
       "2258   IND   SHIP   MALE       0.0  43.0  ...  Post Graduate      1.0   \n",
       "2259   TRS    Car   MALE      18.0  63.0  ...       Graduate      1.0   \n",
       "2260   INC   Hand   MALE       0.0  49.0  ...  Post Graduate      1.0   \n",
       "2261   BJP  Lotus   MALE       3.0  47.0  ...      12th Pass      0.0   \n",
       "2262  NOTA  Lotus   MALE       0.0  52.0  ...      12th Pass      1.0   \n",
       "\n",
       "                                ASSETS                  LIABILITIES  \\\n",
       "0            Rs 30,99,414\\n ~ 30 Lacs+      Rs 2,31,450\\n ~ 2 Lacs+   \n",
       "1          Rs 1,84,77,888\\n ~ 1 Crore+      Rs 8,47,000\\n ~ 8 Lacs+   \n",
       "2          Rs 3,64,91,000\\n ~ 3 Crore+  Rs 1,53,00,000\\n ~ 1 Crore+   \n",
       "3          Rs 3,64,91,000\\n ~ 3 Crore+  Rs 1,53,00,000\\n ~ 1 Crore+   \n",
       "4          Rs 7,42,74,036\\n ~ 7 Crore+    Rs 86,06,522\\n ~ 86 Lacs+   \n",
       "...                                ...                          ...   \n",
       "2258         Rs 48,90,000\\n ~ 48 Lacs+    Rs 10,20,000\\n ~ 10 Lacs+   \n",
       "2259  Rs 1,28,78,51,556\\n ~ 128 Crore+  Rs 1,15,35,000\\n ~ 1 Crore+   \n",
       "2260     Rs 90,36,63,001\\n ~ 90 Crore+                     Rs 0\\n ~   \n",
       "2261       Rs 5,85,77,327\\n ~ 5 Crore+    Rs 52,50,000\\n ~ 52 Lacs+   \n",
       "2262       Rs 5,85,77,327\\n ~ 5 Crore+    Rs 52,50,000\\n ~ 52 Lacs+   \n",
       "\n",
       "     GENERAL_VOTES  POSTAL_VOTES  TOTAL_VOTES  \\\n",
       "0           376892           482       377374   \n",
       "1           318665           149       318814   \n",
       "2           314057           181       314238   \n",
       "3            13030             6        13036   \n",
       "4           644459          2416       646875   \n",
       "...            ...           ...          ...   \n",
       "2258         14661            25        14686   \n",
       "2259        434066           178       434244   \n",
       "2260        427900           115       428015   \n",
       "2261        138731           216       138947   \n",
       "2262         11138             2        11140   \n",
       "\n",
       "      OVER_TOTAL_ELECTORS_IN_CONSTITUENCY  \\\n",
       "0                               25.330684   \n",
       "1                               21.399929   \n",
       "2                               21.092771   \n",
       "3                                0.875023   \n",
       "4                               33.383823   \n",
       "...                                   ...   \n",
       "2258                             0.766419   \n",
       "2259                            28.975369   \n",
       "2260                            28.559732   \n",
       "2261                             9.271379   \n",
       "2262                             0.743328   \n",
       "\n",
       "      OVER_TOTAL_VOTES_POLLED_IN_CONSTITUENCY  TOTAL_ELECTORS  \n",
       "0                                   35.468248         1489790  \n",
       "1                                   29.964370         1489790  \n",
       "2                                   29.534285         1489790  \n",
       "3                                    1.225214         1489790  \n",
       "4                                   56.464615         1937690  \n",
       "...                                       ...             ...  \n",
       "2258                                 1.250060         1916185  \n",
       "2259                                41.574183         1498666  \n",
       "2260                                40.977823         1498666  \n",
       "2261                                13.302678         1498666  \n",
       "2262                                 1.066535         1498666  \n",
       "\n",
       "[2263 rows x 21 columns]"
      ]
     },
     "execution_count": 65,
     "metadata": {},
     "output_type": "execute_result"
    }
   ],
   "source": [
    "df2.fillna(method='ffill')"
   ]
  },
  {
   "cell_type": "code",
   "execution_count": 66,
   "metadata": {},
   "outputs": [
    {
     "data": {
      "text/plain": [
       "Sl No:                                       0\n",
       "STATE                                        0\n",
       "CONSTITUENCY                                 0\n",
       "NAME                                         0\n",
       "WINNER                                       0\n",
       "PARTY                                        0\n",
       "SYMBOL                                     245\n",
       "GENDER                                     245\n",
       "criminal                                     0\n",
       "AGE                                          0\n",
       "CATEGORY                                   245\n",
       "EDUCATION                                  245\n",
       "GRADUATE                                     0\n",
       "ASSETS                                     245\n",
       "LIABILITIES                                245\n",
       "GENERAL_VOTES                                0\n",
       "POSTAL_VOTES                                 0\n",
       "TOTAL_VOTES                                  0\n",
       "OVER_TOTAL_ELECTORS_IN_CONSTITUENCY          0\n",
       "OVER_TOTAL_VOTES_POLLED_IN_CONSTITUENCY      0\n",
       "TOTAL_ELECTORS                               0\n",
       "dtype: int64"
      ]
     },
     "execution_count": 66,
     "metadata": {},
     "output_type": "execute_result"
    }
   ],
   "source": [
    "df2.isna().sum()"
   ]
  },
  {
   "cell_type": "code",
   "execution_count": 67,
   "metadata": {},
   "outputs": [],
   "source": [
    "df2.dropna(inplace = True)"
   ]
  },
  {
   "cell_type": "code",
   "execution_count": 68,
   "metadata": {},
   "outputs": [
    {
     "data": {
      "text/plain": [
       "Sl No:                                     0\n",
       "STATE                                      0\n",
       "CONSTITUENCY                               0\n",
       "NAME                                       0\n",
       "WINNER                                     0\n",
       "PARTY                                      0\n",
       "SYMBOL                                     0\n",
       "GENDER                                     0\n",
       "criminal                                   0\n",
       "AGE                                        0\n",
       "CATEGORY                                   0\n",
       "EDUCATION                                  0\n",
       "GRADUATE                                   0\n",
       "ASSETS                                     0\n",
       "LIABILITIES                                0\n",
       "GENERAL_VOTES                              0\n",
       "POSTAL_VOTES                               0\n",
       "TOTAL_VOTES                                0\n",
       "OVER_TOTAL_ELECTORS_IN_CONSTITUENCY        0\n",
       "OVER_TOTAL_VOTES_POLLED_IN_CONSTITUENCY    0\n",
       "TOTAL_ELECTORS                             0\n",
       "dtype: int64"
      ]
     },
     "execution_count": 68,
     "metadata": {},
     "output_type": "execute_result"
    }
   ],
   "source": [
    "df2.isna().sum()"
   ]
  },
  {
   "cell_type": "markdown",
   "metadata": {},
   "source": [
    "# Feature Selection and Feature Engineering"
   ]
  },
  {
   "cell_type": "markdown",
   "metadata": {},
   "source": [
    "Before going ahead with the creation of a predictive model that perform the feature selection and feature engineering. As part of this , we wil create more relevant features and remove irrelevant or less important features. Feature engineering is of a high importance and at the same time very difficult one. "
   ]
  },
  {
   "cell_type": "markdown",
   "metadata": {},
   "source": [
    "In our dataset , all the features are relevant. So feature selection need not be performed."
   ]
  },
  {
   "cell_type": "markdown",
   "metadata": {},
   "source": [
    "# Feature Reduction"
   ]
  },
  {
   "cell_type": "code",
   "execution_count": 69,
   "metadata": {},
   "outputs": [],
   "source": [
    "df2=df2.drop(['SYMBOL'],axis=1)"
   ]
  },
  {
   "cell_type": "code",
   "execution_count": 70,
   "metadata": {},
   "outputs": [],
   "source": [
    "df2=df2.drop(['GENERAL_VOTES'],axis=1)"
   ]
  },
  {
   "cell_type": "code",
   "execution_count": 71,
   "metadata": {},
   "outputs": [],
   "source": [
    "df2=df2.drop(['POSTAL_VOTES'],axis=1)"
   ]
  },
  {
   "cell_type": "code",
   "execution_count": 72,
   "metadata": {},
   "outputs": [],
   "source": [
    "df2=df2.drop(['GRADUATE'],axis=1)"
   ]
  },
  {
   "cell_type": "markdown",
   "metadata": {},
   "source": [
    "# Correlation Matrix"
   ]
  },
  {
   "cell_type": "code",
   "execution_count": 73,
   "metadata": {},
   "outputs": [
    {
     "data": {
      "text/plain": [
       "<AxesSubplot:>"
      ]
     },
     "execution_count": 73,
     "metadata": {},
     "output_type": "execute_result"
    },
    {
     "data": {
      "image/png": "[encoded data removed]",
      "text/plain": [
       "<Figure size 1440x576 with 2 Axes>"
      ]
     },
     "metadata": {},
     "output_type": "display_data"
    }
   ],
   "source": [
    "corrmatrix=df2.corr()\n",
    "plt.subplots(figsize=(20,8))\n",
    "sns.heatmap(corrmatrix,vmin=0.4,vmax=0.9,annot=True,linewidth=0.2)"
   ]
  },
  {
   "cell_type": "markdown",
   "metadata": {},
   "source": [
    "# Label Encoding"
   ]
  },
  {
   "cell_type": "code",
   "execution_count": 74,
   "metadata": {},
   "outputs": [
    {
     "data": {
      "text/html": [
       "<div>\n",
       "<style scoped>\n",
       "    .dataframe tbody tr th:only-of-type {\n",
       "        vertical-align: middle;\n",
       "    }\n",
       "\n",
       "    .dataframe tbody tr th {\n",
       "        vertical-align: top;\n",
       "    }\n",
       "\n",
       "    .dataframe thead th {\n",
       "        text-align: right;\n",
       "    }\n",
       "</style>\n",
       "<table border=\"1\" class=\"dataframe\">\n",
       "  <thead>\n",
       "    <tr style=\"text-align: right;\">\n",
       "      <th></th>\n",
       "      <th>Sl No:</th>\n",
       "      <th>STATE</th>\n",
       "      <th>CONSTITUENCY</th>\n",
       "      <th>NAME</th>\n",
       "      <th>WINNER</th>\n",
       "      <th>PARTY</th>\n",
       "      <th>GENDER</th>\n",
       "      <th>criminal</th>\n",
       "      <th>AGE</th>\n",
       "      <th>CATEGORY</th>\n",
       "      <th>EDUCATION</th>\n",
       "      <th>ASSETS</th>\n",
       "      <th>LIABILITIES</th>\n",
       "      <th>TOTAL_VOTES</th>\n",
       "      <th>OVER_TOTAL_ELECTORS_IN_CONSTITUENCY</th>\n",
       "      <th>OVER_TOTAL_VOTES_POLLED_IN_CONSTITUENCY</th>\n",
       "      <th>TOTAL_ELECTORS</th>\n",
       "    </tr>\n",
       "  </thead>\n",
       "  <tbody>\n",
       "    <tr>\n",
       "      <th>0</th>\n",
       "      <td>1</td>\n",
       "      <td>31</td>\n",
       "      <td>0</td>\n",
       "      <td>1712</td>\n",
       "      <td>1</td>\n",
       "      <td>26</td>\n",
       "      <td>1</td>\n",
       "      <td>52.0</td>\n",
       "      <td>52.0</td>\n",
       "      <td>2</td>\n",
       "      <td>1</td>\n",
       "      <td>Rs 30,99,414\\n ~ 30 Lacs+</td>\n",
       "      <td>Rs 2,31,450\\n ~ 2 Lacs+</td>\n",
       "      <td>377374</td>\n",
       "      <td>25.330684</td>\n",
       "      <td>35.468248</td>\n",
       "      <td>1489790</td>\n",
       "    </tr>\n",
       "    <tr>\n",
       "      <th>1</th>\n",
       "      <td>2</td>\n",
       "      <td>31</td>\n",
       "      <td>0</td>\n",
       "      <td>700</td>\n",
       "      <td>0</td>\n",
       "      <td>119</td>\n",
       "      <td>1</td>\n",
       "      <td>0.0</td>\n",
       "      <td>54.0</td>\n",
       "      <td>2</td>\n",
       "      <td>7</td>\n",
       "      <td>Rs 1,84,77,888\\n ~ 1 Crore+</td>\n",
       "      <td>Rs 8,47,000\\n ~ 8 Lacs+</td>\n",
       "      <td>318814</td>\n",
       "      <td>21.399929</td>\n",
       "      <td>29.964370</td>\n",
       "      <td>1489790</td>\n",
       "    </tr>\n",
       "    <tr>\n",
       "      <th>2</th>\n",
       "      <td>3</td>\n",
       "      <td>31</td>\n",
       "      <td>0</td>\n",
       "      <td>1497</td>\n",
       "      <td>0</td>\n",
       "      <td>46</td>\n",
       "      <td>1</td>\n",
       "      <td>3.0</td>\n",
       "      <td>52.0</td>\n",
       "      <td>2</td>\n",
       "      <td>1</td>\n",
       "      <td>Rs 3,64,91,000\\n ~ 3 Crore+</td>\n",
       "      <td>Rs 1,53,00,000\\n ~ 1 Crore+</td>\n",
       "      <td>314238</td>\n",
       "      <td>21.092771</td>\n",
       "      <td>29.534285</td>\n",
       "      <td>1489790</td>\n",
       "    </tr>\n",
       "    <tr>\n",
       "      <th>4</th>\n",
       "      <td>5</td>\n",
       "      <td>33</td>\n",
       "      <td>1</td>\n",
       "      <td>1788</td>\n",
       "      <td>1</td>\n",
       "      <td>26</td>\n",
       "      <td>1</td>\n",
       "      <td>5.0</td>\n",
       "      <td>58.0</td>\n",
       "      <td>1</td>\n",
       "      <td>2</td>\n",
       "      <td>Rs 7,42,74,036\\n ~ 7 Crore+</td>\n",
       "      <td>Rs 86,06,522\\n ~ 86 Lacs+</td>\n",
       "      <td>646875</td>\n",
       "      <td>33.383823</td>\n",
       "      <td>56.464615</td>\n",
       "      <td>1937690</td>\n",
       "    </tr>\n",
       "    <tr>\n",
       "      <th>5</th>\n",
       "      <td>6</td>\n",
       "      <td>33</td>\n",
       "      <td>1</td>\n",
       "      <td>1118</td>\n",
       "      <td>0</td>\n",
       "      <td>35</td>\n",
       "      <td>1</td>\n",
       "      <td>0.0</td>\n",
       "      <td>47.0</td>\n",
       "      <td>1</td>\n",
       "      <td>7</td>\n",
       "      <td>Rs 13,37,84,385\\n ~ 13 Crore+</td>\n",
       "      <td>Rs 2,22,51,891\\n ~ 2 Crore+</td>\n",
       "      <td>435329</td>\n",
       "      <td>22.466390</td>\n",
       "      <td>37.999125</td>\n",
       "      <td>1937690</td>\n",
       "    </tr>\n",
       "    <tr>\n",
       "      <th>...</th>\n",
       "      <td>...</td>\n",
       "      <td>...</td>\n",
       "      <td>...</td>\n",
       "      <td>...</td>\n",
       "      <td>...</td>\n",
       "      <td>...</td>\n",
       "      <td>...</td>\n",
       "      <td>...</td>\n",
       "      <td>...</td>\n",
       "      <td>...</td>\n",
       "      <td>...</td>\n",
       "      <td>...</td>\n",
       "      <td>...</td>\n",
       "      <td>...</td>\n",
       "      <td>...</td>\n",
       "      <td>...</td>\n",
       "      <td>...</td>\n",
       "    </tr>\n",
       "    <tr>\n",
       "      <th>2257</th>\n",
       "      <td>2258</td>\n",
       "      <td>19</td>\n",
       "      <td>537</td>\n",
       "      <td>1975</td>\n",
       "      <td>0</td>\n",
       "      <td>85</td>\n",
       "      <td>0</td>\n",
       "      <td>0.0</td>\n",
       "      <td>28.0</td>\n",
       "      <td>0</td>\n",
       "      <td>0</td>\n",
       "      <td>Rs 11,68,500\\n ~ 11 Lacs+</td>\n",
       "      <td>Rs 9,000\\n ~ 9 Thou+</td>\n",
       "      <td>20620</td>\n",
       "      <td>1.076097</td>\n",
       "      <td>1.755157</td>\n",
       "      <td>1916185</td>\n",
       "    </tr>\n",
       "    <tr>\n",
       "      <th>2258</th>\n",
       "      <td>2259</td>\n",
       "      <td>19</td>\n",
       "      <td>537</td>\n",
       "      <td>184</td>\n",
       "      <td>0</td>\n",
       "      <td>47</td>\n",
       "      <td>1</td>\n",
       "      <td>0.0</td>\n",
       "      <td>43.0</td>\n",
       "      <td>0</td>\n",
       "      <td>7</td>\n",
       "      <td>Rs 48,90,000\\n ~ 48 Lacs+</td>\n",
       "      <td>Rs 10,20,000\\n ~ 10 Lacs+</td>\n",
       "      <td>14686</td>\n",
       "      <td>0.766419</td>\n",
       "      <td>1.250060</td>\n",
       "      <td>1916185</td>\n",
       "    </tr>\n",
       "    <tr>\n",
       "      <th>2259</th>\n",
       "      <td>2260</td>\n",
       "      <td>31</td>\n",
       "      <td>538</td>\n",
       "      <td>224</td>\n",
       "      <td>1</td>\n",
       "      <td>119</td>\n",
       "      <td>1</td>\n",
       "      <td>18.0</td>\n",
       "      <td>63.0</td>\n",
       "      <td>0</td>\n",
       "      <td>3</td>\n",
       "      <td>Rs 1,28,78,51,556\\n ~ 128 Crore+</td>\n",
       "      <td>Rs 1,15,35,000\\n ~ 1 Crore+</td>\n",
       "      <td>434244</td>\n",
       "      <td>28.975369</td>\n",
       "      <td>41.574183</td>\n",
       "      <td>1498666</td>\n",
       "    </tr>\n",
       "    <tr>\n",
       "      <th>2260</th>\n",
       "      <td>2261</td>\n",
       "      <td>31</td>\n",
       "      <td>538</td>\n",
       "      <td>998</td>\n",
       "      <td>0</td>\n",
       "      <td>46</td>\n",
       "      <td>1</td>\n",
       "      <td>0.0</td>\n",
       "      <td>49.0</td>\n",
       "      <td>0</td>\n",
       "      <td>7</td>\n",
       "      <td>Rs 90,36,63,001\\n ~ 90 Crore+</td>\n",
       "      <td>Rs 0\\n ~</td>\n",
       "      <td>428015</td>\n",
       "      <td>28.559732</td>\n",
       "      <td>40.977823</td>\n",
       "      <td>1498666</td>\n",
       "    </tr>\n",
       "    <tr>\n",
       "      <th>2261</th>\n",
       "      <td>2262</td>\n",
       "      <td>31</td>\n",
       "      <td>538</td>\n",
       "      <td>249</td>\n",
       "      <td>0</td>\n",
       "      <td>26</td>\n",
       "      <td>1</td>\n",
       "      <td>3.0</td>\n",
       "      <td>47.0</td>\n",
       "      <td>0</td>\n",
       "      <td>1</td>\n",
       "      <td>Rs 5,85,77,327\\n ~ 5 Crore+</td>\n",
       "      <td>Rs 52,50,000\\n ~ 52 Lacs+</td>\n",
       "      <td>138947</td>\n",
       "      <td>9.271379</td>\n",
       "      <td>13.302678</td>\n",
       "      <td>1498666</td>\n",
       "    </tr>\n",
       "  </tbody>\n",
       "</table>\n",
       "<p>2018 rows × 17 columns</p>\n",
       "</div>"
      ],
      "text/plain": [
       "      Sl No:  STATE  CONSTITUENCY  NAME  WINNER  PARTY  GENDER  criminal  \\\n",
       "0          1     31             0  1712       1     26       1      52.0   \n",
       "1          2     31             0   700       0    119       1       0.0   \n",
       "2          3     31             0  1497       0     46       1       3.0   \n",
       "4          5     33             1  1788       1     26       1       5.0   \n",
       "5          6     33             1  1118       0     35       1       0.0   \n",
       "...      ...    ...           ...   ...     ...    ...     ...       ...   \n",
       "2257    2258     19           537  1975       0     85       0       0.0   \n",
       "2258    2259     19           537   184       0     47       1       0.0   \n",
       "2259    2260     31           538   224       1    119       1      18.0   \n",
       "2260    2261     31           538   998       0     46       1       0.0   \n",
       "2261    2262     31           538   249       0     26       1       3.0   \n",
       "\n",
       "       AGE  CATEGORY  EDUCATION                            ASSETS  \\\n",
       "0     52.0         2          1         Rs 30,99,414\\n ~ 30 Lacs+   \n",
       "1     54.0         2          7       Rs 1,84,77,888\\n ~ 1 Crore+   \n",
       "2     52.0         2          1       Rs 3,64,91,000\\n ~ 3 Crore+   \n",
       "4     58.0         1          2       Rs 7,42,74,036\\n ~ 7 Crore+   \n",
       "5     47.0         1          7     Rs 13,37,84,385\\n ~ 13 Crore+   \n",
       "...    ...       ...        ...                               ...   \n",
       "2257  28.0         0          0         Rs 11,68,500\\n ~ 11 Lacs+   \n",
       "2258  43.0         0          7         Rs 48,90,000\\n ~ 48 Lacs+   \n",
       "2259  63.0         0          3  Rs 1,28,78,51,556\\n ~ 128 Crore+   \n",
       "2260  49.0         0          7     Rs 90,36,63,001\\n ~ 90 Crore+   \n",
       "2261  47.0         0          1       Rs 5,85,77,327\\n ~ 5 Crore+   \n",
       "\n",
       "                      LIABILITIES  TOTAL_VOTES  \\\n",
       "0         Rs 2,31,450\\n ~ 2 Lacs+       377374   \n",
       "1         Rs 8,47,000\\n ~ 8 Lacs+       318814   \n",
       "2     Rs 1,53,00,000\\n ~ 1 Crore+       314238   \n",
       "4       Rs 86,06,522\\n ~ 86 Lacs+       646875   \n",
       "5     Rs 2,22,51,891\\n ~ 2 Crore+       435329   \n",
       "...                           ...          ...   \n",
       "2257         Rs 9,000\\n ~ 9 Thou+        20620   \n",
       "2258    Rs 10,20,000\\n ~ 10 Lacs+        14686   \n",
       "2259  Rs 1,15,35,000\\n ~ 1 Crore+       434244   \n",
       "2260                     Rs 0\\n ~       428015   \n",
       "2261    Rs 52,50,000\\n ~ 52 Lacs+       138947   \n",
       "\n",
       "      OVER_TOTAL_ELECTORS_IN_CONSTITUENCY  \\\n",
       "0                               25.330684   \n",
       "1                               21.399929   \n",
       "2                               21.092771   \n",
       "4                               33.383823   \n",
       "5                               22.466390   \n",
       "...                                   ...   \n",
       "2257                             1.076097   \n",
       "2258                             0.766419   \n",
       "2259                            28.975369   \n",
       "2260                            28.559732   \n",
       "2261                             9.271379   \n",
       "\n",
       "      OVER_TOTAL_VOTES_POLLED_IN_CONSTITUENCY  TOTAL_ELECTORS  \n",
       "0                                   35.468248         1489790  \n",
       "1                                   29.964370         1489790  \n",
       "2                                   29.534285         1489790  \n",
       "4                                   56.464615         1937690  \n",
       "5                                   37.999125         1937690  \n",
       "...                                       ...             ...  \n",
       "2257                                 1.755157         1916185  \n",
       "2258                                 1.250060         1916185  \n",
       "2259                                41.574183         1498666  \n",
       "2260                                40.977823         1498666  \n",
       "2261                                13.302678         1498666  \n",
       "\n",
       "[2018 rows x 17 columns]"
      ]
     },
     "execution_count": 74,
     "metadata": {},
     "output_type": "execute_result"
    }
   ],
   "source": [
    "# label encode categorical columns\n",
    "from sklearn.preprocessing import LabelEncoder\n",
    "lblEncoder_state = LabelEncoder()\n",
    "lblEncoder_state.fit(df2['STATE'])\n",
    "df2['STATE'] = lblEncoder_state.transform(df2['STATE'])\n",
    "\n",
    "lblEncoder_cons = LabelEncoder()\n",
    "lblEncoder_cons.fit(df2['CONSTITUENCY'])\n",
    "df2['CONSTITUENCY'] = lblEncoder_cons.transform(df2['CONSTITUENCY'])\n",
    "\n",
    "lblEncoder_name = LabelEncoder()\n",
    "lblEncoder_name.fit(df2['NAME'])\n",
    "df2['NAME'] = lblEncoder_name.transform(df2['NAME'])\n",
    "\n",
    "lblEncoder_party = LabelEncoder()\n",
    "lblEncoder_party.fit(df2['PARTY'])\n",
    "df2['PARTY'] = lblEncoder_party.transform(df2['PARTY'])\n",
    "\n",
    "lblEncoder_gender = LabelEncoder()\n",
    "lblEncoder_gender.fit(df2['GENDER'])\n",
    "df2['GENDER'] = lblEncoder_gender.transform(df2['GENDER'])\n",
    "\n",
    "lblEncoder_category = LabelEncoder()\n",
    "lblEncoder_category.fit(df2['CATEGORY'])\n",
    "df2['CATEGORY'] = lblEncoder_category.transform(df2['CATEGORY'])\n",
    "\n",
    "lblEncoder_edu = LabelEncoder()\n",
    "lblEncoder_edu.fit(df2['EDUCATION'])\n",
    "df2['EDUCATION'] = lblEncoder_edu.transform(df2['EDUCATION'])\n",
    "df2\n"
   ]
  },
  {
   "cell_type": "code",
   "execution_count": 75,
   "metadata": {},
   "outputs": [
    {
     "data": {
      "text/html": [
       "<div>\n",
       "<style scoped>\n",
       "    .dataframe tbody tr th:only-of-type {\n",
       "        vertical-align: middle;\n",
       "    }\n",
       "\n",
       "    .dataframe tbody tr th {\n",
       "        vertical-align: top;\n",
       "    }\n",
       "\n",
       "    .dataframe thead th {\n",
       "        text-align: right;\n",
       "    }\n",
       "</style>\n",
       "<table border=\"1\" class=\"dataframe\">\n",
       "  <thead>\n",
       "    <tr style=\"text-align: right;\">\n",
       "      <th></th>\n",
       "      <th>Sl No:</th>\n",
       "      <th>STATE</th>\n",
       "      <th>CONSTITUENCY</th>\n",
       "      <th>NAME</th>\n",
       "      <th>WINNER</th>\n",
       "      <th>PARTY</th>\n",
       "      <th>GENDER</th>\n",
       "      <th>criminal</th>\n",
       "      <th>AGE</th>\n",
       "      <th>CATEGORY</th>\n",
       "      <th>EDUCATION</th>\n",
       "      <th>ASSETS</th>\n",
       "      <th>LIABILITIES</th>\n",
       "      <th>TOTAL_VOTES</th>\n",
       "      <th>OVER_TOTAL_ELECTORS_IN_CONSTITUENCY</th>\n",
       "      <th>OVER_TOTAL_VOTES_POLLED_IN_CONSTITUENCY</th>\n",
       "      <th>TOTAL_ELECTORS</th>\n",
       "    </tr>\n",
       "  </thead>\n",
       "  <tbody>\n",
       "    <tr>\n",
       "      <th>0</th>\n",
       "      <td>1</td>\n",
       "      <td>31</td>\n",
       "      <td>0</td>\n",
       "      <td>1712</td>\n",
       "      <td>1</td>\n",
       "      <td>26</td>\n",
       "      <td>1</td>\n",
       "      <td>52.0</td>\n",
       "      <td>52.0</td>\n",
       "      <td>2</td>\n",
       "      <td>1</td>\n",
       "      <td>3099414</td>\n",
       "      <td>231450</td>\n",
       "      <td>377374</td>\n",
       "      <td>25.330684</td>\n",
       "      <td>35.468248</td>\n",
       "      <td>1489790</td>\n",
       "    </tr>\n",
       "    <tr>\n",
       "      <th>1</th>\n",
       "      <td>2</td>\n",
       "      <td>31</td>\n",
       "      <td>0</td>\n",
       "      <td>700</td>\n",
       "      <td>0</td>\n",
       "      <td>119</td>\n",
       "      <td>1</td>\n",
       "      <td>0.0</td>\n",
       "      <td>54.0</td>\n",
       "      <td>2</td>\n",
       "      <td>7</td>\n",
       "      <td>18477888</td>\n",
       "      <td>847000</td>\n",
       "      <td>318814</td>\n",
       "      <td>21.399929</td>\n",
       "      <td>29.964370</td>\n",
       "      <td>1489790</td>\n",
       "    </tr>\n",
       "    <tr>\n",
       "      <th>2</th>\n",
       "      <td>3</td>\n",
       "      <td>31</td>\n",
       "      <td>0</td>\n",
       "      <td>1497</td>\n",
       "      <td>0</td>\n",
       "      <td>46</td>\n",
       "      <td>1</td>\n",
       "      <td>3.0</td>\n",
       "      <td>52.0</td>\n",
       "      <td>2</td>\n",
       "      <td>1</td>\n",
       "      <td>36491000</td>\n",
       "      <td>15300000</td>\n",
       "      <td>314238</td>\n",
       "      <td>21.092771</td>\n",
       "      <td>29.534285</td>\n",
       "      <td>1489790</td>\n",
       "    </tr>\n",
       "    <tr>\n",
       "      <th>4</th>\n",
       "      <td>5</td>\n",
       "      <td>33</td>\n",
       "      <td>1</td>\n",
       "      <td>1788</td>\n",
       "      <td>1</td>\n",
       "      <td>26</td>\n",
       "      <td>1</td>\n",
       "      <td>5.0</td>\n",
       "      <td>58.0</td>\n",
       "      <td>1</td>\n",
       "      <td>2</td>\n",
       "      <td>74274036</td>\n",
       "      <td>8606522</td>\n",
       "      <td>646875</td>\n",
       "      <td>33.383823</td>\n",
       "      <td>56.464615</td>\n",
       "      <td>1937690</td>\n",
       "    </tr>\n",
       "    <tr>\n",
       "      <th>5</th>\n",
       "      <td>6</td>\n",
       "      <td>33</td>\n",
       "      <td>1</td>\n",
       "      <td>1118</td>\n",
       "      <td>0</td>\n",
       "      <td>35</td>\n",
       "      <td>1</td>\n",
       "      <td>0.0</td>\n",
       "      <td>47.0</td>\n",
       "      <td>1</td>\n",
       "      <td>7</td>\n",
       "      <td>133784385</td>\n",
       "      <td>22251891</td>\n",
       "      <td>435329</td>\n",
       "      <td>22.466390</td>\n",
       "      <td>37.999125</td>\n",
       "      <td>1937690</td>\n",
       "    </tr>\n",
       "  </tbody>\n",
       "</table>\n",
       "</div>"
      ],
      "text/plain": [
       "   Sl No:  STATE  CONSTITUENCY  NAME  WINNER  PARTY  GENDER  criminal   AGE  \\\n",
       "0       1     31             0  1712       1     26       1      52.0  52.0   \n",
       "1       2     31             0   700       0    119       1       0.0  54.0   \n",
       "2       3     31             0  1497       0     46       1       3.0  52.0   \n",
       "4       5     33             1  1788       1     26       1       5.0  58.0   \n",
       "5       6     33             1  1118       0     35       1       0.0  47.0   \n",
       "\n",
       "   CATEGORY  EDUCATION     ASSETS LIABILITIES  TOTAL_VOTES  \\\n",
       "0         2          1    3099414      231450       377374   \n",
       "1         2          7   18477888      847000       318814   \n",
       "2         2          1   36491000    15300000       314238   \n",
       "4         1          2   74274036     8606522       646875   \n",
       "5         1          7  133784385    22251891       435329   \n",
       "\n",
       "   OVER_TOTAL_ELECTORS_IN_CONSTITUENCY  \\\n",
       "0                            25.330684   \n",
       "1                            21.399929   \n",
       "2                            21.092771   \n",
       "4                            33.383823   \n",
       "5                            22.466390   \n",
       "\n",
       "   OVER_TOTAL_VOTES_POLLED_IN_CONSTITUENCY  TOTAL_ELECTORS  \n",
       "0                                35.468248         1489790  \n",
       "1                                29.964370         1489790  \n",
       "2                                29.534285         1489790  \n",
       "4                                56.464615         1937690  \n",
       "5                                37.999125         1937690  "
      ]
     },
     "execution_count": 75,
     "metadata": {},
     "output_type": "execute_result"
    }
   ],
   "source": [
    "# clean ASSETS and LIABILITIES column values\n",
    "df2['ASSETS'] = df2['ASSETS'].map(lambda x: x.lstrip('Rs ').split('\\n')[0].replace(',', ''))\n",
    "df2['LIABILITIES'] = df2['LIABILITIES'].map(lambda x: x.lstrip('Rs ').split('\\n')[0].replace(',', ''))\n",
    "df2.head()"
   ]
  },
  {
   "cell_type": "markdown",
   "metadata": {},
   "source": [
    "let’s train a K-Nearest Neighbors model and see the accuracy. KNN is a supervised machine learning model which is categorized under classification algorithms. The algorithm works by taking a data point and finding out the k closest data points.\n",
    "\n",
    "\n"
   ]
  },
  {
   "cell_type": "code",
   "execution_count": 76,
   "metadata": {},
   "outputs": [
    {
     "data": {
      "text/html": [
       "<div>\n",
       "<style scoped>\n",
       "    .dataframe tbody tr th:only-of-type {\n",
       "        vertical-align: middle;\n",
       "    }\n",
       "\n",
       "    .dataframe tbody tr th {\n",
       "        vertical-align: top;\n",
       "    }\n",
       "\n",
       "    .dataframe thead th {\n",
       "        text-align: right;\n",
       "    }\n",
       "</style>\n",
       "<table border=\"1\" class=\"dataframe\">\n",
       "  <thead>\n",
       "    <tr style=\"text-align: right;\">\n",
       "      <th></th>\n",
       "      <th>Sl No:</th>\n",
       "      <th>STATE</th>\n",
       "      <th>CONSTITUENCY</th>\n",
       "      <th>NAME</th>\n",
       "      <th>WINNER</th>\n",
       "      <th>PARTY</th>\n",
       "      <th>GENDER</th>\n",
       "      <th>criminal</th>\n",
       "      <th>AGE</th>\n",
       "      <th>CATEGORY</th>\n",
       "      <th>EDUCATION</th>\n",
       "      <th>ASSETS</th>\n",
       "      <th>LIABILITIES</th>\n",
       "      <th>TOTAL_VOTES</th>\n",
       "      <th>OVER_TOTAL_ELECTORS_IN_CONSTITUENCY</th>\n",
       "      <th>OVER_TOTAL_VOTES_POLLED_IN_CONSTITUENCY</th>\n",
       "      <th>TOTAL_ELECTORS</th>\n",
       "    </tr>\n",
       "  </thead>\n",
       "  <tbody>\n",
       "    <tr>\n",
       "      <th>0</th>\n",
       "      <td>1</td>\n",
       "      <td>31</td>\n",
       "      <td>0</td>\n",
       "      <td>1712</td>\n",
       "      <td>1</td>\n",
       "      <td>26</td>\n",
       "      <td>1</td>\n",
       "      <td>52.0</td>\n",
       "      <td>52.0</td>\n",
       "      <td>2</td>\n",
       "      <td>1</td>\n",
       "      <td>3.099414e+06</td>\n",
       "      <td>231450.0</td>\n",
       "      <td>377374</td>\n",
       "      <td>25.330684</td>\n",
       "      <td>35.468248</td>\n",
       "      <td>1489790</td>\n",
       "    </tr>\n",
       "    <tr>\n",
       "      <th>1</th>\n",
       "      <td>2</td>\n",
       "      <td>31</td>\n",
       "      <td>0</td>\n",
       "      <td>700</td>\n",
       "      <td>0</td>\n",
       "      <td>119</td>\n",
       "      <td>1</td>\n",
       "      <td>0.0</td>\n",
       "      <td>54.0</td>\n",
       "      <td>2</td>\n",
       "      <td>7</td>\n",
       "      <td>1.847789e+07</td>\n",
       "      <td>847000.0</td>\n",
       "      <td>318814</td>\n",
       "      <td>21.399929</td>\n",
       "      <td>29.964370</td>\n",
       "      <td>1489790</td>\n",
       "    </tr>\n",
       "    <tr>\n",
       "      <th>2</th>\n",
       "      <td>3</td>\n",
       "      <td>31</td>\n",
       "      <td>0</td>\n",
       "      <td>1497</td>\n",
       "      <td>0</td>\n",
       "      <td>46</td>\n",
       "      <td>1</td>\n",
       "      <td>3.0</td>\n",
       "      <td>52.0</td>\n",
       "      <td>2</td>\n",
       "      <td>1</td>\n",
       "      <td>3.649100e+07</td>\n",
       "      <td>15300000.0</td>\n",
       "      <td>314238</td>\n",
       "      <td>21.092771</td>\n",
       "      <td>29.534285</td>\n",
       "      <td>1489790</td>\n",
       "    </tr>\n",
       "    <tr>\n",
       "      <th>4</th>\n",
       "      <td>5</td>\n",
       "      <td>33</td>\n",
       "      <td>1</td>\n",
       "      <td>1788</td>\n",
       "      <td>1</td>\n",
       "      <td>26</td>\n",
       "      <td>1</td>\n",
       "      <td>5.0</td>\n",
       "      <td>58.0</td>\n",
       "      <td>1</td>\n",
       "      <td>2</td>\n",
       "      <td>7.427404e+07</td>\n",
       "      <td>8606522.0</td>\n",
       "      <td>646875</td>\n",
       "      <td>33.383823</td>\n",
       "      <td>56.464615</td>\n",
       "      <td>1937690</td>\n",
       "    </tr>\n",
       "    <tr>\n",
       "      <th>5</th>\n",
       "      <td>6</td>\n",
       "      <td>33</td>\n",
       "      <td>1</td>\n",
       "      <td>1118</td>\n",
       "      <td>0</td>\n",
       "      <td>35</td>\n",
       "      <td>1</td>\n",
       "      <td>0.0</td>\n",
       "      <td>47.0</td>\n",
       "      <td>1</td>\n",
       "      <td>7</td>\n",
       "      <td>1.337844e+08</td>\n",
       "      <td>22251891.0</td>\n",
       "      <td>435329</td>\n",
       "      <td>22.466390</td>\n",
       "      <td>37.999125</td>\n",
       "      <td>1937690</td>\n",
       "    </tr>\n",
       "    <tr>\n",
       "      <th>...</th>\n",
       "      <td>...</td>\n",
       "      <td>...</td>\n",
       "      <td>...</td>\n",
       "      <td>...</td>\n",
       "      <td>...</td>\n",
       "      <td>...</td>\n",
       "      <td>...</td>\n",
       "      <td>...</td>\n",
       "      <td>...</td>\n",
       "      <td>...</td>\n",
       "      <td>...</td>\n",
       "      <td>...</td>\n",
       "      <td>...</td>\n",
       "      <td>...</td>\n",
       "      <td>...</td>\n",
       "      <td>...</td>\n",
       "      <td>...</td>\n",
       "    </tr>\n",
       "    <tr>\n",
       "      <th>2257</th>\n",
       "      <td>2258</td>\n",
       "      <td>19</td>\n",
       "      <td>537</td>\n",
       "      <td>1975</td>\n",
       "      <td>0</td>\n",
       "      <td>85</td>\n",
       "      <td>0</td>\n",
       "      <td>0.0</td>\n",
       "      <td>28.0</td>\n",
       "      <td>0</td>\n",
       "      <td>0</td>\n",
       "      <td>1.168500e+06</td>\n",
       "      <td>9000.0</td>\n",
       "      <td>20620</td>\n",
       "      <td>1.076097</td>\n",
       "      <td>1.755157</td>\n",
       "      <td>1916185</td>\n",
       "    </tr>\n",
       "    <tr>\n",
       "      <th>2258</th>\n",
       "      <td>2259</td>\n",
       "      <td>19</td>\n",
       "      <td>537</td>\n",
       "      <td>184</td>\n",
       "      <td>0</td>\n",
       "      <td>47</td>\n",
       "      <td>1</td>\n",
       "      <td>0.0</td>\n",
       "      <td>43.0</td>\n",
       "      <td>0</td>\n",
       "      <td>7</td>\n",
       "      <td>4.890000e+06</td>\n",
       "      <td>1020000.0</td>\n",
       "      <td>14686</td>\n",
       "      <td>0.766419</td>\n",
       "      <td>1.250060</td>\n",
       "      <td>1916185</td>\n",
       "    </tr>\n",
       "    <tr>\n",
       "      <th>2259</th>\n",
       "      <td>2260</td>\n",
       "      <td>31</td>\n",
       "      <td>538</td>\n",
       "      <td>224</td>\n",
       "      <td>1</td>\n",
       "      <td>119</td>\n",
       "      <td>1</td>\n",
       "      <td>18.0</td>\n",
       "      <td>63.0</td>\n",
       "      <td>0</td>\n",
       "      <td>3</td>\n",
       "      <td>1.287852e+09</td>\n",
       "      <td>11535000.0</td>\n",
       "      <td>434244</td>\n",
       "      <td>28.975369</td>\n",
       "      <td>41.574183</td>\n",
       "      <td>1498666</td>\n",
       "    </tr>\n",
       "    <tr>\n",
       "      <th>2260</th>\n",
       "      <td>2261</td>\n",
       "      <td>31</td>\n",
       "      <td>538</td>\n",
       "      <td>998</td>\n",
       "      <td>0</td>\n",
       "      <td>46</td>\n",
       "      <td>1</td>\n",
       "      <td>0.0</td>\n",
       "      <td>49.0</td>\n",
       "      <td>0</td>\n",
       "      <td>7</td>\n",
       "      <td>9.036630e+08</td>\n",
       "      <td>0.0</td>\n",
       "      <td>428015</td>\n",
       "      <td>28.559732</td>\n",
       "      <td>40.977823</td>\n",
       "      <td>1498666</td>\n",
       "    </tr>\n",
       "    <tr>\n",
       "      <th>2261</th>\n",
       "      <td>2262</td>\n",
       "      <td>31</td>\n",
       "      <td>538</td>\n",
       "      <td>249</td>\n",
       "      <td>0</td>\n",
       "      <td>26</td>\n",
       "      <td>1</td>\n",
       "      <td>3.0</td>\n",
       "      <td>47.0</td>\n",
       "      <td>0</td>\n",
       "      <td>1</td>\n",
       "      <td>5.857733e+07</td>\n",
       "      <td>5250000.0</td>\n",
       "      <td>138947</td>\n",
       "      <td>9.271379</td>\n",
       "      <td>13.302678</td>\n",
       "      <td>1498666</td>\n",
       "    </tr>\n",
       "  </tbody>\n",
       "</table>\n",
       "<p>2018 rows × 17 columns</p>\n",
       "</div>"
      ],
      "text/plain": [
       "      Sl No:  STATE  CONSTITUENCY  NAME  WINNER  PARTY  GENDER  criminal  \\\n",
       "0          1     31             0  1712       1     26       1      52.0   \n",
       "1          2     31             0   700       0    119       1       0.0   \n",
       "2          3     31             0  1497       0     46       1       3.0   \n",
       "4          5     33             1  1788       1     26       1       5.0   \n",
       "5          6     33             1  1118       0     35       1       0.0   \n",
       "...      ...    ...           ...   ...     ...    ...     ...       ...   \n",
       "2257    2258     19           537  1975       0     85       0       0.0   \n",
       "2258    2259     19           537   184       0     47       1       0.0   \n",
       "2259    2260     31           538   224       1    119       1      18.0   \n",
       "2260    2261     31           538   998       0     46       1       0.0   \n",
       "2261    2262     31           538   249       0     26       1       3.0   \n",
       "\n",
       "       AGE  CATEGORY  EDUCATION        ASSETS  LIABILITIES  TOTAL_VOTES  \\\n",
       "0     52.0         2          1  3.099414e+06     231450.0       377374   \n",
       "1     54.0         2          7  1.847789e+07     847000.0       318814   \n",
       "2     52.0         2          1  3.649100e+07   15300000.0       314238   \n",
       "4     58.0         1          2  7.427404e+07    8606522.0       646875   \n",
       "5     47.0         1          7  1.337844e+08   22251891.0       435329   \n",
       "...    ...       ...        ...           ...          ...          ...   \n",
       "2257  28.0         0          0  1.168500e+06       9000.0        20620   \n",
       "2258  43.0         0          7  4.890000e+06    1020000.0        14686   \n",
       "2259  63.0         0          3  1.287852e+09   11535000.0       434244   \n",
       "2260  49.0         0          7  9.036630e+08          0.0       428015   \n",
       "2261  47.0         0          1  5.857733e+07    5250000.0       138947   \n",
       "\n",
       "      OVER_TOTAL_ELECTORS_IN_CONSTITUENCY  \\\n",
       "0                               25.330684   \n",
       "1                               21.399929   \n",
       "2                               21.092771   \n",
       "4                               33.383823   \n",
       "5                               22.466390   \n",
       "...                                   ...   \n",
       "2257                             1.076097   \n",
       "2258                             0.766419   \n",
       "2259                            28.975369   \n",
       "2260                            28.559732   \n",
       "2261                             9.271379   \n",
       "\n",
       "      OVER_TOTAL_VOTES_POLLED_IN_CONSTITUENCY  TOTAL_ELECTORS  \n",
       "0                                   35.468248         1489790  \n",
       "1                                   29.964370         1489790  \n",
       "2                                   29.534285         1489790  \n",
       "4                                   56.464615         1937690  \n",
       "5                                   37.999125         1937690  \n",
       "...                                       ...             ...  \n",
       "2257                                 1.755157         1916185  \n",
       "2258                                 1.250060         1916185  \n",
       "2259                                41.574183         1498666  \n",
       "2260                                40.977823         1498666  \n",
       "2261                                13.302678         1498666  \n",
       "\n",
       "[2018 rows x 17 columns]"
      ]
     },
     "execution_count": 76,
     "metadata": {},
     "output_type": "execute_result"
    }
   ],
   "source": [
    "# replace Nil values with 0\n",
    "df2['ASSETS'] = df2['ASSETS'].replace(['Nil', '`', 'Not Available'], '0')\n",
    "df2['LIABILITIES'] = df2['LIABILITIES'].replace(['NIL', '`', 'Not Available'], '0')\n",
    "df2['criminal'] = df2['criminal'].replace(['Not Available'], '0')\n",
    "# convert ASSETS, LIABILITIES and CRIMINAL_CASES column values into numeric\n",
    "df2['ASSETS'] = df2['ASSETS'].astype(str).astype(float)\n",
    "df2['LIABILITIES'] = df2['LIABILITIES'].astype(str).astype(float)\n",
    "\n",
    "df2\n"
   ]
  },
  {
   "cell_type": "markdown",
   "metadata": {},
   "source": [
    "#split dataset into X and Y"
   ]
  },
  {
   "cell_type": "code",
   "execution_count": 77,
   "metadata": {},
   "outputs": [],
   "source": [
    "y = df2['WINNER']\n",
    "X = df2.drop('WINNER', axis = 1)"
   ]
  },
  {
   "cell_type": "code",
   "execution_count": 78,
   "metadata": {},
   "outputs": [
    {
     "data": {
      "text/html": [
       "<div>\n",
       "<style scoped>\n",
       "    .dataframe tbody tr th:only-of-type {\n",
       "        vertical-align: middle;\n",
       "    }\n",
       "\n",
       "    .dataframe tbody tr th {\n",
       "        vertical-align: top;\n",
       "    }\n",
       "\n",
       "    .dataframe thead th {\n",
       "        text-align: right;\n",
       "    }\n",
       "</style>\n",
       "<table border=\"1\" class=\"dataframe\">\n",
       "  <thead>\n",
       "    <tr style=\"text-align: right;\">\n",
       "      <th></th>\n",
       "      <th>Sl No:</th>\n",
       "      <th>STATE</th>\n",
       "      <th>CONSTITUENCY</th>\n",
       "      <th>NAME</th>\n",
       "      <th>PARTY</th>\n",
       "      <th>GENDER</th>\n",
       "      <th>criminal</th>\n",
       "      <th>AGE</th>\n",
       "      <th>CATEGORY</th>\n",
       "      <th>EDUCATION</th>\n",
       "      <th>ASSETS</th>\n",
       "      <th>LIABILITIES</th>\n",
       "      <th>TOTAL_VOTES</th>\n",
       "      <th>OVER_TOTAL_ELECTORS_IN_CONSTITUENCY</th>\n",
       "      <th>OVER_TOTAL_VOTES_POLLED_IN_CONSTITUENCY</th>\n",
       "      <th>TOTAL_ELECTORS</th>\n",
       "    </tr>\n",
       "  </thead>\n",
       "  <tbody>\n",
       "    <tr>\n",
       "      <th>count</th>\n",
       "      <td>2018.000000</td>\n",
       "      <td>2018.000000</td>\n",
       "      <td>2018.000000</td>\n",
       "      <td>2018.000000</td>\n",
       "      <td>2018.000000</td>\n",
       "      <td>2018.000000</td>\n",
       "      <td>2018.000000</td>\n",
       "      <td>2018.000000</td>\n",
       "      <td>2018.000000</td>\n",
       "      <td>2018.000000</td>\n",
       "      <td>2.018000e+03</td>\n",
       "      <td>2.018000e+03</td>\n",
       "      <td>2.018000e+03</td>\n",
       "      <td>2018.000000</td>\n",
       "      <td>2018.000000</td>\n",
       "      <td>2.018000e+03</td>\n",
       "    </tr>\n",
       "    <tr>\n",
       "      <th>mean</th>\n",
       "      <td>1135.743806</td>\n",
       "      <td>20.216056</td>\n",
       "      <td>274.144698</td>\n",
       "      <td>1006.072349</td>\n",
       "      <td>49.656591</td>\n",
       "      <td>0.872151</td>\n",
       "      <td>1.453915</td>\n",
       "      <td>52.273538</td>\n",
       "      <td>0.430624</td>\n",
       "      <td>3.808226</td>\n",
       "      <td>1.315849e+08</td>\n",
       "      <td>1.973860e+07</td>\n",
       "      <td>2.922954e+05</td>\n",
       "      <td>17.596810</td>\n",
       "      <td>25.808492</td>\n",
       "      <td>1.660261e+06</td>\n",
       "    </tr>\n",
       "    <tr>\n",
       "      <th>std</th>\n",
       "      <td>653.973455</td>\n",
       "      <td>11.387435</td>\n",
       "      <td>157.676683</td>\n",
       "      <td>581.662987</td>\n",
       "      <td>29.798173</td>\n",
       "      <td>0.334005</td>\n",
       "      <td>7.636973</td>\n",
       "      <td>11.869373</td>\n",
       "      <td>0.697324</td>\n",
       "      <td>2.327732</td>\n",
       "      <td>4.122697e+08</td>\n",
       "      <td>8.945292e+07</td>\n",
       "      <td>2.555874e+05</td>\n",
       "      <td>14.886247</td>\n",
       "      <td>21.403985</td>\n",
       "      <td>3.164246e+05</td>\n",
       "    </tr>\n",
       "    <tr>\n",
       "      <th>min</th>\n",
       "      <td>1.000000</td>\n",
       "      <td>0.000000</td>\n",
       "      <td>0.000000</td>\n",
       "      <td>0.000000</td>\n",
       "      <td>0.000000</td>\n",
       "      <td>0.000000</td>\n",
       "      <td>0.000000</td>\n",
       "      <td>25.000000</td>\n",
       "      <td>0.000000</td>\n",
       "      <td>0.000000</td>\n",
       "      <td>0.000000e+00</td>\n",
       "      <td>0.000000e+00</td>\n",
       "      <td>1.342000e+03</td>\n",
       "      <td>0.097941</td>\n",
       "      <td>1.000039</td>\n",
       "      <td>5.518900e+04</td>\n",
       "    </tr>\n",
       "    <tr>\n",
       "      <th>25%</th>\n",
       "      <td>569.250000</td>\n",
       "      <td>11.000000</td>\n",
       "      <td>135.000000</td>\n",
       "      <td>502.250000</td>\n",
       "      <td>26.000000</td>\n",
       "      <td>1.000000</td>\n",
       "      <td>0.000000</td>\n",
       "      <td>43.250000</td>\n",
       "      <td>0.000000</td>\n",
       "      <td>2.000000</td>\n",
       "      <td>6.272526e+06</td>\n",
       "      <td>0.000000e+00</td>\n",
       "      <td>3.074375e+04</td>\n",
       "      <td>1.953617</td>\n",
       "      <td>2.870669</td>\n",
       "      <td>1.530404e+06</td>\n",
       "    </tr>\n",
       "    <tr>\n",
       "      <th>50%</th>\n",
       "      <td>1137.500000</td>\n",
       "      <td>19.000000</td>\n",
       "      <td>279.000000</td>\n",
       "      <td>1006.500000</td>\n",
       "      <td>46.000000</td>\n",
       "      <td>1.000000</td>\n",
       "      <td>0.000000</td>\n",
       "      <td>52.000000</td>\n",
       "      <td>0.000000</td>\n",
       "      <td>4.000000</td>\n",
       "      <td>2.404181e+07</td>\n",
       "      <td>9.039245e+05</td>\n",
       "      <td>2.855250e+05</td>\n",
       "      <td>18.036861</td>\n",
       "      <td>27.749894</td>\n",
       "      <td>1.679891e+06</td>\n",
       "    </tr>\n",
       "    <tr>\n",
       "      <th>75%</th>\n",
       "      <td>1702.500000</td>\n",
       "      <td>31.000000</td>\n",
       "      <td>413.750000</td>\n",
       "      <td>1510.750000</td>\n",
       "      <td>47.000000</td>\n",
       "      <td>1.000000</td>\n",
       "      <td>1.000000</td>\n",
       "      <td>61.000000</td>\n",
       "      <td>1.000000</td>\n",
       "      <td>6.000000</td>\n",
       "      <td>9.152498e+07</td>\n",
       "      <td>6.097971e+06</td>\n",
       "      <td>5.076175e+05</td>\n",
       "      <td>30.708115</td>\n",
       "      <td>44.349684</td>\n",
       "      <td>1.823404e+06</td>\n",
       "    </tr>\n",
       "    <tr>\n",
       "      <th>max</th>\n",
       "      <td>2262.000000</td>\n",
       "      <td>35.000000</td>\n",
       "      <td>538.000000</td>\n",
       "      <td>2012.000000</td>\n",
       "      <td>131.000000</td>\n",
       "      <td>1.000000</td>\n",
       "      <td>240.000000</td>\n",
       "      <td>86.000000</td>\n",
       "      <td>2.000000</td>\n",
       "      <td>7.000000</td>\n",
       "      <td>8.950179e+09</td>\n",
       "      <td>1.547511e+09</td>\n",
       "      <td>1.068569e+06</td>\n",
       "      <td>51.951012</td>\n",
       "      <td>74.411856</td>\n",
       "      <td>3.150313e+06</td>\n",
       "    </tr>\n",
       "  </tbody>\n",
       "</table>\n",
       "</div>"
      ],
      "text/plain": [
       "            Sl No:        STATE  CONSTITUENCY         NAME        PARTY  \\\n",
       "count  2018.000000  2018.000000   2018.000000  2018.000000  2018.000000   \n",
       "mean   1135.743806    20.216056    274.144698  1006.072349    49.656591   \n",
       "std     653.973455    11.387435    157.676683   581.662987    29.798173   \n",
       "min       1.000000     0.000000      0.000000     0.000000     0.000000   \n",
       "25%     569.250000    11.000000    135.000000   502.250000    26.000000   \n",
       "50%    1137.500000    19.000000    279.000000  1006.500000    46.000000   \n",
       "75%    1702.500000    31.000000    413.750000  1510.750000    47.000000   \n",
       "max    2262.000000    35.000000    538.000000  2012.000000   131.000000   \n",
       "\n",
       "            GENDER     criminal          AGE     CATEGORY    EDUCATION  \\\n",
       "count  2018.000000  2018.000000  2018.000000  2018.000000  2018.000000   \n",
       "mean      0.872151     1.453915    52.273538     0.430624     3.808226   \n",
       "std       0.334005     7.636973    11.869373     0.697324     2.327732   \n",
       "min       0.000000     0.000000    25.000000     0.000000     0.000000   \n",
       "25%       1.000000     0.000000    43.250000     0.000000     2.000000   \n",
       "50%       1.000000     0.000000    52.000000     0.000000     4.000000   \n",
       "75%       1.000000     1.000000    61.000000     1.000000     6.000000   \n",
       "max       1.000000   240.000000    86.000000     2.000000     7.000000   \n",
       "\n",
       "             ASSETS   LIABILITIES   TOTAL_VOTES  \\\n",
       "count  2.018000e+03  2.018000e+03  2.018000e+03   \n",
       "mean   1.315849e+08  1.973860e+07  2.922954e+05   \n",
       "std    4.122697e+08  8.945292e+07  2.555874e+05   \n",
       "min    0.000000e+00  0.000000e+00  1.342000e+03   \n",
       "25%    6.272526e+06  0.000000e+00  3.074375e+04   \n",
       "50%    2.404181e+07  9.039245e+05  2.855250e+05   \n",
       "75%    9.152498e+07  6.097971e+06  5.076175e+05   \n",
       "max    8.950179e+09  1.547511e+09  1.068569e+06   \n",
       "\n",
       "       OVER_TOTAL_ELECTORS_IN_CONSTITUENCY  \\\n",
       "count                          2018.000000   \n",
       "mean                             17.596810   \n",
       "std                              14.886247   \n",
       "min                               0.097941   \n",
       "25%                               1.953617   \n",
       "50%                              18.036861   \n",
       "75%                              30.708115   \n",
       "max                              51.951012   \n",
       "\n",
       "       OVER_TOTAL_VOTES_POLLED_IN_CONSTITUENCY  TOTAL_ELECTORS  \n",
       "count                              2018.000000    2.018000e+03  \n",
       "mean                                 25.808492    1.660261e+06  \n",
       "std                                  21.403985    3.164246e+05  \n",
       "min                                   1.000039    5.518900e+04  \n",
       "25%                                   2.870669    1.530404e+06  \n",
       "50%                                  27.749894    1.679891e+06  \n",
       "75%                                  44.349684    1.823404e+06  \n",
       "max                                  74.411856    3.150313e+06  "
      ]
     },
     "execution_count": 78,
     "metadata": {},
     "output_type": "execute_result"
    }
   ],
   "source": [
    "X.describe()"
   ]
  },
  {
   "cell_type": "markdown",
   "metadata": {},
   "source": [
    "# Feature Scaling"
   ]
  },
  {
   "cell_type": "code",
   "execution_count": 79,
   "metadata": {},
   "outputs": [],
   "source": [
    "from sklearn import preprocessing\n",
    "standardisation=preprocessing.StandardScaler()\n",
    "X=standardisation.fit_transform(X)\n"
   ]
  },
  {
   "cell_type": "code",
   "execution_count": 80,
   "metadata": {},
   "outputs": [],
   "source": [
    "X=pd.DataFrame(X)"
   ]
  },
  {
   "cell_type": "code",
   "execution_count": 81,
   "metadata": {},
   "outputs": [
    {
     "data": {
      "text/html": [
       "<div>\n",
       "<style scoped>\n",
       "    .dataframe tbody tr th:only-of-type {\n",
       "        vertical-align: middle;\n",
       "    }\n",
       "\n",
       "    .dataframe tbody tr th {\n",
       "        vertical-align: top;\n",
       "    }\n",
       "\n",
       "    .dataframe thead th {\n",
       "        text-align: right;\n",
       "    }\n",
       "</style>\n",
       "<table border=\"1\" class=\"dataframe\">\n",
       "  <thead>\n",
       "    <tr style=\"text-align: right;\">\n",
       "      <th></th>\n",
       "      <th>0</th>\n",
       "      <th>1</th>\n",
       "      <th>2</th>\n",
       "      <th>3</th>\n",
       "      <th>4</th>\n",
       "      <th>5</th>\n",
       "      <th>6</th>\n",
       "      <th>7</th>\n",
       "      <th>8</th>\n",
       "      <th>9</th>\n",
       "      <th>10</th>\n",
       "      <th>11</th>\n",
       "      <th>12</th>\n",
       "      <th>13</th>\n",
       "      <th>14</th>\n",
       "      <th>15</th>\n",
       "    </tr>\n",
       "  </thead>\n",
       "  <tbody>\n",
       "    <tr>\n",
       "      <th>count</th>\n",
       "      <td>2.018000e+03</td>\n",
       "      <td>2.018000e+03</td>\n",
       "      <td>2.018000e+03</td>\n",
       "      <td>2.018000e+03</td>\n",
       "      <td>2.018000e+03</td>\n",
       "      <td>2.018000e+03</td>\n",
       "      <td>2.018000e+03</td>\n",
       "      <td>2.018000e+03</td>\n",
       "      <td>2.018000e+03</td>\n",
       "      <td>2.018000e+03</td>\n",
       "      <td>2.018000e+03</td>\n",
       "      <td>2.018000e+03</td>\n",
       "      <td>2.018000e+03</td>\n",
       "      <td>2.018000e+03</td>\n",
       "      <td>2.018000e+03</td>\n",
       "      <td>2.018000e+03</td>\n",
       "    </tr>\n",
       "    <tr>\n",
       "      <th>mean</th>\n",
       "      <td>-3.709179e-16</td>\n",
       "      <td>3.314164e-16</td>\n",
       "      <td>-6.111178e-16</td>\n",
       "      <td>6.216809e-17</td>\n",
       "      <td>3.093000e-16</td>\n",
       "      <td>1.108407e-15</td>\n",
       "      <td>3.548532e-17</td>\n",
       "      <td>1.836984e-16</td>\n",
       "      <td>2.913648e-16</td>\n",
       "      <td>-4.742380e-17</td>\n",
       "      <td>-1.640852e-17</td>\n",
       "      <td>-2.100236e-17</td>\n",
       "      <td>1.128928e-16</td>\n",
       "      <td>3.064392e-17</td>\n",
       "      <td>1.525044e-16</td>\n",
       "      <td>-2.542840e-16</td>\n",
       "    </tr>\n",
       "    <tr>\n",
       "      <th>std</th>\n",
       "      <td>1.000248e+00</td>\n",
       "      <td>1.000248e+00</td>\n",
       "      <td>1.000248e+00</td>\n",
       "      <td>1.000248e+00</td>\n",
       "      <td>1.000248e+00</td>\n",
       "      <td>1.000248e+00</td>\n",
       "      <td>1.000248e+00</td>\n",
       "      <td>1.000248e+00</td>\n",
       "      <td>1.000248e+00</td>\n",
       "      <td>1.000248e+00</td>\n",
       "      <td>1.000248e+00</td>\n",
       "      <td>1.000248e+00</td>\n",
       "      <td>1.000248e+00</td>\n",
       "      <td>1.000248e+00</td>\n",
       "      <td>1.000248e+00</td>\n",
       "      <td>1.000248e+00</td>\n",
       "    </tr>\n",
       "    <tr>\n",
       "      <th>min</th>\n",
       "      <td>-1.735583e+00</td>\n",
       "      <td>-1.775735e+00</td>\n",
       "      <td>-1.739082e+00</td>\n",
       "      <td>-1.730077e+00</td>\n",
       "      <td>-1.666844e+00</td>\n",
       "      <td>-2.611839e+00</td>\n",
       "      <td>-1.904256e-01</td>\n",
       "      <td>-2.298377e+00</td>\n",
       "      <td>-6.176917e-01</td>\n",
       "      <td>-1.636430e+00</td>\n",
       "      <td>-3.192509e-01</td>\n",
       "      <td>-2.207138e-01</td>\n",
       "      <td>-1.138654e+00</td>\n",
       "      <td>-1.175797e+00</td>\n",
       "      <td>-1.159345e+00</td>\n",
       "      <td>-5.073785e+00</td>\n",
       "    </tr>\n",
       "    <tr>\n",
       "      <th>25%</th>\n",
       "      <td>-8.664483e-01</td>\n",
       "      <td>-8.095186e-01</td>\n",
       "      <td>-8.826872e-01</td>\n",
       "      <td>-8.663904e-01</td>\n",
       "      <td>-7.940908e-01</td>\n",
       "      <td>3.828719e-01</td>\n",
       "      <td>-1.904256e-01</td>\n",
       "      <td>-7.604256e-01</td>\n",
       "      <td>-6.176917e-01</td>\n",
       "      <td>-7.770114e-01</td>\n",
       "      <td>-3.040326e-01</td>\n",
       "      <td>-2.207138e-01</td>\n",
       "      <td>-1.023589e+00</td>\n",
       "      <td>-1.051109e+00</td>\n",
       "      <td>-1.071927e+00</td>\n",
       "      <td>-4.104915e-01</td>\n",
       "    </tr>\n",
       "    <tr>\n",
       "      <th>50%</th>\n",
       "      <td>2.686087e-03</td>\n",
       "      <td>-1.068157e-01</td>\n",
       "      <td>3.080041e-02</td>\n",
       "      <td>7.354037e-04</td>\n",
       "      <td>-1.227423e-01</td>\n",
       "      <td>3.828719e-01</td>\n",
       "      <td>-1.904256e-01</td>\n",
       "      <td>-2.305143e-02</td>\n",
       "      <td>-6.176917e-01</td>\n",
       "      <td>8.240707e-02</td>\n",
       "      <td>-2.609208e-01</td>\n",
       "      <td>-2.106062e-01</td>\n",
       "      <td>-2.649599e-02</td>\n",
       "      <td>2.956827e-02</td>\n",
       "      <td>9.072532e-02</td>\n",
       "      <td>6.205097e-02</td>\n",
       "    </tr>\n",
       "    <tr>\n",
       "      <th>75%</th>\n",
       "      <td>8.668497e-01</td>\n",
       "      <td>9.472386e-01</td>\n",
       "      <td>8.856091e-01</td>\n",
       "      <td>8.678612e-01</td>\n",
       "      <td>-8.917490e-02</td>\n",
       "      <td>3.828719e-01</td>\n",
       "      <td>-5.945121e-02</td>\n",
       "      <td>7.353906e-01</td>\n",
       "      <td>8.167178e-01</td>\n",
       "      <td>9.418255e-01</td>\n",
       "      <td>-9.719326e-02</td>\n",
       "      <td>-1.525272e-01</td>\n",
       "      <td>8.426689e-01</td>\n",
       "      <td>8.809847e-01</td>\n",
       "      <td>8.664643e-01</td>\n",
       "      <td>5.157099e-01</td>\n",
       "    </tr>\n",
       "    <tr>\n",
       "      <th>max</th>\n",
       "      <td>1.722601e+00</td>\n",
       "      <td>1.298590e+00</td>\n",
       "      <td>1.673809e+00</td>\n",
       "      <td>1.729828e+00</td>\n",
       "      <td>2.730489e+00</td>\n",
       "      <td>3.828719e-01</td>\n",
       "      <td>3.124343e+01</td>\n",
       "      <td>2.842174e+00</td>\n",
       "      <td>2.251127e+00</td>\n",
       "      <td>1.371535e+00</td>\n",
       "      <td>2.139565e+01</td>\n",
       "      <td>1.708331e+01</td>\n",
       "      <td>3.037967e+00</td>\n",
       "      <td>2.308353e+00</td>\n",
       "      <td>2.271325e+00</td>\n",
       "      <td>4.710194e+00</td>\n",
       "    </tr>\n",
       "  </tbody>\n",
       "</table>\n",
       "</div>"
      ],
      "text/plain": [
       "                 0             1             2             3             4   \\\n",
       "count  2.018000e+03  2.018000e+03  2.018000e+03  2.018000e+03  2.018000e+03   \n",
       "mean  -3.709179e-16  3.314164e-16 -6.111178e-16  6.216809e-17  3.093000e-16   \n",
       "std    1.000248e+00  1.000248e+00  1.000248e+00  1.000248e+00  1.000248e+00   \n",
       "min   -1.735583e+00 -1.775735e+00 -1.739082e+00 -1.730077e+00 -1.666844e+00   \n",
       "25%   -8.664483e-01 -8.095186e-01 -8.826872e-01 -8.663904e-01 -7.940908e-01   \n",
       "50%    2.686087e-03 -1.068157e-01  3.080041e-02  7.354037e-04 -1.227423e-01   \n",
       "75%    8.668497e-01  9.472386e-01  8.856091e-01  8.678612e-01 -8.917490e-02   \n",
       "max    1.722601e+00  1.298590e+00  1.673809e+00  1.729828e+00  2.730489e+00   \n",
       "\n",
       "                 5             6             7             8             9   \\\n",
       "count  2.018000e+03  2.018000e+03  2.018000e+03  2.018000e+03  2.018000e+03   \n",
       "mean   1.108407e-15  3.548532e-17  1.836984e-16  2.913648e-16 -4.742380e-17   \n",
       "std    1.000248e+00  1.000248e+00  1.000248e+00  1.000248e+00  1.000248e+00   \n",
       "min   -2.611839e+00 -1.904256e-01 -2.298377e+00 -6.176917e-01 -1.636430e+00   \n",
       "25%    3.828719e-01 -1.904256e-01 -7.604256e-01 -6.176917e-01 -7.770114e-01   \n",
       "50%    3.828719e-01 -1.904256e-01 -2.305143e-02 -6.176917e-01  8.240707e-02   \n",
       "75%    3.828719e-01 -5.945121e-02  7.353906e-01  8.167178e-01  9.418255e-01   \n",
       "max    3.828719e-01  3.124343e+01  2.842174e+00  2.251127e+00  1.371535e+00   \n",
       "\n",
       "                 10            11            12            13            14  \\\n",
       "count  2.018000e+03  2.018000e+03  2.018000e+03  2.018000e+03  2.018000e+03   \n",
       "mean  -1.640852e-17 -2.100236e-17  1.128928e-16  3.064392e-17  1.525044e-16   \n",
       "std    1.000248e+00  1.000248e+00  1.000248e+00  1.000248e+00  1.000248e+00   \n",
       "min   -3.192509e-01 -2.207138e-01 -1.138654e+00 -1.175797e+00 -1.159345e+00   \n",
       "25%   -3.040326e-01 -2.207138e-01 -1.023589e+00 -1.051109e+00 -1.071927e+00   \n",
       "50%   -2.609208e-01 -2.106062e-01 -2.649599e-02  2.956827e-02  9.072532e-02   \n",
       "75%   -9.719326e-02 -1.525272e-01  8.426689e-01  8.809847e-01  8.664643e-01   \n",
       "max    2.139565e+01  1.708331e+01  3.037967e+00  2.308353e+00  2.271325e+00   \n",
       "\n",
       "                 15  \n",
       "count  2.018000e+03  \n",
       "mean  -2.542840e-16  \n",
       "std    1.000248e+00  \n",
       "min   -5.073785e+00  \n",
       "25%   -4.104915e-01  \n",
       "50%    6.205097e-02  \n",
       "75%    5.157099e-01  \n",
       "max    4.710194e+00  "
      ]
     },
     "execution_count": 81,
     "metadata": {},
     "output_type": "execute_result"
    }
   ],
   "source": [
    "X.describe()"
   ]
  },
  {
   "cell_type": "markdown",
   "metadata": {},
   "source": [
    "# Outliers Detection"
   ]
  },
  {
   "cell_type": "code",
   "execution_count": 82,
   "metadata": {},
   "outputs": [
    {
     "data": {
      "text/plain": [
       "(array([ 1,  2,  3,  4,  5,  6,  7,  8,  9, 10, 11, 12, 13, 14, 15, 16, 17]),\n",
       " [Text(1, 0, 'Sl No:'),\n",
       "  Text(2, 0, 'STATE'),\n",
       "  Text(3, 0, 'CONSTITUENCY'),\n",
       "  Text(4, 0, 'NAME'),\n",
       "  Text(5, 0, 'WINNER'),\n",
       "  Text(6, 0, 'PARTY'),\n",
       "  Text(7, 0, 'GENDER'),\n",
       "  Text(8, 0, 'criminal'),\n",
       "  Text(9, 0, 'AGE'),\n",
       "  Text(10, 0, 'CATEGORY'),\n",
       "  Text(11, 0, 'EDUCATION'),\n",
       "  Text(12, 0, 'ASSETS'),\n",
       "  Text(13, 0, 'LIABILITIES'),\n",
       "  Text(14, 0, 'TOTAL_VOTES'),\n",
       "  Text(15, 0, 'OVER_TOTAL_ELECTORS_IN_CONSTITUENCY'),\n",
       "  Text(16, 0, 'OVER_TOTAL_VOTES_POLLED_IN_CONSTITUENCY'),\n",
       "  Text(17, 0, 'TOTAL_ELECTORS')])"
      ]
     },
     "execution_count": 82,
     "metadata": {},
     "output_type": "execute_result"
    },
    {
     "data": {
      "image/png": "[encoded data removed]",
      "text/plain": [
       "<Figure size 1440x1440 with 1 Axes>"
      ]
     },
     "metadata": {},
     "output_type": "display_data"
    }
   ],
   "source": [
    "# plotting box plots\n",
    "plt.figure(figsize=(20,20))\n",
    "df2.boxplot()\n",
    "plt.xticks(rotation=90)"
   ]
  },
  {
   "cell_type": "code",
   "execution_count": 83,
   "metadata": {},
   "outputs": [
    {
     "data": {
      "text/plain": [
       "AGE                                          0\n",
       "ASSETS                                     261\n",
       "CATEGORY                                     0\n",
       "CONSTITUENCY                                 0\n",
       "EDUCATION                                    0\n",
       "GENDER                                       0\n",
       "LIABILITIES                                311\n",
       "NAME                                         0\n",
       "OVER_TOTAL_ELECTORS_IN_CONSTITUENCY          0\n",
       "OVER_TOTAL_VOTES_POLLED_IN_CONSTITUENCY      0\n",
       "PARTY                                        0\n",
       "STATE                                        0\n",
       "Sl No:                                       0\n",
       "TOTAL_ELECTORS                             108\n",
       "TOTAL_VOTES                                  0\n",
       "WINNER                                       0\n",
       "criminal                                   322\n",
       "dtype: int64"
      ]
     },
     "execution_count": 83,
     "metadata": {},
     "output_type": "execute_result"
    }
   ],
   "source": [
    "#finding the 25th percentile and 75th percentile\n",
    "Q1=df2.quantile(0.25)\n",
    "Q3=df2.quantile(0.75)\n",
    "\n",
    "#interquatile range\n",
    "IQR=Q3-Q1\n",
    "\n",
    "#finding lower and upper bounds for all values.All values outside these bounds are outliers\n",
    "lower_lim=Q1-1.5*IQR\n",
    "upper_lim=Q3+1.5*IQR\n",
    "\n",
    "#finding the sum of the outliers in each column of int and float types.\n",
    "((df2.select_dtypes(include=['float64','int64'])<lower_lim)|(df2.select_dtypes(include=['float64','int64'])>upper_lim)).sum()"
   ]
  },
  {
   "cell_type": "code",
   "execution_count": 84,
   "metadata": {},
   "outputs": [
    {
     "data": {
      "text/plain": [
       "Text(0.5, 1.0, 'boxplot of criminal cases')"
      ]
     },
     "execution_count": 84,
     "metadata": {},
     "output_type": "execute_result"
    },
    {
     "data": {
      "image/png": "[encoded data removed]",
      "text/plain": [
       "<Figure size 432x288 with 1 Axes>"
      ]
     },
     "metadata": {},
     "output_type": "display_data"
    }
   ],
   "source": [
    "plt.boxplot(df2['criminal'])\n",
    "plt.title('boxplot of criminal cases')"
   ]
  },
  {
   "cell_type": "code",
   "execution_count": 85,
   "metadata": {},
   "outputs": [
    {
     "name": "stdout",
     "output_type": "stream",
     "text": [
      "0.0\n",
      "0.0\n",
      "1.0\n"
     ]
    }
   ],
   "source": [
    "Q1=np.percentile(df2['criminal'],25,interpolation='midpoint')\n",
    "Q2=np.percentile(df2['criminal'],50,interpolation='midpoint')\n",
    "Q3=np.percentile(df2['criminal'],75,interpolation='midpoint')\n",
    "print(Q1)\n",
    "print(Q2)\n",
    "print(Q3)\n"
   ]
  },
  {
   "cell_type": "code",
   "execution_count": 86,
   "metadata": {},
   "outputs": [
    {
     "data": {
      "text/plain": [
       "0.0"
      ]
     },
     "execution_count": 86,
     "metadata": {},
     "output_type": "execute_result"
    }
   ],
   "source": [
    "df2['criminal'].median()"
   ]
  },
  {
   "cell_type": "code",
   "execution_count": 87,
   "metadata": {},
   "outputs": [
    {
     "name": "stdout",
     "output_type": "stream",
     "text": [
      "1.0\n",
      "-1.5\n",
      "2.5\n"
     ]
    }
   ],
   "source": [
    "IQR=Q3-Q1\n",
    "low_lim=Q1-1.5*IQR\n",
    "upp_lim=Q3+1.5*IQR\n",
    "print(IQR)\n",
    "print(low_lim)\n",
    "print(upp_lim)"
   ]
  },
  {
   "cell_type": "code",
   "execution_count": 88,
   "metadata": {},
   "outputs": [],
   "source": [
    "#removing the values below -1.5 and above 2.5\n",
    "outlier=[]\n",
    "for x in df2['criminal']:\n",
    "    if((x>upp_lim)or(x<low_lim)):\n",
    "        outlier.append(x)\n",
    "        outlier"
   ]
  },
  {
   "cell_type": "code",
   "execution_count": 89,
   "metadata": {},
   "outputs": [
    {
     "data": {
      "text/plain": [
       "Int64Index([   0,    2,    4,   11,   29,   31,   34,   35,   40,   64,\n",
       "            ...\n",
       "            2189, 2191, 2204, 2221, 2232, 2247, 2251, 2253, 2259, 2261],\n",
       "           dtype='int64', length=322)"
      ]
     },
     "execution_count": 89,
     "metadata": {},
     "output_type": "execute_result"
    }
   ],
   "source": [
    "#finding the index numbers of the outliers\n",
    "ind1=df2['criminal']>upp_lim\n",
    "df2.loc[ind1].index\n"
   ]
  },
  {
   "cell_type": "code",
   "execution_count": 90,
   "metadata": {},
   "outputs": [
    {
     "data": {
      "text/plain": [
       "Text(0.5, 1.0, 'box plot of criminal cases')"
      ]
     },
     "execution_count": 90,
     "metadata": {},
     "output_type": "execute_result"
    },
    {
     "data": {
      "image/png": "[encoded data removed]",
      "text/plain": [
       "<Figure size 432x288 with 1 Axes>"
      ]
     },
     "metadata": {},
     "output_type": "display_data"
    }
   ],
   "source": [
    "#dropping outliers\n",
    "df2.drop(df2.loc[ind1].index,inplace=True)\n",
    "plt.boxplot(df2['criminal'])\n",
    "plt.title('box plot of criminal cases')"
   ]
  },
  {
   "cell_type": "code",
   "execution_count": 91,
   "metadata": {},
   "outputs": [
    {
     "data": {
      "text/plain": [
       "Text(0.5, 1.0, 'boxplot of LIABILITIES')"
      ]
     },
     "execution_count": 91,
     "metadata": {},
     "output_type": "execute_result"
    },
    {
     "data": {
      "image/png": "[encoded data removed]",
      "text/plain": [
       "<Figure size 432x288 with 1 Axes>"
      ]
     },
     "metadata": {},
     "output_type": "display_data"
    }
   ],
   "source": [
    "plt.boxplot(df2['LIABILITIES'])\n",
    "plt.title('boxplot of LIABILITIES')"
   ]
  },
  {
   "cell_type": "code",
   "execution_count": 92,
   "metadata": {},
   "outputs": [
    {
     "name": "stdout",
     "output_type": "stream",
     "text": [
      "0.0\n",
      "740565.5\n",
      "5511201.5\n"
     ]
    }
   ],
   "source": [
    "Q1=np.percentile(df2['LIABILITIES'],25,interpolation='midpoint')\n",
    "Q2=np.percentile(df2['LIABILITIES'],50,interpolation='midpoint')\n",
    "Q3=np.percentile(df2['LIABILITIES'],75,interpolation='midpoint')\n",
    "print(Q1)\n",
    "print(Q2)\n",
    "print(Q3)"
   ]
  },
  {
   "cell_type": "code",
   "execution_count": 93,
   "metadata": {},
   "outputs": [
    {
     "name": "stdout",
     "output_type": "stream",
     "text": [
      "5511201.5\n",
      "-8266802.25\n",
      "13778003.75\n"
     ]
    }
   ],
   "source": [
    "IQR=Q3-Q1\n",
    "low_lim=Q1-1.5*IQR\n",
    "upp_lim=Q3+1.5*IQR\n",
    "print(IQR)\n",
    "print(low_lim)\n",
    "print(upp_lim)"
   ]
  },
  {
   "cell_type": "code",
   "execution_count": 94,
   "metadata": {},
   "outputs": [],
   "source": [
    "\n",
    "outlier=[]\n",
    "for x in df2['LIABILITIES']:\n",
    "    if((x>upp_lim)or(x<low_lim)):\n",
    "        outlier.append(x)\n",
    "        outlier"
   ]
  },
  {
   "cell_type": "code",
   "execution_count": 95,
   "metadata": {},
   "outputs": [
    {
     "data": {
      "text/plain": [
       "Int64Index([   5,    8,   13,   17,   23,   32,   59,   65,   67,   74,\n",
       "            ...\n",
       "            2155, 2174, 2176, 2184, 2208, 2209, 2226, 2229, 2250, 2255],\n",
       "           dtype='int64', length=257)"
      ]
     },
     "execution_count": 95,
     "metadata": {},
     "output_type": "execute_result"
    }
   ],
   "source": [
    "#finding the index numbers of the outliers\n",
    "ind1=df2['LIABILITIES']>upp_lim\n",
    "df2.loc[ind1].index\n"
   ]
  },
  {
   "cell_type": "code",
   "execution_count": 96,
   "metadata": {
    "scrolled": true
   },
   "outputs": [
    {
     "data": {
      "text/plain": [
       "Text(0.5, 1.0, 'box plot of LIABILITIES')"
      ]
     },
     "execution_count": 96,
     "metadata": {},
     "output_type": "execute_result"
    },
    {
     "data": {
      "image/png": "[encoded data removed]",
      "text/plain": [
       "<Figure size 432x288 with 1 Axes>"
      ]
     },
     "metadata": {},
     "output_type": "display_data"
    }
   ],
   "source": [
    "#dropping outliers\n",
    "df2.drop(df2.loc[ind1].index,inplace=True)\n",
    "plt.boxplot(df2['LIABILITIES'])\n",
    "plt.title('box plot of LIABILITIES')"
   ]
  },
  {
   "cell_type": "code",
   "execution_count": 97,
   "metadata": {},
   "outputs": [
    {
     "data": {
      "text/plain": [
       "Text(0.5, 1.0, 'boxplot of ASSETS ')"
      ]
     },
     "execution_count": 97,
     "metadata": {},
     "output_type": "execute_result"
    },
    {
     "data": {
      "image/png": "[encoded data removed]",
      "text/plain": [
       "<Figure size 432x288 with 1 Axes>"
      ]
     },
     "metadata": {},
     "output_type": "display_data"
    }
   ],
   "source": [
    "plt.boxplot(df2['ASSETS']) \n",
    "plt.title('boxplot of ASSETS ')"
   ]
  },
  {
   "cell_type": "code",
   "execution_count": 98,
   "metadata": {},
   "outputs": [
    {
     "name": "stdout",
     "output_type": "stream",
     "text": [
      "4109772.5\n",
      "15705738.0\n",
      "47298357.0\n"
     ]
    }
   ],
   "source": [
    "Q1=np.percentile(df2['ASSETS'],25,interpolation='midpoint')\n",
    "Q2=np.percentile(df2['ASSETS'],50,interpolation='midpoint')\n",
    "Q3=np.percentile(df2['ASSETS'],75,interpolation='midpoint')\n",
    "print(Q1)\n",
    "print(Q2)\n",
    "print(Q3)"
   ]
  },
  {
   "cell_type": "code",
   "execution_count": 99,
   "metadata": {},
   "outputs": [
    {
     "name": "stdout",
     "output_type": "stream",
     "text": [
      "43188584.5\n",
      "-60673104.25\n",
      "112081233.75\n"
     ]
    }
   ],
   "source": [
    "IQR=Q3-Q1\n",
    "low_lim=Q1-1.5*IQR\n",
    "upp_lim=Q3+1.5*IQR\n",
    "print(IQR)\n",
    "print(low_lim)\n",
    "print(upp_lim)"
   ]
  },
  {
   "cell_type": "code",
   "execution_count": 100,
   "metadata": {},
   "outputs": [],
   "source": [
    "#removing the values below -118203144.75 and above -118203144.75\n",
    "outlier=[]\n",
    "for x in df2['ASSETS']:\n",
    "    if((x>upp_lim)or(x<low_lim)):\n",
    "        outlier.append(x)\n",
    "        outlier"
   ]
  },
  {
   "cell_type": "code",
   "execution_count": 101,
   "metadata": {},
   "outputs": [
    {
     "data": {
      "text/plain": [
       "Int64Index([   7,   21,   33,   41,   49,   56,   79,   89,   90,   91,\n",
       "            ...\n",
       "            2193, 2206, 2211, 2227, 2231, 2233, 2244, 2246, 2256, 2260],\n",
       "           dtype='int64', length=162)"
      ]
     },
     "execution_count": 101,
     "metadata": {},
     "output_type": "execute_result"
    }
   ],
   "source": [
    "#finding the index numbers of the outliers\n",
    "ind1=df2['ASSETS']>upp_lim\n",
    "df2.loc[ind1].index\n"
   ]
  },
  {
   "cell_type": "code",
   "execution_count": 102,
   "metadata": {
    "scrolled": true
   },
   "outputs": [
    {
     "data": {
      "text/plain": [
       "Text(0.5, 1.0, 'box plot of ASSETS')"
      ]
     },
     "execution_count": 102,
     "metadata": {},
     "output_type": "execute_result"
    },
    {
     "data": {
      "image/png": "[encoded data removed]",
      "text/plain": [
       "<Figure size 432x288 with 1 Axes>"
      ]
     },
     "metadata": {},
     "output_type": "display_data"
    }
   ],
   "source": [
    "#dropping outliers\n",
    "df2.drop(df2.loc[ind1].index,inplace=True)\n",
    "plt.boxplot(df2['ASSETS'])\n",
    "plt.title('box plot of ASSETS')"
   ]
  },
  {
   "cell_type": "markdown",
   "metadata": {},
   "source": [
    "# Predictive Models"
   ]
  },
  {
   "cell_type": "code",
   "execution_count": 103,
   "metadata": {},
   "outputs": [
    {
     "data": {
      "text/plain": [
       "0    1000\n",
       "1     277\n",
       "Name: WINNER, dtype: int64"
      ]
     },
     "execution_count": 103,
     "metadata": {},
     "output_type": "execute_result"
    }
   ],
   "source": [
    "df2['WINNER'].value_counts()"
   ]
  },
  {
   "cell_type": "code",
   "execution_count": 104,
   "metadata": {},
   "outputs": [
    {
     "data": {
      "text/plain": [
       "0    0.783085\n",
       "1    0.216915\n",
       "Name: WINNER, dtype: float64"
      ]
     },
     "execution_count": 104,
     "metadata": {},
     "output_type": "execute_result"
    }
   ],
   "source": [
    "df2['WINNER'].value_counts(normalize=True)"
   ]
  },
  {
   "cell_type": "code",
   "execution_count": 105,
   "metadata": {},
   "outputs": [],
   "source": [
    "#spliting the dataset \n",
    "X=df2.drop(['WINNER'],axis=1)\n",
    "y=df2['WINNER']"
   ]
  },
  {
   "cell_type": "code",
   "execution_count": 106,
   "metadata": {},
   "outputs": [],
   "source": [
    "from sklearn.model_selection import train_test_split\n",
    "X_train,X_test,y_train,y_test=train_test_split(X,y,random_state=42,test_size=0.2)"
   ]
  },
  {
   "cell_type": "code",
   "execution_count": 107,
   "metadata": {},
   "outputs": [
    {
     "data": {
      "text/plain": [
       "(1021, 16)"
      ]
     },
     "execution_count": 107,
     "metadata": {},
     "output_type": "execute_result"
    }
   ],
   "source": [
    "X_train.shape"
   ]
  },
  {
   "cell_type": "markdown",
   "metadata": {},
   "source": [
    "# Logistic Regression"
   ]
  },
  {
   "cell_type": "code",
   "execution_count": 108,
   "metadata": {},
   "outputs": [],
   "source": [
    "from sklearn.linear_model import LogisticRegression\n",
    "logit_model=LogisticRegression()\n",
    "logit_model.fit(X_train,y_train)\n",
    "y_pred=logit_model.predict(X_test)"
   ]
  },
  {
   "cell_type": "code",
   "execution_count": 109,
   "metadata": {},
   "outputs": [],
   "source": [
    "from sklearn.metrics import confusion_matrix,accuracy_score,precision_score,recall_score,f1_score"
   ]
  },
  {
   "cell_type": "code",
   "execution_count": 110,
   "metadata": {},
   "outputs": [
    {
     "name": "stdout",
     "output_type": "stream",
     "text": [
      "Accuracy is: 0.91015625\n",
      "Precision is: 0.796875\n",
      "REcall is: 0.8360655737704918\n",
      "f1_score is: 0.816\n"
     ]
    }
   ],
   "source": [
    "print(\"Accuracy is:\",accuracy_score(y_test,y_pred))\n",
    "print(\"Precision is:\",precision_score(y_test,y_pred))\n",
    "print(\"REcall is:\",recall_score(y_test,y_pred))\n",
    "print(\"f1_score is:\",f1_score(y_test,y_pred))"
   ]
  },
  {
   "cell_type": "code",
   "execution_count": 111,
   "metadata": {},
   "outputs": [
    {
     "data": {
      "text/plain": [
       "array([[182,  13],\n",
       "       [ 10,  51]], dtype=int64)"
      ]
     },
     "execution_count": 111,
     "metadata": {},
     "output_type": "execute_result"
    }
   ],
   "source": [
    "confusion_matrix(y_test,y_pred)"
   ]
  },
  {
   "cell_type": "markdown",
   "metadata": {},
   "source": [
    "# KNN"
   ]
  },
  {
   "cell_type": "code",
   "execution_count": 112,
   "metadata": {},
   "outputs": [],
   "source": [
    "from sklearn.neighbors import KNeighborsClassifier\n",
    "acc_values=[]\n",
    "neighbors=np.arange(3,15)\n",
    "for k in neighbors:\n",
    "    classifier=KNeighborsClassifier(n_neighbors=k,metric='minkowski')\n",
    "    classifier.fit(X_train,y_train)\n",
    "    y_pred=classifier.predict(X_test)\n",
    "    acc=accuracy_score(y_test,y_pred)\n",
    "    acc_values.append(acc)"
   ]
  },
  {
   "cell_type": "code",
   "execution_count": 113,
   "metadata": {},
   "outputs": [
    {
     "data": {
      "text/plain": [
       "[0.78125,\n",
       " 0.75390625,\n",
       " 0.74609375,\n",
       " 0.73828125,\n",
       " 0.7265625,\n",
       " 0.73828125,\n",
       " 0.72265625,\n",
       " 0.74609375,\n",
       " 0.73828125,\n",
       " 0.75,\n",
       " 0.734375,\n",
       " 0.73046875]"
      ]
     },
     "execution_count": 113,
     "metadata": {},
     "output_type": "execute_result"
    }
   ],
   "source": [
    "acc_values"
   ]
  },
  {
   "cell_type": "code",
   "execution_count": 114,
   "metadata": {},
   "outputs": [
    {
     "data": {
      "text/plain": [
       "Text(0, 0.5, 'accuracy')"
      ]
     },
     "execution_count": 114,
     "metadata": {},
     "output_type": "execute_result"
    },
    {
     "data": {
      "image/png": "[encoded data removed]",
      "text/plain": [
       "<Figure size 432x288 with 1 Axes>"
      ]
     },
     "metadata": {},
     "output_type": "display_data"
    }
   ],
   "source": [
    "plt.plot(neighbors,acc_values,'o-')\n",
    "plt.xlabel('k value')\n",
    "plt.ylabel('accuracy')"
   ]
  },
  {
   "cell_type": "code",
   "execution_count": 115,
   "metadata": {},
   "outputs": [],
   "source": [
    "classifier=KNeighborsClassifier(n_neighbors=5,metric='minkowski')\n",
    "classifier.fit(X_train,y_train)\n",
    "y_pred=classifier.predict(X_test)"
   ]
  },
  {
   "cell_type": "code",
   "execution_count": 116,
   "metadata": {},
   "outputs": [
    {
     "name": "stdout",
     "output_type": "stream",
     "text": [
      "Accuracy is: 0.74609375\n",
      "Precision is: 0.4444444444444444\n",
      "REcall is: 0.26229508196721313\n",
      "f1_score is: 0.32989690721649484\n"
     ]
    }
   ],
   "source": [
    "print(\"Accuracy is:\",accuracy_score(y_test,y_pred))\n",
    "print(\"Precision is:\",precision_score(y_test,y_pred))\n",
    "print(\"REcall is:\",recall_score(y_test,y_pred))\n",
    "print(\"f1_score is:\",f1_score(y_test,y_pred))"
   ]
  },
  {
   "cell_type": "code",
   "execution_count": 117,
   "metadata": {},
   "outputs": [
    {
     "data": {
      "text/plain": [
       "array([[175,  20],\n",
       "       [ 45,  16]], dtype=int64)"
      ]
     },
     "execution_count": 117,
     "metadata": {},
     "output_type": "execute_result"
    }
   ],
   "source": [
    "confusion_matrix(y_test,y_pred)"
   ]
  },
  {
   "cell_type": "code",
   "execution_count": 118,
   "metadata": {},
   "outputs": [
    {
     "data": {
      "text/plain": [
       "<bound method NDFrame.describe of       Sl No:  STATE  CONSTITUENCY  NAME  WINNER  PARTY  GENDER  criminal  \\\n",
       "1          2     31             0   700       0    119       1       0.0   \n",
       "6          7     33             1  1374       0     46       0       0.0   \n",
       "9         10     19             2  1727       0    122       1       0.0   \n",
       "10        11     10             3  1349       1     26       1       0.0   \n",
       "12        13     10             4   496       1     26       1       0.0   \n",
       "...      ...    ...           ...   ...     ...    ...     ...       ...   \n",
       "2249    2250     16           535  1904       0     23       1       0.0   \n",
       "2252    2253     23           536   245       0      1       1       0.0   \n",
       "2254    2255     19           537  1896       0     46       1       0.0   \n",
       "2257    2258     19           537  1975       0     85       0       0.0   \n",
       "2258    2259     19           537   184       0     47       1       0.0   \n",
       "\n",
       "       AGE  CATEGORY  EDUCATION      ASSETS  LIABILITIES  TOTAL_VOTES  \\\n",
       "1     54.0         2          7  18477888.0     847000.0       318814   \n",
       "6     54.0         1          7  55075753.0          0.0        45149   \n",
       "9     62.0         0          3  13949000.0    1400000.0        31807   \n",
       "10    58.0         0          5  74699690.0    6252577.0       749834   \n",
       "12    69.0         1          7  89474039.0          0.0       641622   \n",
       "...    ...       ...        ...         ...          ...          ...   \n",
       "2249  50.0         0          5         0.0          0.0        78816   \n",
       "2252  47.0         0          4  32894288.0    4161197.0       251873   \n",
       "2254  64.0         0          1  30303524.0    1292750.0       424159   \n",
       "2257  28.0         0          0   1168500.0       9000.0        20620   \n",
       "2258  43.0         0          7   4890000.0    1020000.0        14686   \n",
       "\n",
       "      OVER_TOTAL_ELECTORS_IN_CONSTITUENCY  \\\n",
       "1                               21.399929   \n",
       "6                                2.330042   \n",
       "9                                1.708771   \n",
       "10                              41.384970   \n",
       "12                              39.044323   \n",
       "...                                   ...   \n",
       "2249                             5.796662   \n",
       "2252                            10.620186   \n",
       "2254                            22.135598   \n",
       "2257                             1.076097   \n",
       "2258                             0.766419   \n",
       "\n",
       "      OVER_TOTAL_VOTES_POLLED_IN_CONSTITUENCY  TOTAL_ELECTORS  \n",
       "1                                   29.964370         1489790  \n",
       "6                                    3.940979         1937690  \n",
       "9                                    2.637200         1861396  \n",
       "10                                  67.005462         1811851  \n",
       "12                                  64.211450         1643317  \n",
       "...                                       ...             ...  \n",
       "2249                                 7.212569         1359679  \n",
       "2252                                17.460963         2371644  \n",
       "2254                                36.104046         1916185  \n",
       "2257                                 1.755157         1916185  \n",
       "2258                                 1.250060         1916185  \n",
       "\n",
       "[1277 rows x 17 columns]>"
      ]
     },
     "execution_count": 118,
     "metadata": {},
     "output_type": "execute_result"
    }
   ],
   "source": [
    "df2.describe"
   ]
  },
  {
   "cell_type": "markdown",
   "metadata": {},
   "source": [
    "# standard scalling"
   ]
  },
  {
   "cell_type": "code",
   "execution_count": 119,
   "metadata": {},
   "outputs": [],
   "source": [
    "from sklearn.preprocessing import StandardScaler\n",
    "scaler=StandardScaler()\n",
    "X_train=scaler.fit_transform(X_train)\n",
    "X_test=scaler.fit_transform(X_test)"
   ]
  },
  {
   "cell_type": "code",
   "execution_count": 120,
   "metadata": {},
   "outputs": [],
   "source": [
    "logit_model=LogisticRegression()\n",
    "logit_model.fit(X_train,y_train)\n",
    "y_pred=logit_model.predict(X_test)"
   ]
  },
  {
   "cell_type": "code",
   "execution_count": 121,
   "metadata": {},
   "outputs": [
    {
     "name": "stdout",
     "output_type": "stream",
     "text": [
      "Accuracy is: 0.94140625\n",
      "Precision is: 0.9423076923076923\n",
      "REcall is: 0.8032786885245902\n",
      "f1_score is: 0.8672566371681416\n"
     ]
    }
   ],
   "source": [
    "print(\"Accuracy is:\",accuracy_score(y_test,y_pred))\n",
    "print(\"Precision is:\",precision_score(y_test,y_pred))\n",
    "print(\"REcall is:\",recall_score(y_test,y_pred))\n",
    "print(\"f1_score is:\",f1_score(y_test,y_pred))"
   ]
  },
  {
   "cell_type": "code",
   "execution_count": 122,
   "metadata": {},
   "outputs": [
    {
     "data": {
      "text/plain": [
       "array([[192,   3],\n",
       "       [ 12,  49]], dtype=int64)"
      ]
     },
     "execution_count": 122,
     "metadata": {},
     "output_type": "execute_result"
    }
   ],
   "source": [
    "confusion_matrix(y_test,y_pred)"
   ]
  },
  {
   "cell_type": "code",
   "execution_count": 123,
   "metadata": {},
   "outputs": [],
   "source": [
    "acc_values=[]\n",
    "neighbors=np.arange(3,15)\n",
    "for k in neighbors:\n",
    "    classifier=KNeighborsClassifier(n_neighbors=k,metric='minkowski')\n",
    "    classifier.fit(X_train,y_train)\n",
    "    y_pred=classifier.predict(X_test)\n",
    "    acc=accuracy_score(y_test,y_pred)\n",
    "    acc_values.append(acc)"
   ]
  },
  {
   "cell_type": "code",
   "execution_count": 124,
   "metadata": {},
   "outputs": [
    {
     "data": {
      "text/plain": [
       "Text(0, 0.5, 'accuracy')"
      ]
     },
     "execution_count": 124,
     "metadata": {},
     "output_type": "execute_result"
    },
    {
     "data": {
      "image/png": "[encoded data removed]",
      "text/plain": [
       "<Figure size 432x288 with 1 Axes>"
      ]
     },
     "metadata": {},
     "output_type": "display_data"
    }
   ],
   "source": [
    "plt.plot(neighbors,acc_values,'o-')\n",
    "plt.xlabel('k value')\n",
    "plt.ylabel('accuracy')"
   ]
  },
  {
   "cell_type": "code",
   "execution_count": 125,
   "metadata": {},
   "outputs": [],
   "source": [
    "classifier=KNeighborsClassifier(n_neighbors=5,metric='minkowski')\n",
    "classifier.fit(X_train,y_train)\n",
    "y_pred=classifier.predict(X_test)"
   ]
  },
  {
   "cell_type": "code",
   "execution_count": 126,
   "metadata": {},
   "outputs": [
    {
     "name": "stdout",
     "output_type": "stream",
     "text": [
      "Accuracy is: 0.89453125\n",
      "Precision is: 0.8269230769230769\n",
      "REcall is: 0.7049180327868853\n",
      "f1_score is: 0.7610619469026548\n"
     ]
    },
    {
     "data": {
      "text/plain": [
       "array([[186,   9],\n",
       "       [ 18,  43]], dtype=int64)"
      ]
     },
     "execution_count": 126,
     "metadata": {},
     "output_type": "execute_result"
    }
   ],
   "source": [
    "print(\"Accuracy is:\",accuracy_score(y_test,y_pred))\n",
    "print(\"Precision is:\",precision_score(y_test,y_pred))\n",
    "print(\"REcall is:\",recall_score(y_test,y_pred))\n",
    "print(\"f1_score is:\",f1_score(y_test,y_pred))\n",
    "confusion_matrix(y_test,y_pred)"
   ]
  },
  {
   "cell_type": "markdown",
   "metadata": {},
   "source": [
    "# Decision Tree Classifier"
   ]
  },
  {
   "cell_type": "code",
   "execution_count": 127,
   "metadata": {},
   "outputs": [],
   "source": [
    "from sklearn.tree import DecisionTreeClassifier"
   ]
  },
  {
   "cell_type": "code",
   "execution_count": 128,
   "metadata": {},
   "outputs": [],
   "source": [
    "dt_model=DecisionTreeClassifier()"
   ]
  },
  {
   "cell_type": "code",
   "execution_count": 129,
   "metadata": {},
   "outputs": [
    {
     "data": {
      "text/plain": [
       "DecisionTreeClassifier()"
      ]
     },
     "execution_count": 129,
     "metadata": {},
     "output_type": "execute_result"
    }
   ],
   "source": [
    "dt_model.fit(X_train,y_train)"
   ]
  },
  {
   "cell_type": "code",
   "execution_count": 130,
   "metadata": {},
   "outputs": [],
   "source": [
    "y_pred=dt_model.predict(X_test)"
   ]
  },
  {
   "cell_type": "code",
   "execution_count": 131,
   "metadata": {},
   "outputs": [
    {
     "name": "stdout",
     "output_type": "stream",
     "text": [
      "accuracy on Decision tree model is : 0.9375\n"
     ]
    }
   ],
   "source": [
    "print(\"accuracy on Decision tree model is :\",accuracy_score(y_test,y_pred))"
   ]
  },
  {
   "cell_type": "code",
   "execution_count": 132,
   "metadata": {},
   "outputs": [
    {
     "data": {
      "text/plain": [
       "0    195\n",
       "1     61\n",
       "Name: WINNER, dtype: int64"
      ]
     },
     "execution_count": 132,
     "metadata": {},
     "output_type": "execute_result"
    }
   ],
   "source": [
    "y_test.value_counts()"
   ]
  },
  {
   "cell_type": "code",
   "execution_count": 133,
   "metadata": {},
   "outputs": [
    {
     "data": {
      "text/plain": [
       "array([[190,   5],\n",
       "       [ 11,  50]], dtype=int64)"
      ]
     },
     "execution_count": 133,
     "metadata": {},
     "output_type": "execute_result"
    }
   ],
   "source": [
    "confusion_matrix(y_test,y_pred)"
   ]
  },
  {
   "cell_type": "markdown",
   "metadata": {},
   "source": [
    "# Random Forest"
   ]
  },
  {
   "cell_type": "code",
   "execution_count": 134,
   "metadata": {},
   "outputs": [],
   "source": [
    "from sklearn.ensemble import RandomForestClassifier\n",
    "rf=RandomForestClassifier()\n",
    "rf.fit(X_train,y_train)\n",
    "y_pred=rf.predict(X_test)"
   ]
  },
  {
   "cell_type": "code",
   "execution_count": 135,
   "metadata": {},
   "outputs": [
    {
     "data": {
      "text/plain": [
       "0.8849557522123893"
      ]
     },
     "execution_count": 135,
     "metadata": {},
     "output_type": "execute_result"
    }
   ],
   "source": [
    "from sklearn.metrics import f1_score,confusion_matrix\n",
    "f1_score(y_test,y_pred)"
   ]
  },
  {
   "cell_type": "code",
   "execution_count": 136,
   "metadata": {},
   "outputs": [
    {
     "data": {
      "text/plain": [
       "array([[193,   2],\n",
       "       [ 11,  50]], dtype=int64)"
      ]
     },
     "execution_count": 136,
     "metadata": {},
     "output_type": "execute_result"
    }
   ],
   "source": [
    "confusion_matrix(y_test,y_pred)"
   ]
  },
  {
   "cell_type": "markdown",
   "metadata": {},
   "source": [
    "# Feature Importance"
   ]
  },
  {
   "cell_type": "code",
   "execution_count": 137,
   "metadata": {},
   "outputs": [
    {
     "data": {
      "text/plain": [
       "OVER_TOTAL_VOTES_POLLED_IN_CONSTITUENCY    45.650084\n",
       "OVER_TOTAL_ELECTORS_IN_CONSTITUENCY        21.811914\n",
       "TOTAL_VOTES                                14.744688\n",
       "PARTY                                       3.891922\n",
       "ASSETS                                      2.899259\n",
       "TOTAL_ELECTORS                              1.871965\n",
       "AGE                                         1.746336\n",
       "STATE                                       1.443455\n",
       "Sl No:                                      1.321376\n",
       "NAME                                        1.259836\n",
       "CONSTITUENCY                                0.985428\n",
       "LIABILITIES                                 0.943018\n",
       "CATEGORY                                    0.529022\n",
       "EDUCATION                                   0.456664\n",
       "criminal                                    0.290903\n",
       "GENDER                                      0.154128\n",
       "dtype: float64"
      ]
     },
     "execution_count": 137,
     "metadata": {},
     "output_type": "execute_result"
    }
   ],
   "source": [
    "pd.Series(rf.feature_importances_,index=X.columns).sort_values(ascending=False)*100"
   ]
  },
  {
   "cell_type": "markdown",
   "metadata": {},
   "source": [
    "# distribution of prediction probabilities"
   ]
  },
  {
   "cell_type": "code",
   "execution_count": 138,
   "metadata": {},
   "outputs": [],
   "source": [
    "threshold=0.22\n",
    "y_pred_prob=rf.predict_proba(X_test)[:,1]\n",
    "y_pred=(y_pred_prob>threshold).astype(int)"
   ]
  },
  {
   "cell_type": "code",
   "execution_count": 139,
   "metadata": {},
   "outputs": [
    {
     "data": {
      "text/plain": [
       "0.8688524590163934"
      ]
     },
     "execution_count": 139,
     "metadata": {},
     "output_type": "execute_result"
    }
   ],
   "source": [
    "f1_score(y_test,y_pred)"
   ]
  },
  {
   "cell_type": "markdown",
   "metadata": {},
   "source": [
    "# Fine Tuning of Hyperparameters"
   ]
  },
  {
   "cell_type": "code",
   "execution_count": 140,
   "metadata": {},
   "outputs": [
    {
     "data": {
      "text/plain": [
       "RandomForestClassifier()"
      ]
     },
     "execution_count": 140,
     "metadata": {},
     "output_type": "execute_result"
    }
   ],
   "source": [
    "rf.fit(X_train,y_train)"
   ]
  },
  {
   "cell_type": "code",
   "execution_count": 141,
   "metadata": {},
   "outputs": [],
   "source": [
    "rft=RandomForestClassifier(n_estimators=500,max_depth=10,random_state=42,criterion=\"entropy\")"
   ]
  },
  {
   "cell_type": "code",
   "execution_count": 142,
   "metadata": {},
   "outputs": [
    {
     "data": {
      "text/plain": [
       "RandomForestClassifier(criterion='entropy', max_depth=10, n_estimators=500,\n",
       "                       random_state=42)"
      ]
     },
     "execution_count": 142,
     "metadata": {},
     "output_type": "execute_result"
    }
   ],
   "source": [
    "rft.fit(X_train,y_train)"
   ]
  },
  {
   "cell_type": "code",
   "execution_count": 143,
   "metadata": {},
   "outputs": [
    {
     "data": {
      "text/plain": [
       "0.8672566371681416"
      ]
     },
     "execution_count": 143,
     "metadata": {},
     "output_type": "execute_result"
    }
   ],
   "source": [
    "y_pred=rft.predict(X_test)\n",
    "f1_score(y_test,y_pred)"
   ]
  },
  {
   "cell_type": "markdown",
   "metadata": {},
   "source": [
    "# Gradiant Boosting"
   ]
  },
  {
   "cell_type": "code",
   "execution_count": 144,
   "metadata": {},
   "outputs": [
    {
     "data": {
      "text/plain": [
       "GradientBoostingClassifier()"
      ]
     },
     "execution_count": 144,
     "metadata": {},
     "output_type": "execute_result"
    }
   ],
   "source": [
    "from sklearn.ensemble import GradientBoostingClassifier\n",
    "gb=GradientBoostingClassifier()\n",
    "gb.fit(X_train,y_train)"
   ]
  },
  {
   "cell_type": "code",
   "execution_count": 145,
   "metadata": {},
   "outputs": [],
   "source": [
    "y_pred=gb.predict(X_test)"
   ]
  },
  {
   "cell_type": "code",
   "execution_count": 146,
   "metadata": {},
   "outputs": [
    {
     "data": {
      "text/plain": [
       "0.8947368421052632"
      ]
     },
     "execution_count": 146,
     "metadata": {},
     "output_type": "execute_result"
    }
   ],
   "source": [
    "f1_score(y_test,y_pred)"
   ]
  },
  {
   "cell_type": "markdown",
   "metadata": {},
   "source": [
    "# Hyper Parametric tunning"
   ]
  },
  {
   "cell_type": "code",
   "execution_count": 147,
   "metadata": {},
   "outputs": [],
   "source": [
    "from sklearn.model_selection import GridSearchCV"
   ]
  },
  {
   "cell_type": "code",
   "execution_count": 148,
   "metadata": {},
   "outputs": [],
   "source": [
    "#List Hyperparameters that we want to tune.\n",
    "leaf_size = list(range(1,2))\n",
    "n_neighbors = list(range(3,5))\n",
    "p=[1]\n",
    "#Convert to dictionary\n",
    "hyperparameters = dict(leaf_size=leaf_size, n_neighbors=n_neighbors, p=p)\n",
    "#Create new KNN object\n",
    "knn_2 = KNeighborsClassifier()"
   ]
  },
  {
   "cell_type": "code",
   "execution_count": 149,
   "metadata": {},
   "outputs": [
    {
     "name": "stdout",
     "output_type": "stream",
     "text": [
      "Best leaf_size: 1\n",
      "Best p: 1\n",
      "Best n_neighbors: 3\n"
     ]
    }
   ],
   "source": [
    "#Use GridSearch\n",
    "clf = GridSearchCV(knn_2, hyperparameters, cv=10)\n",
    "#Fit the model\n",
    "best_model = clf.fit(X_train,y_train)\n",
    "#Print The value of best Hyperparameters\n",
    "print('Best leaf_size:', best_model.best_estimator_.get_params()['leaf_size'])\n",
    "print('Best p:', best_model.best_estimator_.get_params()['p'])\n",
    "print('Best n_neighbors:', best_model.best_estimator_.get_params()['n_neighbors'])"
   ]
  },
  {
   "cell_type": "code",
   "execution_count": 150,
   "metadata": {},
   "outputs": [
    {
     "name": "stdout",
     "output_type": "stream",
     "text": [
      "[[193   2]\n",
      " [ 10  51]]\n",
      "0.8947368421052632\n"
     ]
    }
   ],
   "source": [
    "kncdf = KNeighborsClassifier(leaf_size=1,n_neighbors=3,metric=\"minkowski\",p=1)\n",
    "model = kncdf.fit(X_train,y_train)\n",
    "predictions = model.predict(X_test)\n",
    "print(confusion_matrix(y_test,y_pred))\n",
    "print(f1_score(y_test,y_pred))"
   ]
  },
  {
   "cell_type": "code",
   "execution_count": 151,
   "metadata": {},
   "outputs": [
    {
     "name": "stdout",
     "output_type": "stream",
     "text": [
      "Parameters currently in use:\n",
      "\n",
      "{'bootstrap': True,\n",
      " 'ccp_alpha': 0.0,\n",
      " 'criterion': 'mse',\n",
      " 'max_depth': None,\n",
      " 'max_features': 'auto',\n",
      " 'max_leaf_nodes': None,\n",
      " 'max_samples': None,\n",
      " 'min_impurity_decrease': 0.0,\n",
      " 'min_impurity_split': None,\n",
      " 'min_samples_leaf': 1,\n",
      " 'min_samples_split': 2,\n",
      " 'min_weight_fraction_leaf': 0.0,\n",
      " 'n_estimators': 100,\n",
      " 'n_jobs': None,\n",
      " 'oob_score': False,\n",
      " 'random_state': 42,\n",
      " 'verbose': 0,\n",
      " 'warm_start': False}\n"
     ]
    }
   ],
   "source": [
    "from sklearn.ensemble import RandomForestRegressor\n",
    "rf = RandomForestRegressor(random_state = 42)\n",
    "from pprint import pprint\n",
    "# Look at parameters used by our current forest\n",
    "print('Parameters currently in use:\\n')\n",
    "pprint(rf.get_params())"
   ]
  },
  {
   "cell_type": "code",
   "execution_count": 152,
   "metadata": {},
   "outputs": [
    {
     "name": "stdout",
     "output_type": "stream",
     "text": [
      "{'bootstrap': [True, False],\n",
      " 'max_depth': [10, 24, 38, 52, 66, 80, None],\n",
      " 'max_features': ['auto', 'sqrt'],\n",
      " 'min_samples_leaf': [1, 2, 4],\n",
      " 'min_samples_split': [2, 5, 10],\n",
      " 'n_estimators': [200, 560, 920, 1280, 1640, 2000]}\n"
     ]
    }
   ],
   "source": [
    "from sklearn.model_selection import RandomizedSearchCV\n",
    "# Number of trees in random forest\n",
    "n_estimators = [int(x) for x in np.linspace(start = 200, stop = 2000, num = 6)]\n",
    "# Number of features to consider at every split\n",
    "max_features = ['auto', 'sqrt']\n",
    "# Maximum number of levels in tree\n",
    "max_depth = [int(x) for x in np.linspace(10, 80, num = 6)]\n",
    "max_depth.append(None)\n",
    "# Minimum number of samples required to split a node\n",
    "min_samples_split = [2, 5, 10]\n",
    "# Minimum number of samples required at each leaf node\n",
    "min_samples_leaf = [1, 2, 4]\n",
    "# Method of selecting samples for training each tree\n",
    "bootstrap = [True, False]\n",
    "# Create the random grid\n",
    "random_grid = {'n_estimators': n_estimators,\n",
    "               'max_features': max_features,\n",
    "               'max_depth': max_depth,\n",
    "               'min_samples_split': min_samples_split,\n",
    "               'min_samples_leaf': min_samples_leaf,\n",
    "               'bootstrap': bootstrap}\n",
    "pprint(random_grid)"
   ]
  },
  {
   "cell_type": "code",
   "execution_count": 153,
   "metadata": {},
   "outputs": [
    {
     "name": "stdout",
     "output_type": "stream",
     "text": [
      "{'bootstrap': [True, False],\n",
      " 'max_depth': [10, 24, 38, 52, 66, 80, None],\n",
      " 'max_features': ['auto', 'sqrt'],\n",
      " 'min_samples_leaf': [1, 2, 4],\n",
      " 'min_samples_split': [2, 5, 10],\n",
      " 'n_estimators': [200, 560, 920, 1280, 1640, 2000]}\n"
     ]
    }
   ],
   "source": [
    "from sklearn.model_selection import RandomizedSearchCV\n",
    "# Number of trees in random forest\n",
    "n_estimators = [int(x) for x in np.linspace(start = 200, stop = 2000, num = 6)]\n",
    "# Number of features to consider at every split\n",
    "max_features = ['auto', 'sqrt']\n",
    "# Maximum number of levels in tree\n",
    "max_depth = [int(x) for x in np.linspace(10, 80, num = 6)]\n",
    "max_depth.append(None)\n",
    "# Minimum number of samples required to split a node\n",
    "min_samples_split = [2, 5, 10]\n",
    "# Minimum number of samples required at each leaf node\n",
    "min_samples_leaf = [1, 2, 4]\n",
    "# Method of selecting samples for training each tree\n",
    "bootstrap = [True, False]\n",
    "# Create the random grid\n",
    "random_grid = {'n_estimators': n_estimators,\n",
    "               'max_features': max_features,\n",
    "               'max_depth': max_depth,\n",
    "               'min_samples_split': min_samples_split,\n",
    "               'min_samples_leaf': min_samples_leaf,\n",
    "               'bootstrap': bootstrap}\n",
    "pprint(random_grid)"
   ]
  },
  {
   "cell_type": "code",
   "execution_count": 160,
   "metadata": {},
   "outputs": [
    {
     "name": "stdout",
     "output_type": "stream",
     "text": [
      "cross validation scrore are[0.8984375  0.921875   0.89803922 0.91372549 0.94117647]\n"
     ]
    }
   ],
   "source": [
    "from sklearn.model_selection import cross_val_score,StratifiedKFold\n",
    "from sklearn.linear_model import LogisticRegression\n",
    "logreg=LogisticRegression()\n",
    "stratifiedkf=StratifiedKFold(n_splits=5)\n",
    "score=cross_val_score(logreg,X,y,cv=stratifiedkf)\n",
    "print(\"cross validation scrore are{}\".format(score))"
   ]
  },
  {
   "cell_type": "code",
   "execution_count": null,
   "metadata": {},
   "outputs": [],
   "source": []
  }
 ],
 "metadata": {
  "colab": {
   "collapsed_sections": [],
   "name": "loksabha_election.ipynb",
   "provenance": []
  },
  "kernelspec": {
   "display_name": "Python 3",
   "language": "python",
   "name": "python3"
  },
  "language_info": {
   "codemirror_mode": {
    "name": "ipython",
    "version": 3
   },
   "file_extension": ".py",
   "mimetype": "text/x-python",
   "name": "python",
   "nbconvert_exporter": "python",
   "pygments_lexer": "ipython3",
   "version": "3.8.8"
  }
 },
 "nbformat": 4,
 "nbformat_minor": 1
}
