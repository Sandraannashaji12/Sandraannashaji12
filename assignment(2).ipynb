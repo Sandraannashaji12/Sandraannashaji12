{
 "cells": [
  {
   "cell_type": "code",
   "execution_count": 60,
   "metadata": {
    "id": "NU9IfWcjEieU"
   },
   "outputs": [],
   "source": [
    "import pandas as pd\n",
    "import matplotlib.pyplot as plt"
   ]
  },
  {
   "cell_type": "markdown",
   "metadata": {
    "id": "1KKXMZmjEpIa"
   },
   "source": [
    "**1. Read the dataset to python environment**"
   ]
  },
  {
   "cell_type": "code",
   "execution_count": 61,
   "metadata": {
    "id": "gwT5ANROE1Qd"
   },
   "outputs": [],
   "source": [
    "data=pd.read_csv('cars_data.csv')"
   ]
  },
  {
   "cell_type": "code",
   "execution_count": 62,
   "metadata": {
    "colab": {
     "base_uri": "https://localhost:8080/",
     "height": 524
    },
    "id": "E2NjLU84FO9l",
    "outputId": "61a39d4e-71f3-4854-eb21-de47d370e0b3"
   },
   "outputs": [
    {
     "data": {
      "text/html": [
       "<div>\n",
       "<style scoped>\n",
       "    .dataframe tbody tr th:only-of-type {\n",
       "        vertical-align: middle;\n",
       "    }\n",
       "\n",
       "    .dataframe tbody tr th {\n",
       "        vertical-align: top;\n",
       "    }\n",
       "\n",
       "    .dataframe thead th {\n",
       "        text-align: right;\n",
       "    }\n",
       "</style>\n",
       "<table border=\"1\" class=\"dataframe\">\n",
       "  <thead>\n",
       "    <tr style=\"text-align: right;\">\n",
       "      <th></th>\n",
       "      <th>Make</th>\n",
       "      <th>Model</th>\n",
       "      <th>Nickname</th>\n",
       "      <th>Car Gender</th>\n",
       "      <th>Buyer Gender</th>\n",
       "      <th>Buyer Age</th>\n",
       "      <th>Buzzword</th>\n",
       "      <th>Country</th>\n",
       "      <th>City</th>\n",
       "      <th>Dealer Latitude</th>\n",
       "      <th>Dealer Longitude</th>\n",
       "      <th>Color</th>\n",
       "      <th>New Car</th>\n",
       "      <th>Purchase Date</th>\n",
       "      <th>Sale Price</th>\n",
       "      <th>Discount</th>\n",
       "      <th>Resell Price</th>\n",
       "      <th>5-yr Depreciation</th>\n",
       "      <th>Top Speed</th>\n",
       "      <th>0-60 Time</th>\n",
       "    </tr>\n",
       "  </thead>\n",
       "  <tbody>\n",
       "    <tr>\n",
       "      <th>0</th>\n",
       "      <td>Suzuki</td>\n",
       "      <td>Vitara</td>\n",
       "      <td>Philippine</td>\n",
       "      <td>Female</td>\n",
       "      <td>Female</td>\n",
       "      <td>51</td>\n",
       "      <td>User-friendly</td>\n",
       "      <td>Belgium</td>\n",
       "      <td>Antwerpen</td>\n",
       "      <td>51.247239</td>\n",
       "      <td>4.440346</td>\n",
       "      <td>Yellow</td>\n",
       "      <td>False</td>\n",
       "      <td>19/07/2009</td>\n",
       "      <td>54806.14</td>\n",
       "      <td>0.2467</td>\n",
       "      <td>33858.32</td>\n",
       "      <td>0.13</td>\n",
       "      <td>200.9</td>\n",
       "      <td>11.5</td>\n",
       "    </tr>\n",
       "    <tr>\n",
       "      <th>1</th>\n",
       "      <td>Honda</td>\n",
       "      <td>S2000</td>\n",
       "      <td>Henrik</td>\n",
       "      <td>Male</td>\n",
       "      <td>Male</td>\n",
       "      <td>30</td>\n",
       "      <td>analyzing</td>\n",
       "      <td>China</td>\n",
       "      <td>Jinhu</td>\n",
       "      <td>33.025433</td>\n",
       "      <td>119.020584</td>\n",
       "      <td>Crimson</td>\n",
       "      <td>False</td>\n",
       "      <td>26/10/2015</td>\n",
       "      <td>51826.30</td>\n",
       "      <td>0.3147</td>\n",
       "      <td>2989.28</td>\n",
       "      <td>0.02</td>\n",
       "      <td>158.5</td>\n",
       "      <td>8.8</td>\n",
       "    </tr>\n",
       "    <tr>\n",
       "      <th>2</th>\n",
       "      <td>BMW</td>\n",
       "      <td>Z4</td>\n",
       "      <td>Lebbie</td>\n",
       "      <td>Male</td>\n",
       "      <td>Female</td>\n",
       "      <td>54</td>\n",
       "      <td>software</td>\n",
       "      <td>China</td>\n",
       "      <td>Gemo</td>\n",
       "      <td>30.916207</td>\n",
       "      <td>121.677640</td>\n",
       "      <td>Khaki</td>\n",
       "      <td>False</td>\n",
       "      <td>28/03/2010</td>\n",
       "      <td>82929.14</td>\n",
       "      <td>0.5414</td>\n",
       "      <td>35049.16</td>\n",
       "      <td>0.24</td>\n",
       "      <td>149.5</td>\n",
       "      <td>14.4</td>\n",
       "    </tr>\n",
       "    <tr>\n",
       "      <th>3</th>\n",
       "      <td>Toyota</td>\n",
       "      <td>Tacoma</td>\n",
       "      <td>Jefferey</td>\n",
       "      <td>Female</td>\n",
       "      <td>Male</td>\n",
       "      <td>68</td>\n",
       "      <td>monitoring</td>\n",
       "      <td>Portugal</td>\n",
       "      <td>Queluz de Baixo</td>\n",
       "      <td>38.745168</td>\n",
       "      <td>-9.267087</td>\n",
       "      <td>Puce</td>\n",
       "      <td>False</td>\n",
       "      <td>07/05/2008</td>\n",
       "      <td>56928.66</td>\n",
       "      <td>0.0850</td>\n",
       "      <td>8236.15</td>\n",
       "      <td>0.20</td>\n",
       "      <td>153.3</td>\n",
       "      <td>11.5</td>\n",
       "    </tr>\n",
       "    <tr>\n",
       "      <th>4</th>\n",
       "      <td>Ford</td>\n",
       "      <td>Festiva</td>\n",
       "      <td>Glendon</td>\n",
       "      <td>Female</td>\n",
       "      <td>Male</td>\n",
       "      <td>70</td>\n",
       "      <td>Sharable</td>\n",
       "      <td>Latvia</td>\n",
       "      <td>Jaunpils</td>\n",
       "      <td>56.729980</td>\n",
       "      <td>23.016588</td>\n",
       "      <td>Yellow</td>\n",
       "      <td>False</td>\n",
       "      <td>01/06/2008</td>\n",
       "      <td>77201.26</td>\n",
       "      <td>0.1642</td>\n",
       "      <td>32765.76</td>\n",
       "      <td>0.18</td>\n",
       "      <td>122.0</td>\n",
       "      <td>14.9</td>\n",
       "    </tr>\n",
       "    <tr>\n",
       "      <th>...</th>\n",
       "      <td>...</td>\n",
       "      <td>...</td>\n",
       "      <td>...</td>\n",
       "      <td>...</td>\n",
       "      <td>...</td>\n",
       "      <td>...</td>\n",
       "      <td>...</td>\n",
       "      <td>...</td>\n",
       "      <td>...</td>\n",
       "      <td>...</td>\n",
       "      <td>...</td>\n",
       "      <td>...</td>\n",
       "      <td>...</td>\n",
       "      <td>...</td>\n",
       "      <td>...</td>\n",
       "      <td>...</td>\n",
       "      <td>...</td>\n",
       "      <td>...</td>\n",
       "      <td>...</td>\n",
       "      <td>...</td>\n",
       "    </tr>\n",
       "    <tr>\n",
       "      <th>9995</th>\n",
       "      <td>Mazda</td>\n",
       "      <td>Tribute</td>\n",
       "      <td>Cooper</td>\n",
       "      <td>Male</td>\n",
       "      <td>Male</td>\n",
       "      <td>44</td>\n",
       "      <td>hardware</td>\n",
       "      <td>Pakistan</td>\n",
       "      <td>Chishtiān Mandi</td>\n",
       "      <td>29.919386</td>\n",
       "      <td>73.074787</td>\n",
       "      <td>Pink</td>\n",
       "      <td>False</td>\n",
       "      <td>05/01/2020</td>\n",
       "      <td>58580.65</td>\n",
       "      <td>0.1611</td>\n",
       "      <td>42640.82</td>\n",
       "      <td>0.14</td>\n",
       "      <td>245.8</td>\n",
       "      <td>8.0</td>\n",
       "    </tr>\n",
       "    <tr>\n",
       "      <th>9996</th>\n",
       "      <td>GMC</td>\n",
       "      <td>Sierra 2500</td>\n",
       "      <td>Dud</td>\n",
       "      <td>Male</td>\n",
       "      <td>Male</td>\n",
       "      <td>40</td>\n",
       "      <td>Enhanced</td>\n",
       "      <td>Costa Rica</td>\n",
       "      <td>Ángeles</td>\n",
       "      <td>10.075000</td>\n",
       "      <td>-84.241523</td>\n",
       "      <td>Puce</td>\n",
       "      <td>False</td>\n",
       "      <td>28/12/2005</td>\n",
       "      <td>75229.74</td>\n",
       "      <td>0.2691</td>\n",
       "      <td>21115.58</td>\n",
       "      <td>0.11</td>\n",
       "      <td>147.4</td>\n",
       "      <td>12.3</td>\n",
       "    </tr>\n",
       "    <tr>\n",
       "      <th>9997</th>\n",
       "      <td>Mercury</td>\n",
       "      <td>Mariner</td>\n",
       "      <td>Chariot</td>\n",
       "      <td>Male</td>\n",
       "      <td>Male</td>\n",
       "      <td>37</td>\n",
       "      <td>monitoring</td>\n",
       "      <td>Poland</td>\n",
       "      <td>Dąbrowice</td>\n",
       "      <td>52.311922</td>\n",
       "      <td>19.084965</td>\n",
       "      <td>Blue</td>\n",
       "      <td>False</td>\n",
       "      <td>08/03/2013</td>\n",
       "      <td>34755.44</td>\n",
       "      <td>0.2493</td>\n",
       "      <td>2731.25</td>\n",
       "      <td>0.12</td>\n",
       "      <td>198.1</td>\n",
       "      <td>11.8</td>\n",
       "    </tr>\n",
       "    <tr>\n",
       "      <th>9998</th>\n",
       "      <td>Daewoo</td>\n",
       "      <td>Leganza</td>\n",
       "      <td>Dynah</td>\n",
       "      <td>Female</td>\n",
       "      <td>Female</td>\n",
       "      <td>21</td>\n",
       "      <td>cohesive</td>\n",
       "      <td>Philippines</td>\n",
       "      <td>Villasis</td>\n",
       "      <td>15.901640</td>\n",
       "      <td>120.587828</td>\n",
       "      <td>Teal</td>\n",
       "      <td>True</td>\n",
       "      <td>21/02/2008</td>\n",
       "      <td>98725.42</td>\n",
       "      <td>0.4654</td>\n",
       "      <td>18718.58</td>\n",
       "      <td>0.04</td>\n",
       "      <td>206.7</td>\n",
       "      <td>12.2</td>\n",
       "    </tr>\n",
       "    <tr>\n",
       "      <th>9999</th>\n",
       "      <td>Toyota</td>\n",
       "      <td>Sequoia</td>\n",
       "      <td>Zedekiah</td>\n",
       "      <td>Female</td>\n",
       "      <td>Male</td>\n",
       "      <td>21</td>\n",
       "      <td>analyzing</td>\n",
       "      <td>Philippines</td>\n",
       "      <td>Basud</td>\n",
       "      <td>14.048167</td>\n",
       "      <td>122.955697</td>\n",
       "      <td>Pink</td>\n",
       "      <td>False</td>\n",
       "      <td>16/12/2017</td>\n",
       "      <td>96769.78</td>\n",
       "      <td>0.5446</td>\n",
       "      <td>4545.95</td>\n",
       "      <td>0.07</td>\n",
       "      <td>242.1</td>\n",
       "      <td>3.2</td>\n",
       "    </tr>\n",
       "  </tbody>\n",
       "</table>\n",
       "<p>10000 rows × 20 columns</p>\n",
       "</div>"
      ],
      "text/plain": [
       "         Make        Model    Nickname  ... 5-yr Depreciation Top Speed  0-60 Time\n",
       "0      Suzuki       Vitara  Philippine  ...              0.13     200.9       11.5\n",
       "1       Honda        S2000      Henrik  ...              0.02     158.5        8.8\n",
       "2         BMW           Z4      Lebbie  ...              0.24     149.5       14.4\n",
       "3      Toyota       Tacoma    Jefferey  ...              0.20     153.3       11.5\n",
       "4        Ford      Festiva     Glendon  ...              0.18     122.0       14.9\n",
       "...       ...          ...         ...  ...               ...       ...        ...\n",
       "9995    Mazda      Tribute      Cooper  ...              0.14     245.8        8.0\n",
       "9996      GMC  Sierra 2500         Dud  ...              0.11     147.4       12.3\n",
       "9997  Mercury      Mariner     Chariot  ...              0.12     198.1       11.8\n",
       "9998   Daewoo      Leganza       Dynah  ...              0.04     206.7       12.2\n",
       "9999   Toyota      Sequoia    Zedekiah  ...              0.07     242.1        3.2\n",
       "\n",
       "[10000 rows x 20 columns]"
      ]
     },
     "execution_count": 62,
     "metadata": {},
     "output_type": "execute_result"
    }
   ],
   "source": [
    "data"
   ]
  },
  {
   "cell_type": "markdown",
   "metadata": {
    "id": "b8yDq5qWFTPz"
   },
   "source": [
    "**2.To check for the null values in the datset**"
   ]
  },
  {
   "cell_type": "code",
   "execution_count": 63,
   "metadata": {
    "colab": {
     "base_uri": "https://localhost:8080/"
    },
    "id": "okI0lBE_FdfP",
    "outputId": "e59e69d2-6349-4d31-ced2-815877b617b6"
   },
   "outputs": [
    {
     "data": {
      "text/plain": [
       "Make                 0\n",
       "Model                0\n",
       "Nickname             0\n",
       "Car Gender           0\n",
       "Buyer Gender         0\n",
       "Buyer Age            0\n",
       "Buzzword             0\n",
       "Country              0\n",
       "City                 0\n",
       "Dealer Latitude      0\n",
       "Dealer Longitude     0\n",
       "Color                0\n",
       "New Car              0\n",
       "Purchase Date        0\n",
       "Sale Price           0\n",
       "Discount             0\n",
       "Resell Price         0\n",
       "5-yr Depreciation    0\n",
       "Top Speed            0\n",
       "0-60 Time            0\n",
       "dtype: int64"
      ]
     },
     "execution_count": 63,
     "metadata": {},
     "output_type": "execute_result"
    }
   ],
   "source": [
    "data.isnull().sum()"
   ]
  },
  {
   "cell_type": "markdown",
   "metadata": {
    "id": "up_2VG5eH8jp"
   },
   "source": [
    "Null values present in each column of the dataset is zero."
   ]
  },
  {
   "cell_type": "code",
   "execution_count": 64,
   "metadata": {
    "colab": {
     "base_uri": "https://localhost:8080/"
    },
    "id": "1MKRL6VaIIti",
    "outputId": "cfc0cb97-351d-4bb5-ca0f-6ba9ff2f0bd1"
   },
   "outputs": [
    {
     "data": {
      "text/plain": [
       "0"
      ]
     },
     "execution_count": 64,
     "metadata": {},
     "output_type": "execute_result"
    }
   ],
   "source": [
    "data.isnull().sum().sum()"
   ]
  },
  {
   "cell_type": "markdown",
   "metadata": {
    "id": "KKoDkzZuIXpU"
   },
   "source": [
    "Hence the total null values in the dataset is zero."
   ]
  },
  {
   "cell_type": "markdown",
   "metadata": {
    "id": "yUiAFiJDFhSm"
   },
   "source": [
    "**3.Bar graph of female buyers vs male buyers**"
   ]
  },
  {
   "cell_type": "code",
   "execution_count": 65,
   "metadata": {
    "id": "C17nBxZaJEMP"
   },
   "outputs": [],
   "source": [
    "df = pd.DataFrame(data)"
   ]
  },
  {
   "cell_type": "code",
   "execution_count": 66,
   "metadata": {
    "colab": {
     "base_uri": "https://localhost:8080/"
    },
    "id": "AkguZb81x9Ef",
    "outputId": "2b1a33bf-ec83-4141-e73c-c86248c634b4"
   },
   "outputs": [
    {
     "data": {
      "text/plain": [
       "Female    5052\n",
       "Male      4948\n",
       "Name: Buyer Gender, dtype: int64"
      ]
     },
     "execution_count": 66,
     "metadata": {},
     "output_type": "execute_result"
    }
   ],
   "source": [
    "df[\"Buyer Gender\"].value_counts()"
   ]
  },
  {
   "cell_type": "code",
   "execution_count": 67,
   "metadata": {
    "colab": {
     "base_uri": "https://localhost:8080/",
     "height": 322
    },
    "id": "fuS35WX9KiJ3",
    "outputId": "67d6068c-c81e-4c4b-9b78-3ce5551e20d5"
   },
   "outputs": [
    {
     "data": {
      "image/png": "[encoded data removed]",
      "text/plain": [
       "<Figure size 432x288 with 1 Axes>"
      ]
     },
     "metadata": {
      "needs_background": "light"
     },
     "output_type": "display_data"
    }
   ],
   "source": [
    "df[\"Buyer Gender\"].value_counts().plot(kind='bar')\n",
    "plt.title(\"Bar graph of female buyers vs male buyers\",fontsize=14)\n",
    "plt.ylabel(\"Number of Buyers\")\n",
    "plt.xlabel(\"Buyer Gender\")\n",
    "plt.show()"
   ]
  },
  {
   "cell_type": "markdown",
   "metadata": {
    "id": "t14yXFQxKrF9"
   },
   "source": [
    "The graph is displayed with female buyers 5052 and male buyers 4948."
   ]
  },
  {
   "cell_type": "markdown",
   "metadata": {
    "id": "6H1wGVW-NB9C"
   },
   "source": [
    "**4.Top five cars based on their sale price**"
   ]
  },
  {
   "cell_type": "code",
   "execution_count": 68,
   "metadata": {
    "colab": {
     "base_uri": "https://localhost:8080/",
     "height": 292
    },
    "id": "-UYTrg9OP46p",
    "outputId": "a81efe7a-0d64-484f-f90b-ee4e6fd79103"
   },
   "outputs": [
    {
     "data": {
      "text/html": [
       "<div>\n",
       "<style scoped>\n",
       "    .dataframe tbody tr th:only-of-type {\n",
       "        vertical-align: middle;\n",
       "    }\n",
       "\n",
       "    .dataframe tbody tr th {\n",
       "        vertical-align: top;\n",
       "    }\n",
       "\n",
       "    .dataframe thead th {\n",
       "        text-align: right;\n",
       "    }\n",
       "</style>\n",
       "<table border=\"1\" class=\"dataframe\">\n",
       "  <thead>\n",
       "    <tr style=\"text-align: right;\">\n",
       "      <th></th>\n",
       "      <th>Make</th>\n",
       "      <th>Model</th>\n",
       "      <th>Nickname</th>\n",
       "      <th>Car Gender</th>\n",
       "      <th>Buyer Gender</th>\n",
       "      <th>Buyer Age</th>\n",
       "      <th>Buzzword</th>\n",
       "      <th>Country</th>\n",
       "      <th>City</th>\n",
       "      <th>Dealer Latitude</th>\n",
       "      <th>Dealer Longitude</th>\n",
       "      <th>Color</th>\n",
       "      <th>New Car</th>\n",
       "      <th>Purchase Date</th>\n",
       "      <th>Sale Price</th>\n",
       "      <th>Discount</th>\n",
       "      <th>Resell Price</th>\n",
       "      <th>5-yr Depreciation</th>\n",
       "      <th>Top Speed</th>\n",
       "      <th>0-60 Time</th>\n",
       "    </tr>\n",
       "  </thead>\n",
       "  <tbody>\n",
       "    <tr>\n",
       "      <th>5984</th>\n",
       "      <td>Volkswagen</td>\n",
       "      <td>Jetta III</td>\n",
       "      <td>Rachael</td>\n",
       "      <td>Female</td>\n",
       "      <td>Female</td>\n",
       "      <td>73</td>\n",
       "      <td>core</td>\n",
       "      <td>Russia</td>\n",
       "      <td>Krasnoyarka</td>\n",
       "      <td>59.418208</td>\n",
       "      <td>60.514706</td>\n",
       "      <td>Blue</td>\n",
       "      <td>False</td>\n",
       "      <td>10/05/2014</td>\n",
       "      <td>99997.65</td>\n",
       "      <td>0.1695</td>\n",
       "      <td>31601.95</td>\n",
       "      <td>0.06</td>\n",
       "      <td>204.9</td>\n",
       "      <td>12.6</td>\n",
       "    </tr>\n",
       "    <tr>\n",
       "      <th>1270</th>\n",
       "      <td>Audi</td>\n",
       "      <td>A6</td>\n",
       "      <td>Thorn</td>\n",
       "      <td>Male</td>\n",
       "      <td>Male</td>\n",
       "      <td>75</td>\n",
       "      <td>function</td>\n",
       "      <td>Latvia</td>\n",
       "      <td>Līgatne</td>\n",
       "      <td>57.236340</td>\n",
       "      <td>25.038073</td>\n",
       "      <td>Blue</td>\n",
       "      <td>True</td>\n",
       "      <td>30/01/2017</td>\n",
       "      <td>99991.91</td>\n",
       "      <td>0.4692</td>\n",
       "      <td>34711.19</td>\n",
       "      <td>0.16</td>\n",
       "      <td>171.3</td>\n",
       "      <td>13.0</td>\n",
       "    </tr>\n",
       "    <tr>\n",
       "      <th>3460</th>\n",
       "      <td>Lexus</td>\n",
       "      <td>LX</td>\n",
       "      <td>Aldin</td>\n",
       "      <td>Female</td>\n",
       "      <td>Male</td>\n",
       "      <td>38</td>\n",
       "      <td>software</td>\n",
       "      <td>Malaysia</td>\n",
       "      <td>Pasir Mas</td>\n",
       "      <td>6.109065</td>\n",
       "      <td>102.133622</td>\n",
       "      <td>Orange</td>\n",
       "      <td>False</td>\n",
       "      <td>04/03/2018</td>\n",
       "      <td>99983.38</td>\n",
       "      <td>0.1170</td>\n",
       "      <td>21462.44</td>\n",
       "      <td>0.12</td>\n",
       "      <td>193.7</td>\n",
       "      <td>4.5</td>\n",
       "    </tr>\n",
       "    <tr>\n",
       "      <th>9032</th>\n",
       "      <td>Mazda</td>\n",
       "      <td>MX-6</td>\n",
       "      <td>Sylvester</td>\n",
       "      <td>Female</td>\n",
       "      <td>Male</td>\n",
       "      <td>26</td>\n",
       "      <td>internet solution</td>\n",
       "      <td>Russia</td>\n",
       "      <td>Krutaya Gorka</td>\n",
       "      <td>55.369917</td>\n",
       "      <td>73.222396</td>\n",
       "      <td>Pink</td>\n",
       "      <td>False</td>\n",
       "      <td>11/12/2014</td>\n",
       "      <td>99978.17</td>\n",
       "      <td>0.6021</td>\n",
       "      <td>45958.19</td>\n",
       "      <td>0.15</td>\n",
       "      <td>232.0</td>\n",
       "      <td>3.9</td>\n",
       "    </tr>\n",
       "    <tr>\n",
       "      <th>302</th>\n",
       "      <td>Lexus</td>\n",
       "      <td>ES</td>\n",
       "      <td>Brig</td>\n",
       "      <td>Female</td>\n",
       "      <td>Male</td>\n",
       "      <td>39</td>\n",
       "      <td>user-facing</td>\n",
       "      <td>Canada</td>\n",
       "      <td>Langford</td>\n",
       "      <td>48.447463</td>\n",
       "      <td>-123.495634</td>\n",
       "      <td>Maroon</td>\n",
       "      <td>False</td>\n",
       "      <td>26/07/2018</td>\n",
       "      <td>99973.44</td>\n",
       "      <td>0.6294</td>\n",
       "      <td>32521.53</td>\n",
       "      <td>0.21</td>\n",
       "      <td>228.1</td>\n",
       "      <td>4.7</td>\n",
       "    </tr>\n",
       "  </tbody>\n",
       "</table>\n",
       "</div>"
      ],
      "text/plain": [
       "            Make      Model   Nickname  ... 5-yr Depreciation Top Speed  0-60 Time\n",
       "5984  Volkswagen  Jetta III    Rachael  ...              0.06     204.9       12.6\n",
       "1270        Audi         A6      Thorn  ...              0.16     171.3       13.0\n",
       "3460       Lexus         LX      Aldin  ...              0.12     193.7        4.5\n",
       "9032       Mazda       MX-6  Sylvester  ...              0.15     232.0        3.9\n",
       "302        Lexus         ES       Brig  ...              0.21     228.1        4.7\n",
       "\n",
       "[5 rows x 20 columns]"
      ]
     },
     "execution_count": 68,
     "metadata": {},
     "output_type": "execute_result"
    }
   ],
   "source": [
    "top_5=df.sort_values(\"Sale Price\",ascending=False)\n",
    "top_5.head(5)"
   ]
  },
  {
   "cell_type": "markdown",
   "metadata": {
    "id": "jD5M2f9wK6Zl"
   },
   "source": [
    "The top five cars based on their sale price are Volkswagen,Audi,Lexus,Mazda and Lexus."
   ]
  },
  {
   "cell_type": "markdown",
   "metadata": {
    "id": "hYdD_qFIQea4"
   },
   "source": [
    "**5.Least five cars based on resell price**"
   ]
  },
  {
   "cell_type": "code",
   "execution_count": 69,
   "metadata": {
    "colab": {
     "base_uri": "https://localhost:8080/",
     "height": 292
    },
    "id": "_VH0VZFnavCR",
    "outputId": "92dafc02-16a4-41ae-c597-ee5b76c514bd"
   },
   "outputs": [
    {
     "data": {
      "text/html": [
       "<div>\n",
       "<style scoped>\n",
       "    .dataframe tbody tr th:only-of-type {\n",
       "        vertical-align: middle;\n",
       "    }\n",
       "\n",
       "    .dataframe tbody tr th {\n",
       "        vertical-align: top;\n",
       "    }\n",
       "\n",
       "    .dataframe thead th {\n",
       "        text-align: right;\n",
       "    }\n",
       "</style>\n",
       "<table border=\"1\" class=\"dataframe\">\n",
       "  <thead>\n",
       "    <tr style=\"text-align: right;\">\n",
       "      <th></th>\n",
       "      <th>Make</th>\n",
       "      <th>Model</th>\n",
       "      <th>Nickname</th>\n",
       "      <th>Car Gender</th>\n",
       "      <th>Buyer Gender</th>\n",
       "      <th>Buyer Age</th>\n",
       "      <th>Buzzword</th>\n",
       "      <th>Country</th>\n",
       "      <th>City</th>\n",
       "      <th>Dealer Latitude</th>\n",
       "      <th>Dealer Longitude</th>\n",
       "      <th>Color</th>\n",
       "      <th>New Car</th>\n",
       "      <th>Purchase Date</th>\n",
       "      <th>Sale Price</th>\n",
       "      <th>Discount</th>\n",
       "      <th>Resell Price</th>\n",
       "      <th>5-yr Depreciation</th>\n",
       "      <th>Top Speed</th>\n",
       "      <th>0-60 Time</th>\n",
       "    </tr>\n",
       "  </thead>\n",
       "  <tbody>\n",
       "    <tr>\n",
       "      <th>2446</th>\n",
       "      <td>Chevrolet</td>\n",
       "      <td>1500</td>\n",
       "      <td>Corenda</td>\n",
       "      <td>Male</td>\n",
       "      <td>Female</td>\n",
       "      <td>25</td>\n",
       "      <td>collaboration</td>\n",
       "      <td>Philippines</td>\n",
       "      <td>Tubigan</td>\n",
       "      <td>8.490877</td>\n",
       "      <td>124.345771</td>\n",
       "      <td>Khaki</td>\n",
       "      <td>False</td>\n",
       "      <td>20/03/2002</td>\n",
       "      <td>49909.44</td>\n",
       "      <td>0.4480</td>\n",
       "      <td>2000.84</td>\n",
       "      <td>0.25</td>\n",
       "      <td>239.6</td>\n",
       "      <td>11.2</td>\n",
       "    </tr>\n",
       "    <tr>\n",
       "      <th>4933</th>\n",
       "      <td>GMC</td>\n",
       "      <td>Savana 1500</td>\n",
       "      <td>Lark</td>\n",
       "      <td>Female</td>\n",
       "      <td>Female</td>\n",
       "      <td>34</td>\n",
       "      <td>interactive</td>\n",
       "      <td>Poland</td>\n",
       "      <td>Śródmieście</td>\n",
       "      <td>53.838651</td>\n",
       "      <td>22.988241</td>\n",
       "      <td>Blue</td>\n",
       "      <td>False</td>\n",
       "      <td>15/04/2010</td>\n",
       "      <td>80084.82</td>\n",
       "      <td>0.2334</td>\n",
       "      <td>2005.44</td>\n",
       "      <td>0.01</td>\n",
       "      <td>158.7</td>\n",
       "      <td>9.0</td>\n",
       "    </tr>\n",
       "    <tr>\n",
       "      <th>566</th>\n",
       "      <td>Jaguar</td>\n",
       "      <td>XF</td>\n",
       "      <td>Payton</td>\n",
       "      <td>Female</td>\n",
       "      <td>Male</td>\n",
       "      <td>64</td>\n",
       "      <td>Visionary</td>\n",
       "      <td>Nigeria</td>\n",
       "      <td>Ikot-Ekpene</td>\n",
       "      <td>5.174447</td>\n",
       "      <td>7.714515</td>\n",
       "      <td>Red</td>\n",
       "      <td>True</td>\n",
       "      <td>26/01/2016</td>\n",
       "      <td>24124.99</td>\n",
       "      <td>0.5328</td>\n",
       "      <td>2014.09</td>\n",
       "      <td>0.19</td>\n",
       "      <td>249.3</td>\n",
       "      <td>6.9</td>\n",
       "    </tr>\n",
       "    <tr>\n",
       "      <th>2538</th>\n",
       "      <td>Mitsubishi</td>\n",
       "      <td>3000GT</td>\n",
       "      <td>Thia</td>\n",
       "      <td>Female</td>\n",
       "      <td>Female</td>\n",
       "      <td>25</td>\n",
       "      <td>well-modulated</td>\n",
       "      <td>China</td>\n",
       "      <td>Yanweigang</td>\n",
       "      <td>34.509325</td>\n",
       "      <td>119.751715</td>\n",
       "      <td>Goldenrod</td>\n",
       "      <td>True</td>\n",
       "      <td>13/02/2011</td>\n",
       "      <td>88195.95</td>\n",
       "      <td>0.0391</td>\n",
       "      <td>2017.24</td>\n",
       "      <td>0.14</td>\n",
       "      <td>222.0</td>\n",
       "      <td>10.3</td>\n",
       "    </tr>\n",
       "    <tr>\n",
       "      <th>5869</th>\n",
       "      <td>Infiniti</td>\n",
       "      <td>G37</td>\n",
       "      <td>Sonny</td>\n",
       "      <td>Male</td>\n",
       "      <td>Male</td>\n",
       "      <td>20</td>\n",
       "      <td>optimizing</td>\n",
       "      <td>France</td>\n",
       "      <td>Clermont-Ferrand</td>\n",
       "      <td>45.786764</td>\n",
       "      <td>3.160264</td>\n",
       "      <td>Indigo</td>\n",
       "      <td>False</td>\n",
       "      <td>24/11/2002</td>\n",
       "      <td>77791.65</td>\n",
       "      <td>0.5691</td>\n",
       "      <td>2017.83</td>\n",
       "      <td>0.04</td>\n",
       "      <td>131.6</td>\n",
       "      <td>12.3</td>\n",
       "    </tr>\n",
       "  </tbody>\n",
       "</table>\n",
       "</div>"
      ],
      "text/plain": [
       "            Make        Model Nickname  ... 5-yr Depreciation Top Speed  0-60 Time\n",
       "2446   Chevrolet         1500  Corenda  ...              0.25     239.6       11.2\n",
       "4933         GMC  Savana 1500     Lark  ...              0.01     158.7        9.0\n",
       "566       Jaguar           XF   Payton  ...              0.19     249.3        6.9\n",
       "2538  Mitsubishi       3000GT     Thia  ...              0.14     222.0       10.3\n",
       "5869    Infiniti          G37    Sonny  ...              0.04     131.6       12.3\n",
       "\n",
       "[5 rows x 20 columns]"
      ]
     },
     "execution_count": 69,
     "metadata": {},
     "output_type": "execute_result"
    }
   ],
   "source": [
    "bott_5=df.sort_values(\"Resell Price\",ascending=True)\n",
    "bott_5.head(5)"
   ]
  },
  {
   "cell_type": "markdown",
   "metadata": {
    "id": "Ja6phi1iLR1m"
   },
   "source": [
    "The least five cars based on their resell price are Chevrolet,GMC,Jaguar,Mitsubishi and Infiniti."
   ]
  }
 ],
 "metadata": {
  "colab": {
   "collapsed_sections": [],
   "name": "SANGEETHA N S",
   "provenance": []
  },
  "kernelspec": {
   "display_name": "Python 3",
   "language": "python",
   "name": "python3"
  },
  "language_info": {
   "codemirror_mode": {
    "name": "ipython",
    "version": 3
   },
   "file_extension": ".py",
   "mimetype": "text/x-python",
   "name": "python",
   "nbconvert_exporter": "python",
   "pygments_lexer": "ipython3",
   "version": "3.8.8"
  }
 },
 "nbformat": 4,
 "nbformat_minor": 1
}
